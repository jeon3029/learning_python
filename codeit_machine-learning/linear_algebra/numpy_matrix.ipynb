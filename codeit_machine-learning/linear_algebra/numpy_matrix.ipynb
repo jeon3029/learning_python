{
 "metadata": {
  "language_info": {
   "codemirror_mode": {
    "name": "ipython",
    "version": 3
   },
   "file_extension": ".py",
   "mimetype": "text/x-python",
   "name": "python",
   "nbconvert_exporter": "python",
   "pygments_lexer": "ipython3",
   "version": "3.6.9-final"
  },
  "orig_nbformat": 2,
  "kernelspec": {
   "name": "python_defaultSpec_1600407968260",
   "display_name": "Python 3.6.9 64-bit"
  }
 },
 "nbformat": 4,
 "nbformat_minor": 2,
 "cells": [
  {
   "cell_type": "code",
   "execution_count": 5,
   "metadata": {},
   "outputs": [],
   "source": [
    "import numpy as np"
   ]
  },
  {
   "source": [
    "## numpy 행렬 기본 문법"
   ],
   "cell_type": "markdown",
   "metadata": {}
  },
  {
   "cell_type": "code",
   "execution_count": 6,
   "metadata": {},
   "outputs": [
    {
     "output_type": "execute_result",
     "data": {
      "text/plain": "array([[ 1, -1,  2],\n       [ 3,  2,  2],\n       [ 4,  1,  2],\n       [ 7,  5,  6]])"
     },
     "metadata": {},
     "execution_count": 6
    }
   ],
   "source": [
    "A = np.array([\n",
    "    [1,-1,2],\n",
    "    [3,2,2],\n",
    "    [4,1,2],\n",
    "    [7,5,6]\n",
    "])\n",
    "A"
   ]
  },
  {
   "cell_type": "code",
   "execution_count": 7,
   "metadata": {},
   "outputs": [
    {
     "output_type": "execute_result",
     "data": {
      "text/plain": "array([[ 0,  1],\n       [-1,  3],\n       [ 5,  2]])"
     },
     "metadata": {},
     "execution_count": 7
    }
   ],
   "source": [
    "B = np.array([\n",
    "    [0,1],\n",
    "    [-1,3],\n",
    "    [5,2]\n",
    "])\n",
    "B"
   ]
  },
  {
   "cell_type": "code",
   "execution_count": 8,
   "metadata": {},
   "outputs": [
    {
     "output_type": "execute_result",
     "data": {
      "text/plain": "array([[0.91571098, 0.56784833, 0.12693403, 0.38227799, 0.84668453],\n       [0.79390385, 0.26569753, 0.08478224, 0.05510773, 0.82023569],\n       [0.67502213, 0.56203404, 0.07290756, 0.04292003, 0.28596526]])"
     },
     "metadata": {},
     "execution_count": 8
    }
   ],
   "source": [
    "C = np.random.rand(3,5) # 0~1 random value\n",
    "C"
   ]
  },
  {
   "cell_type": "code",
   "execution_count": 9,
   "metadata": {},
   "outputs": [
    {
     "output_type": "execute_result",
     "data": {
      "text/plain": "array([[0., 0., 0., 0.],\n       [0., 0., 0., 0.]])"
     },
     "metadata": {},
     "execution_count": 9
    }
   ],
   "source": [
    "D = np.zeros((2,4))\n",
    "D"
   ]
  },
  {
   "cell_type": "code",
   "execution_count": 10,
   "metadata": {},
   "outputs": [
    {
     "output_type": "execute_result",
     "data": {
      "text/plain": "2"
     },
     "metadata": {},
     "execution_count": 10
    }
   ],
   "source": [
    "A[0][2] # 1행 3열"
   ]
  },
  {
   "source": [
    "## numpy 행렬 연산"
   ],
   "cell_type": "markdown",
   "metadata": {}
  },
  {
   "cell_type": "code",
   "execution_count": 15,
   "metadata": {},
   "outputs": [],
   "source": [
    "A = np.array([\n",
    "    [ 1, -1,  2],\n",
    "       [ 3,  2,  2],\n",
    "       [ 4,  1,  2]\n",
    "       ])"
   ]
  },
  {
   "cell_type": "code",
   "execution_count": 16,
   "metadata": {},
   "outputs": [
    {
     "output_type": "execute_result",
     "data": {
      "text/plain": "array([[0.48799877, 0.18812185, 0.9549234 ],\n       [0.58124187, 0.12681338, 0.83774583],\n       [0.59274641, 0.57167253, 0.29453573]])"
     },
     "metadata": {},
     "execution_count": 16
    }
   ],
   "source": [
    "B = np.random.rand(3,3)\n",
    "B"
   ]
  },
  {
   "cell_type": "code",
   "execution_count": 17,
   "metadata": {},
   "outputs": [
    {
     "output_type": "execute_result",
     "data": {
      "text/plain": "array([[ 1.48799877, -0.81187815,  2.9549234 ],\n       [ 3.58124187,  2.12681338,  2.83774583],\n       [ 4.59274641,  1.57167253,  2.29453573]])"
     },
     "metadata": {},
     "execution_count": 17
    }
   ],
   "source": [
    "A+B"
   ]
  },
  {
   "cell_type": "code",
   "execution_count": 18,
   "metadata": {},
   "outputs": [
    {
     "output_type": "execute_result",
     "data": {
      "text/plain": "array([[ 5, -5, 10],\n       [15, 10, 10],\n       [20,  5, 10]])"
     },
     "metadata": {},
     "execution_count": 18
    }
   ],
   "source": [
    "5*A"
   ]
  },
  {
   "cell_type": "code",
   "execution_count": 19,
   "metadata": {},
   "outputs": [
    {
     "output_type": "execute_result",
     "data": {
      "text/plain": "array([[1.09224971, 1.20465353, 0.70624903],\n       [3.81197288, 1.96133737, 5.12933333],\n       [3.71872977, 2.02264583, 5.2465109 ]])"
     },
     "metadata": {},
     "execution_count": 19
    }
   ],
   "source": [
    "np.dot(A,B)"
   ]
  },
  {
   "cell_type": "code",
   "execution_count": 20,
   "metadata": {},
   "outputs": [
    {
     "output_type": "execute_result",
     "data": {
      "text/plain": "array([[1.09224971, 1.20465353, 0.70624903],\n       [3.81197288, 1.96133737, 5.12933333],\n       [3.71872977, 2.02264583, 5.2465109 ]])"
     },
     "metadata": {},
     "execution_count": 20
    }
   ],
   "source": [
    "A@B"
   ]
  },
  {
   "cell_type": "code",
   "execution_count": 21,
   "metadata": {},
   "outputs": [
    {
     "output_type": "execute_result",
     "data": {
      "text/plain": "array([[ 0.48799877, -0.18812185,  1.9098468 ],\n       [ 1.74372562,  0.25362677,  1.67549166],\n       [ 2.37098563,  0.57167253,  0.58907146]])"
     },
     "metadata": {},
     "execution_count": 21
    }
   ],
   "source": [
    "A*B # 요소 곱"
   ]
  },
  {
   "cell_type": "code",
   "execution_count": 22,
   "metadata": {},
   "outputs": [
    {
     "output_type": "execute_result",
     "data": {
      "text/plain": "array([[3.06824726, 0.58089722, 4.61609584],\n       [7.97445662, 4.21496413, 8.80482499],\n       [8.90422259, 4.1659909 , 7.83558237]])"
     },
     "metadata": {},
     "execution_count": 22
    }
   ],
   "source": [
    "A@B + (A+2*B)"
   ]
  },
  {
   "source": [
    "## 전치, 단위, 역행렬"
   ],
   "cell_type": "markdown",
   "metadata": {}
  },
  {
   "cell_type": "code",
   "execution_count": 23,
   "metadata": {},
   "outputs": [
    {
     "output_type": "execute_result",
     "data": {
      "text/plain": "array([[ 1, -1,  2],\n       [ 3,  2,  2],\n       [ 4,  1,  2]])"
     },
     "metadata": {},
     "execution_count": 23
    }
   ],
   "source": [
    "A"
   ]
  },
  {
   "cell_type": "code",
   "execution_count": 24,
   "metadata": {},
   "outputs": [
    {
     "output_type": "execute_result",
     "data": {
      "text/plain": "array([[ 1,  3,  4],\n       [-1,  2,  1],\n       [ 2,  2,  2]])"
     },
     "metadata": {},
     "execution_count": 24
    }
   ],
   "source": [
    "np.transpose(A) # 전치"
   ]
  },
  {
   "cell_type": "code",
   "execution_count": 25,
   "metadata": {},
   "outputs": [
    {
     "output_type": "execute_result",
     "data": {
      "text/plain": "array([[ 1,  3,  4],\n       [-1,  2,  1],\n       [ 2,  2,  2]])"
     },
     "metadata": {},
     "execution_count": 25
    }
   ],
   "source": [
    "A.T"
   ]
  },
  {
   "cell_type": "code",
   "execution_count": 26,
   "metadata": {},
   "outputs": [
    {
     "output_type": "execute_result",
     "data": {
      "text/plain": "array([[1., 0., 0.],\n       [0., 1., 0.],\n       [0., 0., 1.]])"
     },
     "metadata": {},
     "execution_count": 26
    }
   ],
   "source": [
    "np.identity(3)"
   ]
  },
  {
   "cell_type": "code",
   "execution_count": 27,
   "metadata": {},
   "outputs": [
    {
     "output_type": "execute_result",
     "data": {
      "text/plain": "array([[ 1., -1.,  2.],\n       [ 3.,  2.,  2.],\n       [ 4.,  1.,  2.]])"
     },
     "metadata": {},
     "execution_count": 27
    }
   ],
   "source": [
    "A @ np.identity(3)"
   ]
  },
  {
   "cell_type": "code",
   "execution_count": 29,
   "metadata": {},
   "outputs": [
    {
     "output_type": "execute_result",
     "data": {
      "text/plain": "array([[-0.2, -0.4,  0.6],\n       [-0.2,  0.6, -0.4],\n       [ 0.5,  0.5, -0.5]])"
     },
     "metadata": {},
     "execution_count": 29
    }
   ],
   "source": [
    "A_inv = np.linalg.pinv(A) #pinv 는 역행렬 없어도 비슷한 값 출력해줌\n",
    "A_inv"
   ]
  },
  {
   "cell_type": "code",
   "execution_count": 30,
   "metadata": {},
   "outputs": [
    {
     "output_type": "execute_result",
     "data": {
      "text/plain": "array([[ 1.00000000e+00,  7.77156117e-16, -8.88178420e-16],\n       [ 0.00000000e+00,  1.00000000e+00, -8.88178420e-16],\n       [ 0.00000000e+00,  4.44089210e-16,  1.00000000e+00]])"
     },
     "metadata": {},
     "execution_count": 30
    }
   ],
   "source": [
    "A @ A_inv # floating point precision 문제 존재함"
   ]
  },
  {
   "cell_type": "code",
   "execution_count": null,
   "metadata": {},
   "outputs": [],
   "source": []
  }
 ]
}