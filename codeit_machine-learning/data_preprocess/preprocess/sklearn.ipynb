{
 "metadata": {
  "language_info": {
   "codemirror_mode": {
    "name": "ipython",
    "version": 3
   },
   "file_extension": ".py",
   "mimetype": "text/x-python",
   "name": "python",
   "nbconvert_exporter": "python",
   "pygments_lexer": "ipython3",
   "version": "3.8.5-final"
  },
  "orig_nbformat": 2,
  "kernelspec": {
   "name": "python_defaultSpec_1600838711978",
   "display_name": "Python 3.8.5 64-bit"
  }
 },
 "nbformat": 4,
 "nbformat_minor": 2,
 "cells": [
  {
   "source": [
    "## feature scaling"
   ],
   "cell_type": "markdown",
   "metadata": {}
  },
  {
   "cell_type": "code",
   "execution_count": 5,
   "metadata": {},
   "outputs": [],
   "source": [
    "import pandas as pd\n",
    "import numpy as np\n",
    "\n",
    "from sklearn import preprocessing"
   ]
  },
  {
   "cell_type": "code",
   "execution_count": 6,
   "metadata": {},
   "outputs": [
    {
     "output_type": "execute_result",
     "data": {
      "text/plain": "           Player                    Team Conference          Date Position  \\\n0    Jayson Tatum          Boston Celtics       East  Feb 10, 2020       SF   \n1    Nikola Jokic          Denver Nuggets       West  Feb 10, 2020        C   \n2    Jaylen Brown          Boston Celtics       East   Feb 3, 2020       SF   \n3  Damian Lillard  Portland Trail Blazers       West   Feb 3, 2020        G   \n4   Pascal Siakam         Toronto Raptors       East  Jan 27, 2020        F   \n\n  Height  Weight  Age  Draft Year  Seasons in league     Season  Season short  \\\n0    6'8     208   21        2017                  2  2019-2020          2020   \n1    7'0     250   25        2014                  4  2019-2020          2020   \n2    6'7     220   23        2016                  3  2019-2020          2020   \n3    6'3     195   29        2012                  7  2019-2020          2020   \n4    6'9     230   25        2016                  3  2019-2020          2020   \n\n           Pre-draft Team  Real_value  Height CM  Weight KG  Last Season  \n0                    Duke     0.50000        203         94            1  \n1  KK Mega Bemax (Serbia)     0.50000        213        113            1  \n2              California     0.50000        201         99            1  \n3             Weber State     0.50000        190         88            1  \n4        New Mexico State     0.50000        206        104            1  ",
      "text/html": "<div>\n<style scoped>\n    .dataframe tbody tr th:only-of-type {\n        vertical-align: middle;\n    }\n\n    .dataframe tbody tr th {\n        vertical-align: top;\n    }\n\n    .dataframe thead th {\n        text-align: right;\n    }\n</style>\n<table border=\"1\" class=\"dataframe\">\n  <thead>\n    <tr style=\"text-align: right;\">\n      <th></th>\n      <th>Player</th>\n      <th>Team</th>\n      <th>Conference</th>\n      <th>Date</th>\n      <th>Position</th>\n      <th>Height</th>\n      <th>Weight</th>\n      <th>Age</th>\n      <th>Draft Year</th>\n      <th>Seasons in league</th>\n      <th>Season</th>\n      <th>Season short</th>\n      <th>Pre-draft Team</th>\n      <th>Real_value</th>\n      <th>Height CM</th>\n      <th>Weight KG</th>\n      <th>Last Season</th>\n    </tr>\n  </thead>\n  <tbody>\n    <tr>\n      <th>0</th>\n      <td>Jayson Tatum</td>\n      <td>Boston Celtics</td>\n      <td>East</td>\n      <td>Feb 10, 2020</td>\n      <td>SF</td>\n      <td>6'8</td>\n      <td>208</td>\n      <td>21</td>\n      <td>2017</td>\n      <td>2</td>\n      <td>2019-2020</td>\n      <td>2020</td>\n      <td>Duke</td>\n      <td>0.50000</td>\n      <td>203</td>\n      <td>94</td>\n      <td>1</td>\n    </tr>\n    <tr>\n      <th>1</th>\n      <td>Nikola Jokic</td>\n      <td>Denver Nuggets</td>\n      <td>West</td>\n      <td>Feb 10, 2020</td>\n      <td>C</td>\n      <td>7'0</td>\n      <td>250</td>\n      <td>25</td>\n      <td>2014</td>\n      <td>4</td>\n      <td>2019-2020</td>\n      <td>2020</td>\n      <td>KK Mega Bemax (Serbia)</td>\n      <td>0.50000</td>\n      <td>213</td>\n      <td>113</td>\n      <td>1</td>\n    </tr>\n    <tr>\n      <th>2</th>\n      <td>Jaylen Brown</td>\n      <td>Boston Celtics</td>\n      <td>East</td>\n      <td>Feb 3, 2020</td>\n      <td>SF</td>\n      <td>6'7</td>\n      <td>220</td>\n      <td>23</td>\n      <td>2016</td>\n      <td>3</td>\n      <td>2019-2020</td>\n      <td>2020</td>\n      <td>California</td>\n      <td>0.50000</td>\n      <td>201</td>\n      <td>99</td>\n      <td>1</td>\n    </tr>\n    <tr>\n      <th>3</th>\n      <td>Damian Lillard</td>\n      <td>Portland Trail Blazers</td>\n      <td>West</td>\n      <td>Feb 3, 2020</td>\n      <td>G</td>\n      <td>6'3</td>\n      <td>195</td>\n      <td>29</td>\n      <td>2012</td>\n      <td>7</td>\n      <td>2019-2020</td>\n      <td>2020</td>\n      <td>Weber State</td>\n      <td>0.50000</td>\n      <td>190</td>\n      <td>88</td>\n      <td>1</td>\n    </tr>\n    <tr>\n      <th>4</th>\n      <td>Pascal Siakam</td>\n      <td>Toronto Raptors</td>\n      <td>East</td>\n      <td>Jan 27, 2020</td>\n      <td>F</td>\n      <td>6'9</td>\n      <td>230</td>\n      <td>25</td>\n      <td>2016</td>\n      <td>3</td>\n      <td>2019-2020</td>\n      <td>2020</td>\n      <td>New Mexico State</td>\n      <td>0.50000</td>\n      <td>206</td>\n      <td>104</td>\n      <td>1</td>\n    </tr>\n  </tbody>\n</table>\n</div>"
     },
     "metadata": {},
     "execution_count": 6
    }
   ],
   "source": [
    "df = pd.read_csv('data/NBA_player_of_the_week.csv')\n",
    "df.head()"
   ]
  },
  {
   "cell_type": "code",
   "execution_count": 7,
   "metadata": {},
   "outputs": [
    {
     "output_type": "execute_result",
     "data": {
      "text/plain": "          Weight        Age  Draft Year  Seasons in league  Season short  \\\ncount 1340.00000 1340.00000  1340.00000         1340.00000    1340.00000   \nmean   224.56716   26.73806  1996.28731            5.74030    2003.15672   \nstd     30.79888    3.40068    11.25356            3.29342      11.47016   \nmin    150.00000   19.00000  1965.00000            0.00000    1980.00000   \n25%    205.00000   24.00000  1987.00000            3.00000    1994.00000   \n50%    220.00000   26.00000  1998.00000            5.00000    2005.00000   \n75%    250.00000   29.00000  2005.00000            8.00000    2013.00000   \nmax    325.00000   40.00000  2018.00000           17.00000    2020.00000   \n\n       Real_value  Height CM  Weight KG  Last Season  \ncount  1340.00000 1340.00000 1340.00000   1340.00000  \nmean      0.68694  201.07164  101.38433      0.02388  \nstd       0.24201    9.36797   14.01123      0.15273  \nmin       0.50000  175.00000   68.00000      0.00000  \n25%       0.50000  193.00000   93.00000      0.00000  \n50%       0.50000  201.00000   99.00000      0.00000  \n75%       1.00000  208.00000  113.00000      0.00000  \nmax       1.00000  229.00000  147.00000      1.00000  ",
      "text/html": "<div>\n<style scoped>\n    .dataframe tbody tr th:only-of-type {\n        vertical-align: middle;\n    }\n\n    .dataframe tbody tr th {\n        vertical-align: top;\n    }\n\n    .dataframe thead th {\n        text-align: right;\n    }\n</style>\n<table border=\"1\" class=\"dataframe\">\n  <thead>\n    <tr style=\"text-align: right;\">\n      <th></th>\n      <th>Weight</th>\n      <th>Age</th>\n      <th>Draft Year</th>\n      <th>Seasons in league</th>\n      <th>Season short</th>\n      <th>Real_value</th>\n      <th>Height CM</th>\n      <th>Weight KG</th>\n      <th>Last Season</th>\n    </tr>\n  </thead>\n  <tbody>\n    <tr>\n      <th>count</th>\n      <td>1340.00000</td>\n      <td>1340.00000</td>\n      <td>1340.00000</td>\n      <td>1340.00000</td>\n      <td>1340.00000</td>\n      <td>1340.00000</td>\n      <td>1340.00000</td>\n      <td>1340.00000</td>\n      <td>1340.00000</td>\n    </tr>\n    <tr>\n      <th>mean</th>\n      <td>224.56716</td>\n      <td>26.73806</td>\n      <td>1996.28731</td>\n      <td>5.74030</td>\n      <td>2003.15672</td>\n      <td>0.68694</td>\n      <td>201.07164</td>\n      <td>101.38433</td>\n      <td>0.02388</td>\n    </tr>\n    <tr>\n      <th>std</th>\n      <td>30.79888</td>\n      <td>3.40068</td>\n      <td>11.25356</td>\n      <td>3.29342</td>\n      <td>11.47016</td>\n      <td>0.24201</td>\n      <td>9.36797</td>\n      <td>14.01123</td>\n      <td>0.15273</td>\n    </tr>\n    <tr>\n      <th>min</th>\n      <td>150.00000</td>\n      <td>19.00000</td>\n      <td>1965.00000</td>\n      <td>0.00000</td>\n      <td>1980.00000</td>\n      <td>0.50000</td>\n      <td>175.00000</td>\n      <td>68.00000</td>\n      <td>0.00000</td>\n    </tr>\n    <tr>\n      <th>25%</th>\n      <td>205.00000</td>\n      <td>24.00000</td>\n      <td>1987.00000</td>\n      <td>3.00000</td>\n      <td>1994.00000</td>\n      <td>0.50000</td>\n      <td>193.00000</td>\n      <td>93.00000</td>\n      <td>0.00000</td>\n    </tr>\n    <tr>\n      <th>50%</th>\n      <td>220.00000</td>\n      <td>26.00000</td>\n      <td>1998.00000</td>\n      <td>5.00000</td>\n      <td>2005.00000</td>\n      <td>0.50000</td>\n      <td>201.00000</td>\n      <td>99.00000</td>\n      <td>0.00000</td>\n    </tr>\n    <tr>\n      <th>75%</th>\n      <td>250.00000</td>\n      <td>29.00000</td>\n      <td>2005.00000</td>\n      <td>8.00000</td>\n      <td>2013.00000</td>\n      <td>1.00000</td>\n      <td>208.00000</td>\n      <td>113.00000</td>\n      <td>0.00000</td>\n    </tr>\n    <tr>\n      <th>max</th>\n      <td>325.00000</td>\n      <td>40.00000</td>\n      <td>2018.00000</td>\n      <td>17.00000</td>\n      <td>2020.00000</td>\n      <td>1.00000</td>\n      <td>229.00000</td>\n      <td>147.00000</td>\n      <td>1.00000</td>\n    </tr>\n  </tbody>\n</table>\n</div>"
     },
     "metadata": {},
     "execution_count": 7
    }
   ],
   "source": [
    "df.describe()"
   ]
  },
  {
   "cell_type": "code",
   "execution_count": 8,
   "metadata": {},
   "outputs": [
    {
     "output_type": "execute_result",
     "data": {
      "text/plain": "      Height CM  Weight KG  Age\n0           203         94   21\n1           213        113   25\n2           201         99   23\n3           190         88   29\n4           206        104   25\n...         ...        ...  ...\n1335        188         79   24\n1336        206        115   20\n1337        201         98   24\n1338        196         85   24\n1339        198         90   30\n\n[1340 rows x 3 columns]",
      "text/html": "<div>\n<style scoped>\n    .dataframe tbody tr th:only-of-type {\n        vertical-align: middle;\n    }\n\n    .dataframe tbody tr th {\n        vertical-align: top;\n    }\n\n    .dataframe thead th {\n        text-align: right;\n    }\n</style>\n<table border=\"1\" class=\"dataframe\">\n  <thead>\n    <tr style=\"text-align: right;\">\n      <th></th>\n      <th>Height CM</th>\n      <th>Weight KG</th>\n      <th>Age</th>\n    </tr>\n  </thead>\n  <tbody>\n    <tr>\n      <th>0</th>\n      <td>203</td>\n      <td>94</td>\n      <td>21</td>\n    </tr>\n    <tr>\n      <th>1</th>\n      <td>213</td>\n      <td>113</td>\n      <td>25</td>\n    </tr>\n    <tr>\n      <th>2</th>\n      <td>201</td>\n      <td>99</td>\n      <td>23</td>\n    </tr>\n    <tr>\n      <th>3</th>\n      <td>190</td>\n      <td>88</td>\n      <td>29</td>\n    </tr>\n    <tr>\n      <th>4</th>\n      <td>206</td>\n      <td>104</td>\n      <td>25</td>\n    </tr>\n    <tr>\n      <th>...</th>\n      <td>...</td>\n      <td>...</td>\n      <td>...</td>\n    </tr>\n    <tr>\n      <th>1335</th>\n      <td>188</td>\n      <td>79</td>\n      <td>24</td>\n    </tr>\n    <tr>\n      <th>1336</th>\n      <td>206</td>\n      <td>115</td>\n      <td>20</td>\n    </tr>\n    <tr>\n      <th>1337</th>\n      <td>201</td>\n      <td>98</td>\n      <td>24</td>\n    </tr>\n    <tr>\n      <th>1338</th>\n      <td>196</td>\n      <td>85</td>\n      <td>24</td>\n    </tr>\n    <tr>\n      <th>1339</th>\n      <td>198</td>\n      <td>90</td>\n      <td>30</td>\n    </tr>\n  </tbody>\n</table>\n<p>1340 rows × 3 columns</p>\n</div>"
     },
     "metadata": {},
     "execution_count": 8
    }
   ],
   "source": [
    "height_weight_age_df = df[['Height CM','Weight KG','Age']]\n",
    "height_weight_age_df"
   ]
  },
  {
   "cell_type": "code",
   "execution_count": 9,
   "metadata": {},
   "outputs": [
    {
     "output_type": "execute_result",
     "data": {
      "text/plain": "array([[0.51851852, 0.32911392, 0.0952381 ],\n       [0.7037037 , 0.56962025, 0.28571429],\n       [0.48148148, 0.39240506, 0.19047619],\n       ...,\n       [0.48148148, 0.37974684, 0.23809524],\n       [0.38888889, 0.21518987, 0.23809524],\n       [0.42592593, 0.27848101, 0.52380952]])"
     },
     "metadata": {},
     "execution_count": 9
    }
   ],
   "source": [
    "scaler = preprocessing.MinMaxScaler()\n",
    "nor_data = scaler.fit_transform(height_weight_age_df)\n",
    "nor_data"
   ]
  },
  {
   "cell_type": "code",
   "execution_count": 10,
   "metadata": {},
   "outputs": [
    {
     "output_type": "execute_result",
     "data": {
      "text/plain": "      Height  Weight     Age\n0    0.51852 0.32911 0.09524\n1    0.70370 0.56962 0.28571\n2    0.48148 0.39241 0.19048\n3    0.27778 0.25316 0.47619\n4    0.57407 0.45570 0.28571\n...      ...     ...     ...\n1335 0.24074 0.13924 0.23810\n1336 0.57407 0.59494 0.04762\n1337 0.48148 0.37975 0.23810\n1338 0.38889 0.21519 0.23810\n1339 0.42593 0.27848 0.52381\n\n[1340 rows x 3 columns]",
      "text/html": "<div>\n<style scoped>\n    .dataframe tbody tr th:only-of-type {\n        vertical-align: middle;\n    }\n\n    .dataframe tbody tr th {\n        vertical-align: top;\n    }\n\n    .dataframe thead th {\n        text-align: right;\n    }\n</style>\n<table border=\"1\" class=\"dataframe\">\n  <thead>\n    <tr style=\"text-align: right;\">\n      <th></th>\n      <th>Height</th>\n      <th>Weight</th>\n      <th>Age</th>\n    </tr>\n  </thead>\n  <tbody>\n    <tr>\n      <th>0</th>\n      <td>0.51852</td>\n      <td>0.32911</td>\n      <td>0.09524</td>\n    </tr>\n    <tr>\n      <th>1</th>\n      <td>0.70370</td>\n      <td>0.56962</td>\n      <td>0.28571</td>\n    </tr>\n    <tr>\n      <th>2</th>\n      <td>0.48148</td>\n      <td>0.39241</td>\n      <td>0.19048</td>\n    </tr>\n    <tr>\n      <th>3</th>\n      <td>0.27778</td>\n      <td>0.25316</td>\n      <td>0.47619</td>\n    </tr>\n    <tr>\n      <th>4</th>\n      <td>0.57407</td>\n      <td>0.45570</td>\n      <td>0.28571</td>\n    </tr>\n    <tr>\n      <th>...</th>\n      <td>...</td>\n      <td>...</td>\n      <td>...</td>\n    </tr>\n    <tr>\n      <th>1335</th>\n      <td>0.24074</td>\n      <td>0.13924</td>\n      <td>0.23810</td>\n    </tr>\n    <tr>\n      <th>1336</th>\n      <td>0.57407</td>\n      <td>0.59494</td>\n      <td>0.04762</td>\n    </tr>\n    <tr>\n      <th>1337</th>\n      <td>0.48148</td>\n      <td>0.37975</td>\n      <td>0.23810</td>\n    </tr>\n    <tr>\n      <th>1338</th>\n      <td>0.38889</td>\n      <td>0.21519</td>\n      <td>0.23810</td>\n    </tr>\n    <tr>\n      <th>1339</th>\n      <td>0.42593</td>\n      <td>0.27848</td>\n      <td>0.52381</td>\n    </tr>\n  </tbody>\n</table>\n<p>1340 rows × 3 columns</p>\n</div>"
     },
     "metadata": {},
     "execution_count": 10
    }
   ],
   "source": [
    "nor_df = pd.DataFrame(nor_data,columns=['Height','Weight','Age'])\n",
    "nor_df"
   ]
  },
  {
   "cell_type": "code",
   "execution_count": 11,
   "metadata": {},
   "outputs": [
    {
     "output_type": "execute_result",
     "data": {
      "text/plain": "          Height     Weight        Age\ncount 1340.00000 1340.00000 1340.00000\nmean     0.48281    0.42259    0.36848\nstd      0.17348    0.17736    0.16194\nmin      0.00000    0.00000    0.00000\n25%      0.33333    0.31646    0.23810\n50%      0.48148    0.39241    0.33333\n75%      0.61111    0.56962    0.47619\nmax      1.00000    1.00000    1.00000",
      "text/html": "<div>\n<style scoped>\n    .dataframe tbody tr th:only-of-type {\n        vertical-align: middle;\n    }\n\n    .dataframe tbody tr th {\n        vertical-align: top;\n    }\n\n    .dataframe thead th {\n        text-align: right;\n    }\n</style>\n<table border=\"1\" class=\"dataframe\">\n  <thead>\n    <tr style=\"text-align: right;\">\n      <th></th>\n      <th>Height</th>\n      <th>Weight</th>\n      <th>Age</th>\n    </tr>\n  </thead>\n  <tbody>\n    <tr>\n      <th>count</th>\n      <td>1340.00000</td>\n      <td>1340.00000</td>\n      <td>1340.00000</td>\n    </tr>\n    <tr>\n      <th>mean</th>\n      <td>0.48281</td>\n      <td>0.42259</td>\n      <td>0.36848</td>\n    </tr>\n    <tr>\n      <th>std</th>\n      <td>0.17348</td>\n      <td>0.17736</td>\n      <td>0.16194</td>\n    </tr>\n    <tr>\n      <th>min</th>\n      <td>0.00000</td>\n      <td>0.00000</td>\n      <td>0.00000</td>\n    </tr>\n    <tr>\n      <th>25%</th>\n      <td>0.33333</td>\n      <td>0.31646</td>\n      <td>0.23810</td>\n    </tr>\n    <tr>\n      <th>50%</th>\n      <td>0.48148</td>\n      <td>0.39241</td>\n      <td>0.33333</td>\n    </tr>\n    <tr>\n      <th>75%</th>\n      <td>0.61111</td>\n      <td>0.56962</td>\n      <td>0.47619</td>\n    </tr>\n    <tr>\n      <th>max</th>\n      <td>1.00000</td>\n      <td>1.00000</td>\n      <td>1.00000</td>\n    </tr>\n  </tbody>\n</table>\n</div>"
     },
     "metadata": {},
     "execution_count": 11
    }
   ],
   "source": [
    "nor_df.describe()"
   ]
  },
  {
   "source": [
    "## 표준화"
   ],
   "cell_type": "markdown",
   "metadata": {}
  },
  {
   "cell_type": "code",
   "execution_count": 12,
   "metadata": {},
   "outputs": [],
   "source": [
    "from sklearn import preprocessing\n",
    "import pandas as pd\n",
    "import numpy as np\n",
    "    \n",
    "NBA_FILE_PATH = 'data/NBA_player_of_the_week.csv'\n",
    "# 소수점 5번째 자리까지만 출력되도록 설정\n",
    "pd.set_option('display.float_format', lambda x: '%.5f' % x)\n",
    "    \n",
    "nba_player_of_the_week_df = pd.read_csv(NBA_FILE_PATH)\n",
    "    \n",
    "# 데이터를 standardize 함\n",
    "scaler = preprocessing.StandardScaler()\n",
    "standardized_data = scaler.fit_transform(height_weight_age_df)\n",
    "    \n",
    "standardized_df = pd.DataFrame(standardized_data, columns=['Height', 'Weight', 'Age'])"
   ]
  },
  {
   "cell_type": "code",
   "execution_count": 13,
   "metadata": {},
   "outputs": [
    {
     "output_type": "execute_result",
     "data": {
      "text/plain": "          Height     Weight        Age\ncount 1340.00000 1340.00000 1340.00000\nmean    -0.00000   -0.00000   -0.00000\nstd      1.00037    1.00037    1.00037\nmin     -2.78410   -2.38357   -2.27629\n25%     -0.86194   -0.59862   -0.80545\n50%     -0.00765   -0.17024   -0.21711\n75%      0.73986    0.82934    0.66539\nmax      2.98237    3.25687    3.90124",
      "text/html": "<div>\n<style scoped>\n    .dataframe tbody tr th:only-of-type {\n        vertical-align: middle;\n    }\n\n    .dataframe tbody tr th {\n        vertical-align: top;\n    }\n\n    .dataframe thead th {\n        text-align: right;\n    }\n</style>\n<table border=\"1\" class=\"dataframe\">\n  <thead>\n    <tr style=\"text-align: right;\">\n      <th></th>\n      <th>Height</th>\n      <th>Weight</th>\n      <th>Age</th>\n    </tr>\n  </thead>\n  <tbody>\n    <tr>\n      <th>count</th>\n      <td>1340.00000</td>\n      <td>1340.00000</td>\n      <td>1340.00000</td>\n    </tr>\n    <tr>\n      <th>mean</th>\n      <td>-0.00000</td>\n      <td>-0.00000</td>\n      <td>-0.00000</td>\n    </tr>\n    <tr>\n      <th>std</th>\n      <td>1.00037</td>\n      <td>1.00037</td>\n      <td>1.00037</td>\n    </tr>\n    <tr>\n      <th>min</th>\n      <td>-2.78410</td>\n      <td>-2.38357</td>\n      <td>-2.27629</td>\n    </tr>\n    <tr>\n      <th>25%</th>\n      <td>-0.86194</td>\n      <td>-0.59862</td>\n      <td>-0.80545</td>\n    </tr>\n    <tr>\n      <th>50%</th>\n      <td>-0.00765</td>\n      <td>-0.17024</td>\n      <td>-0.21711</td>\n    </tr>\n    <tr>\n      <th>75%</th>\n      <td>0.73986</td>\n      <td>0.82934</td>\n      <td>0.66539</td>\n    </tr>\n    <tr>\n      <th>max</th>\n      <td>2.98237</td>\n      <td>3.25687</td>\n      <td>3.90124</td>\n    </tr>\n  </tbody>\n</table>\n</div>"
     },
     "metadata": {},
     "execution_count": 13
    }
   ],
   "source": [
    "standardized_df.describe()\n"
   ]
  },
  {
   "cell_type": "code",
   "execution_count": null,
   "metadata": {},
   "outputs": [],
   "source": []
  }
 ]
}