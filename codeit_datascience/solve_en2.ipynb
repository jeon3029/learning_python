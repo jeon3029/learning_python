{
 "metadata": {
  "language_info": {
   "codemirror_mode": {
    "name": "ipython",
    "version": 3
   },
   "file_extension": ".py",
   "mimetype": "text/x-python",
   "name": "python",
   "nbconvert_exporter": "python",
   "pygments_lexer": "ipython3",
   "version": "3.6.9-final"
  },
  "orig_nbformat": 2,
  "kernelspec": {
   "name": "python_defaultSpec_1600149257144",
   "display_name": "Python 3.6.9 64-bit"
  }
 },
 "nbformat": 4,
 "nbformat_minor": 2,
 "cells": [
  {
   "cell_type": "code",
   "execution_count": 10,
   "metadata": {},
   "outputs": [],
   "source": [
    "import pandas as pd\n",
    "\n",
    "df = pd.read_csv('data/enrollment2.csv')"
   ]
  },
  {
   "cell_type": "code",
   "execution_count": 11,
   "metadata": {},
   "outputs": [
    {
     "output_type": "execute_result",
     "data": {
      "text/plain": "           id  year           course name   status\n0     2777729     1               science  allowed\n1     2777730     2               science  allowed\n2     2777765     1                  arts  allowed\n3     2777766     2                  arts  allowed\n4     2777785     1                   mba  allowed\n...       ...   ...                   ...      ...\n1995  2796805     3  computer application  allowed\n1996  2796812     1               nursing  allowed\n1997  2796813     2               nursing  allowed\n1998  2796814     3               nursing  allowed\n1999  2796815     4               nursing  allowed\n\n[2000 rows x 4 columns]",
      "text/html": "<div>\n<style scoped>\n    .dataframe tbody tr th:only-of-type {\n        vertical-align: middle;\n    }\n\n    .dataframe tbody tr th {\n        vertical-align: top;\n    }\n\n    .dataframe thead th {\n        text-align: right;\n    }\n</style>\n<table border=\"1\" class=\"dataframe\">\n  <thead>\n    <tr style=\"text-align: right;\">\n      <th></th>\n      <th>id</th>\n      <th>year</th>\n      <th>course name</th>\n      <th>status</th>\n    </tr>\n  </thead>\n  <tbody>\n    <tr>\n      <th>0</th>\n      <td>2777729</td>\n      <td>1</td>\n      <td>science</td>\n      <td>allowed</td>\n    </tr>\n    <tr>\n      <th>1</th>\n      <td>2777730</td>\n      <td>2</td>\n      <td>science</td>\n      <td>allowed</td>\n    </tr>\n    <tr>\n      <th>2</th>\n      <td>2777765</td>\n      <td>1</td>\n      <td>arts</td>\n      <td>allowed</td>\n    </tr>\n    <tr>\n      <th>3</th>\n      <td>2777766</td>\n      <td>2</td>\n      <td>arts</td>\n      <td>allowed</td>\n    </tr>\n    <tr>\n      <th>4</th>\n      <td>2777785</td>\n      <td>1</td>\n      <td>mba</td>\n      <td>allowed</td>\n    </tr>\n    <tr>\n      <th>...</th>\n      <td>...</td>\n      <td>...</td>\n      <td>...</td>\n      <td>...</td>\n    </tr>\n    <tr>\n      <th>1995</th>\n      <td>2796805</td>\n      <td>3</td>\n      <td>computer application</td>\n      <td>allowed</td>\n    </tr>\n    <tr>\n      <th>1996</th>\n      <td>2796812</td>\n      <td>1</td>\n      <td>nursing</td>\n      <td>allowed</td>\n    </tr>\n    <tr>\n      <th>1997</th>\n      <td>2796813</td>\n      <td>2</td>\n      <td>nursing</td>\n      <td>allowed</td>\n    </tr>\n    <tr>\n      <th>1998</th>\n      <td>2796814</td>\n      <td>3</td>\n      <td>nursing</td>\n      <td>allowed</td>\n    </tr>\n    <tr>\n      <th>1999</th>\n      <td>2796815</td>\n      <td>4</td>\n      <td>nursing</td>\n      <td>allowed</td>\n    </tr>\n  </tbody>\n</table>\n<p>2000 rows × 4 columns</p>\n</div>"
     },
     "metadata": {},
     "execution_count": 11
    }
   ],
   "source": [
    "df"
   ]
  },
  {
   "cell_type": "code",
   "execution_count": 6,
   "metadata": {},
   "outputs": [
    {
     "output_type": "execute_result",
     "data": {
      "text/plain": "         id  year    course name       status\n0   2777729     1        science      allowed\n1   2777730     2        science      allowed\n2   2777765     1           arts      allowed\n3   2777766     2           arts      allowed\n4   2777785     1            mba      allowed\n5   2777786     2            mba      allowed\n6   2777793     1  mba 2nd shift  not allowed\n7   2777794     2  mba 2nd shift  not allowed\n8   2777795     1  mca 2nd shift  not allowed\n9   2777796     2  mca 2nd shift  not allowed\n10  2777797     3  mca 2nd shift  not allowed\n11  2777798     1           bjmc  not allowed\n12  2777799     2           bjmc  not allowed\n13  2777800     3           bjmc  not allowed\n14  2777814     1        history      allowed\n15  2777815     2        history      allowed\n16  2777837     4      chemistry      allowed\n17  2777858     4         botany      allowed\n18  2604364     1        history      allowed\n19  2604408     3        finance      allowed",
      "text/html": "<div>\n<style scoped>\n    .dataframe tbody tr th:only-of-type {\n        vertical-align: middle;\n    }\n\n    .dataframe tbody tr th {\n        vertical-align: top;\n    }\n\n    .dataframe thead th {\n        text-align: right;\n    }\n</style>\n<table border=\"1\" class=\"dataframe\">\n  <thead>\n    <tr style=\"text-align: right;\">\n      <th></th>\n      <th>id</th>\n      <th>year</th>\n      <th>course name</th>\n      <th>status</th>\n    </tr>\n  </thead>\n  <tbody>\n    <tr>\n      <th>0</th>\n      <td>2777729</td>\n      <td>1</td>\n      <td>science</td>\n      <td>allowed</td>\n    </tr>\n    <tr>\n      <th>1</th>\n      <td>2777730</td>\n      <td>2</td>\n      <td>science</td>\n      <td>allowed</td>\n    </tr>\n    <tr>\n      <th>2</th>\n      <td>2777765</td>\n      <td>1</td>\n      <td>arts</td>\n      <td>allowed</td>\n    </tr>\n    <tr>\n      <th>3</th>\n      <td>2777766</td>\n      <td>2</td>\n      <td>arts</td>\n      <td>allowed</td>\n    </tr>\n    <tr>\n      <th>4</th>\n      <td>2777785</td>\n      <td>1</td>\n      <td>mba</td>\n      <td>allowed</td>\n    </tr>\n    <tr>\n      <th>5</th>\n      <td>2777786</td>\n      <td>2</td>\n      <td>mba</td>\n      <td>allowed</td>\n    </tr>\n    <tr>\n      <th>6</th>\n      <td>2777793</td>\n      <td>1</td>\n      <td>mba 2nd shift</td>\n      <td>not allowed</td>\n    </tr>\n    <tr>\n      <th>7</th>\n      <td>2777794</td>\n      <td>2</td>\n      <td>mba 2nd shift</td>\n      <td>not allowed</td>\n    </tr>\n    <tr>\n      <th>8</th>\n      <td>2777795</td>\n      <td>1</td>\n      <td>mca 2nd shift</td>\n      <td>not allowed</td>\n    </tr>\n    <tr>\n      <th>9</th>\n      <td>2777796</td>\n      <td>2</td>\n      <td>mca 2nd shift</td>\n      <td>not allowed</td>\n    </tr>\n    <tr>\n      <th>10</th>\n      <td>2777797</td>\n      <td>3</td>\n      <td>mca 2nd shift</td>\n      <td>not allowed</td>\n    </tr>\n    <tr>\n      <th>11</th>\n      <td>2777798</td>\n      <td>1</td>\n      <td>bjmc</td>\n      <td>not allowed</td>\n    </tr>\n    <tr>\n      <th>12</th>\n      <td>2777799</td>\n      <td>2</td>\n      <td>bjmc</td>\n      <td>not allowed</td>\n    </tr>\n    <tr>\n      <th>13</th>\n      <td>2777800</td>\n      <td>3</td>\n      <td>bjmc</td>\n      <td>not allowed</td>\n    </tr>\n    <tr>\n      <th>14</th>\n      <td>2777814</td>\n      <td>1</td>\n      <td>history</td>\n      <td>allowed</td>\n    </tr>\n    <tr>\n      <th>15</th>\n      <td>2777815</td>\n      <td>2</td>\n      <td>history</td>\n      <td>allowed</td>\n    </tr>\n    <tr>\n      <th>16</th>\n      <td>2777837</td>\n      <td>4</td>\n      <td>chemistry</td>\n      <td>allowed</td>\n    </tr>\n    <tr>\n      <th>17</th>\n      <td>2777858</td>\n      <td>4</td>\n      <td>botany</td>\n      <td>allowed</td>\n    </tr>\n    <tr>\n      <th>18</th>\n      <td>2604364</td>\n      <td>1</td>\n      <td>history</td>\n      <td>allowed</td>\n    </tr>\n    <tr>\n      <th>19</th>\n      <td>2604408</td>\n      <td>3</td>\n      <td>finance</td>\n      <td>allowed</td>\n    </tr>\n  </tbody>\n</table>\n</div>"
     },
     "metadata": {},
     "execution_count": 6
    }
   ],
   "source": []
  },
  {
   "cell_type": "code",
   "execution_count": 13,
   "metadata": {},
   "outputs": [
    {
     "output_type": "execute_result",
     "data": {
      "text/plain": "         id  year    course name       status room assignment\n0   2777729     1        science      allowed             NaN\n1   2777730     2        science      allowed             NaN\n2   2777765     1           arts      allowed             NaN\n3   2777766     2           arts      allowed             NaN\n4   2777785     1            mba      allowed             NaN\n5   2777786     2            mba      allowed             NaN\n6   2777793     1  mba 2nd shift  not allowed    not assigned\n7   2777794     2  mba 2nd shift  not allowed    not assigned\n8   2777795     1  mca 2nd shift  not allowed    not assigned\n9   2777796     2  mca 2nd shift  not allowed    not assigned\n10  2777797     3  mca 2nd shift  not allowed    not assigned\n11  2777798     1           bjmc  not allowed    not assigned\n12  2777799     2           bjmc  not allowed    not assigned\n13  2777800     3           bjmc  not allowed    not assigned\n14  2777814     1        history      allowed             NaN\n15  2777815     2        history      allowed             NaN\n16  2777837     4      chemistry      allowed             NaN\n17  2777858     4         botany      allowed             NaN\n18  2604364     1        history      allowed             NaN\n19  2604408     3        finance      allowed             NaN",
      "text/html": "<div>\n<style scoped>\n    .dataframe tbody tr th:only-of-type {\n        vertical-align: middle;\n    }\n\n    .dataframe tbody tr th {\n        vertical-align: top;\n    }\n\n    .dataframe thead th {\n        text-align: right;\n    }\n</style>\n<table border=\"1\" class=\"dataframe\">\n  <thead>\n    <tr style=\"text-align: right;\">\n      <th></th>\n      <th>id</th>\n      <th>year</th>\n      <th>course name</th>\n      <th>status</th>\n      <th>room assignment</th>\n    </tr>\n  </thead>\n  <tbody>\n    <tr>\n      <th>0</th>\n      <td>2777729</td>\n      <td>1</td>\n      <td>science</td>\n      <td>allowed</td>\n      <td>NaN</td>\n    </tr>\n    <tr>\n      <th>1</th>\n      <td>2777730</td>\n      <td>2</td>\n      <td>science</td>\n      <td>allowed</td>\n      <td>NaN</td>\n    </tr>\n    <tr>\n      <th>2</th>\n      <td>2777765</td>\n      <td>1</td>\n      <td>arts</td>\n      <td>allowed</td>\n      <td>NaN</td>\n    </tr>\n    <tr>\n      <th>3</th>\n      <td>2777766</td>\n      <td>2</td>\n      <td>arts</td>\n      <td>allowed</td>\n      <td>NaN</td>\n    </tr>\n    <tr>\n      <th>4</th>\n      <td>2777785</td>\n      <td>1</td>\n      <td>mba</td>\n      <td>allowed</td>\n      <td>NaN</td>\n    </tr>\n    <tr>\n      <th>5</th>\n      <td>2777786</td>\n      <td>2</td>\n      <td>mba</td>\n      <td>allowed</td>\n      <td>NaN</td>\n    </tr>\n    <tr>\n      <th>6</th>\n      <td>2777793</td>\n      <td>1</td>\n      <td>mba 2nd shift</td>\n      <td>not allowed</td>\n      <td>not assigned</td>\n    </tr>\n    <tr>\n      <th>7</th>\n      <td>2777794</td>\n      <td>2</td>\n      <td>mba 2nd shift</td>\n      <td>not allowed</td>\n      <td>not assigned</td>\n    </tr>\n    <tr>\n      <th>8</th>\n      <td>2777795</td>\n      <td>1</td>\n      <td>mca 2nd shift</td>\n      <td>not allowed</td>\n      <td>not assigned</td>\n    </tr>\n    <tr>\n      <th>9</th>\n      <td>2777796</td>\n      <td>2</td>\n      <td>mca 2nd shift</td>\n      <td>not allowed</td>\n      <td>not assigned</td>\n    </tr>\n    <tr>\n      <th>10</th>\n      <td>2777797</td>\n      <td>3</td>\n      <td>mca 2nd shift</td>\n      <td>not allowed</td>\n      <td>not assigned</td>\n    </tr>\n    <tr>\n      <th>11</th>\n      <td>2777798</td>\n      <td>1</td>\n      <td>bjmc</td>\n      <td>not allowed</td>\n      <td>not assigned</td>\n    </tr>\n    <tr>\n      <th>12</th>\n      <td>2777799</td>\n      <td>2</td>\n      <td>bjmc</td>\n      <td>not allowed</td>\n      <td>not assigned</td>\n    </tr>\n    <tr>\n      <th>13</th>\n      <td>2777800</td>\n      <td>3</td>\n      <td>bjmc</td>\n      <td>not allowed</td>\n      <td>not assigned</td>\n    </tr>\n    <tr>\n      <th>14</th>\n      <td>2777814</td>\n      <td>1</td>\n      <td>history</td>\n      <td>allowed</td>\n      <td>NaN</td>\n    </tr>\n    <tr>\n      <th>15</th>\n      <td>2777815</td>\n      <td>2</td>\n      <td>history</td>\n      <td>allowed</td>\n      <td>NaN</td>\n    </tr>\n    <tr>\n      <th>16</th>\n      <td>2777837</td>\n      <td>4</td>\n      <td>chemistry</td>\n      <td>allowed</td>\n      <td>NaN</td>\n    </tr>\n    <tr>\n      <th>17</th>\n      <td>2777858</td>\n      <td>4</td>\n      <td>botany</td>\n      <td>allowed</td>\n      <td>NaN</td>\n    </tr>\n    <tr>\n      <th>18</th>\n      <td>2604364</td>\n      <td>1</td>\n      <td>history</td>\n      <td>allowed</td>\n      <td>NaN</td>\n    </tr>\n    <tr>\n      <th>19</th>\n      <td>2604408</td>\n      <td>3</td>\n      <td>finance</td>\n      <td>allowed</td>\n      <td>NaN</td>\n    </tr>\n  </tbody>\n</table>\n</div>"
     },
     "metadata": {},
     "execution_count": 13
    }
   ],
   "source": [
    "df.loc[df['status']=='not allowed','room assignment']='not assigned'\n",
    "df.head(20)"
   ]
  },
  {
   "cell_type": "code",
   "execution_count": 46,
   "metadata": {},
   "outputs": [
    {
     "output_type": "execute_result",
     "data": {
      "text/plain": "0       True\n1       True\n2       True\n3       True\n4       True\n        ... \n1995    True\n1996    True\n1997    True\n1998    True\n1999    True\nName: status, Length: 2000, dtype: bool"
     },
     "metadata": {},
     "execution_count": 46
    }
   ],
   "source": [
    "count = df.loc[df['status']!='not allowed','course name'].value_counts()\n",
    "# count = df[(df['status']!='not allowed'),'course name'].value_counts()\n",
    "# count = df['course name'].value_counts()\n",
    "count\n"
   ]
  },
  {
   "cell_type": "code",
   "execution_count": 50,
   "metadata": {},
   "outputs": [
    {
     "output_type": "execute_result",
     "data": {
      "text/plain": "0       True\n1       True\n2       True\n3       True\n4       True\n        ... \n1995    True\n1996    True\n1997    True\n1998    True\n1999    True\nName: status, Length: 2000, dtype: bool"
     },
     "metadata": {},
     "execution_count": 50
    }
   ],
   "source": [
    "valid = df['status']=='allowed'\n",
    "valid"
   ]
  },
  {
   "cell_type": "code",
   "execution_count": 51,
   "metadata": {
    "tags": []
   },
   "outputs": [],
   "source": [
    "\n",
    "small = (count>=5) & (count<15)\n",
    "small = small[small]\n",
    "small = list(small.index)\n",
    "\n",
    "med = (count<40) & (count>=15)\n",
    "med = med[med]\n",
    "med = list(med.index)\n",
    "\n",
    "large = (count>=40) & (count<80)\n",
    "large = large[large]\n",
    "large = list(large.index)\n",
    "\n",
    "aud = (count>=80)\n",
    "aud = aud[aud]\n",
    "aud = list(aud.index)\n",
    "\n",
    "for val in small:\n",
    "    df.loc[(df['course name']==val)&valid,'room assignment']='Small room'\n",
    "for val in med:\n",
    "    df.loc[(df['course name']==val)&valid,'room assignment']='Medium room'\n",
    "for val in large:\n",
    "    df.loc[(df['course name']==val)&valid,'room assignment']='Large room'\n",
    "for val in aud:\n",
    "    df.loc[(df['course name']==val)&valid,'room assignment']='Auditorium'"
   ]
  },
  {
   "cell_type": "code",
   "execution_count": 38,
   "metadata": {},
   "outputs": [
    {
     "output_type": "execute_result",
     "data": {
      "text/plain": "           id  year           course name   status room assignment\n0     2777729     1               science  allowed      Auditorium\n1     2777730     2               science  allowed      Auditorium\n2     2777765     1                  arts  allowed      Auditorium\n3     2777766     2                  arts  allowed      Auditorium\n4     2777785     1                   mba  allowed      Small room\n...       ...   ...                   ...      ...             ...\n1995  2796805     3  computer application  allowed     Medium room\n1996  2796812     1               nursing  allowed     Medium room\n1997  2796813     2               nursing  allowed     Medium room\n1998  2796814     3               nursing  allowed     Medium room\n1999  2796815     4               nursing  allowed     Medium room\n\n[2000 rows x 5 columns]",
      "text/html": "<div>\n<style scoped>\n    .dataframe tbody tr th:only-of-type {\n        vertical-align: middle;\n    }\n\n    .dataframe tbody tr th {\n        vertical-align: top;\n    }\n\n    .dataframe thead th {\n        text-align: right;\n    }\n</style>\n<table border=\"1\" class=\"dataframe\">\n  <thead>\n    <tr style=\"text-align: right;\">\n      <th></th>\n      <th>id</th>\n      <th>year</th>\n      <th>course name</th>\n      <th>status</th>\n      <th>room assignment</th>\n    </tr>\n  </thead>\n  <tbody>\n    <tr>\n      <th>0</th>\n      <td>2777729</td>\n      <td>1</td>\n      <td>science</td>\n      <td>allowed</td>\n      <td>Auditorium</td>\n    </tr>\n    <tr>\n      <th>1</th>\n      <td>2777730</td>\n      <td>2</td>\n      <td>science</td>\n      <td>allowed</td>\n      <td>Auditorium</td>\n    </tr>\n    <tr>\n      <th>2</th>\n      <td>2777765</td>\n      <td>1</td>\n      <td>arts</td>\n      <td>allowed</td>\n      <td>Auditorium</td>\n    </tr>\n    <tr>\n      <th>3</th>\n      <td>2777766</td>\n      <td>2</td>\n      <td>arts</td>\n      <td>allowed</td>\n      <td>Auditorium</td>\n    </tr>\n    <tr>\n      <th>4</th>\n      <td>2777785</td>\n      <td>1</td>\n      <td>mba</td>\n      <td>allowed</td>\n      <td>Small room</td>\n    </tr>\n    <tr>\n      <th>...</th>\n      <td>...</td>\n      <td>...</td>\n      <td>...</td>\n      <td>...</td>\n      <td>...</td>\n    </tr>\n    <tr>\n      <th>1995</th>\n      <td>2796805</td>\n      <td>3</td>\n      <td>computer application</td>\n      <td>allowed</td>\n      <td>Medium room</td>\n    </tr>\n    <tr>\n      <th>1996</th>\n      <td>2796812</td>\n      <td>1</td>\n      <td>nursing</td>\n      <td>allowed</td>\n      <td>Medium room</td>\n    </tr>\n    <tr>\n      <th>1997</th>\n      <td>2796813</td>\n      <td>2</td>\n      <td>nursing</td>\n      <td>allowed</td>\n      <td>Medium room</td>\n    </tr>\n    <tr>\n      <th>1998</th>\n      <td>2796814</td>\n      <td>3</td>\n      <td>nursing</td>\n      <td>allowed</td>\n      <td>Medium room</td>\n    </tr>\n    <tr>\n      <th>1999</th>\n      <td>2796815</td>\n      <td>4</td>\n      <td>nursing</td>\n      <td>allowed</td>\n      <td>Medium room</td>\n    </tr>\n  </tbody>\n</table>\n<p>2000 rows × 5 columns</p>\n</div>"
     },
     "metadata": {},
     "execution_count": 38
    }
   ],
   "source": [
    "df\n"
   ]
  },
  {
   "cell_type": "code",
   "execution_count": 45,
   "metadata": {},
   "outputs": [
    {
     "output_type": "execute_result",
     "data": {
      "text/plain": "           id  year     course name       status room assignment\n6     2777793     1   mba 2nd shift  not allowed    not assigned\n7     2777794     2   mba 2nd shift  not allowed    not assigned\n8     2777795     1   mca 2nd shift  not allowed    not assigned\n9     2777796     2   mca 2nd shift  not allowed    not assigned\n10    2777797     3   mca 2nd shift  not allowed    not assigned\n...       ...   ...             ...          ...             ...\n1979  2796773     2     music vocal  not allowed    not assigned\n1980  2796774     3     music vocal  not allowed    not assigned\n1984  2796786     1  computers (ug)  not allowed    not assigned\n1985  2796787     2  computers (ug)  not allowed    not assigned\n1986  2796788     3  computers (ug)  not allowed    not assigned\n\n[552 rows x 5 columns]",
      "text/html": "<div>\n<style scoped>\n    .dataframe tbody tr th:only-of-type {\n        vertical-align: middle;\n    }\n\n    .dataframe tbody tr th {\n        vertical-align: top;\n    }\n\n    .dataframe thead th {\n        text-align: right;\n    }\n</style>\n<table border=\"1\" class=\"dataframe\">\n  <thead>\n    <tr style=\"text-align: right;\">\n      <th></th>\n      <th>id</th>\n      <th>year</th>\n      <th>course name</th>\n      <th>status</th>\n      <th>room assignment</th>\n    </tr>\n  </thead>\n  <tbody>\n    <tr>\n      <th>6</th>\n      <td>2777793</td>\n      <td>1</td>\n      <td>mba 2nd shift</td>\n      <td>not allowed</td>\n      <td>not assigned</td>\n    </tr>\n    <tr>\n      <th>7</th>\n      <td>2777794</td>\n      <td>2</td>\n      <td>mba 2nd shift</td>\n      <td>not allowed</td>\n      <td>not assigned</td>\n    </tr>\n    <tr>\n      <th>8</th>\n      <td>2777795</td>\n      <td>1</td>\n      <td>mca 2nd shift</td>\n      <td>not allowed</td>\n      <td>not assigned</td>\n    </tr>\n    <tr>\n      <th>9</th>\n      <td>2777796</td>\n      <td>2</td>\n      <td>mca 2nd shift</td>\n      <td>not allowed</td>\n      <td>not assigned</td>\n    </tr>\n    <tr>\n      <th>10</th>\n      <td>2777797</td>\n      <td>3</td>\n      <td>mca 2nd shift</td>\n      <td>not allowed</td>\n      <td>not assigned</td>\n    </tr>\n    <tr>\n      <th>...</th>\n      <td>...</td>\n      <td>...</td>\n      <td>...</td>\n      <td>...</td>\n      <td>...</td>\n    </tr>\n    <tr>\n      <th>1979</th>\n      <td>2796773</td>\n      <td>2</td>\n      <td>music vocal</td>\n      <td>not allowed</td>\n      <td>not assigned</td>\n    </tr>\n    <tr>\n      <th>1980</th>\n      <td>2796774</td>\n      <td>3</td>\n      <td>music vocal</td>\n      <td>not allowed</td>\n      <td>not assigned</td>\n    </tr>\n    <tr>\n      <th>1984</th>\n      <td>2796786</td>\n      <td>1</td>\n      <td>computers (ug)</td>\n      <td>not allowed</td>\n      <td>not assigned</td>\n    </tr>\n    <tr>\n      <th>1985</th>\n      <td>2796787</td>\n      <td>2</td>\n      <td>computers (ug)</td>\n      <td>not allowed</td>\n      <td>not assigned</td>\n    </tr>\n    <tr>\n      <th>1986</th>\n      <td>2796788</td>\n      <td>3</td>\n      <td>computers (ug)</td>\n      <td>not allowed</td>\n      <td>not assigned</td>\n    </tr>\n  </tbody>\n</table>\n<p>552 rows × 5 columns</p>\n</div>"
     },
     "metadata": {},
     "execution_count": 45
    }
   ],
   "source": [
    "new =df.loc[df['status']=='not allowed']\n",
    "new"
   ]
  },
  {
   "cell_type": "code",
   "execution_count": null,
   "metadata": {},
   "outputs": [],
   "source": []
  }
 ]
}