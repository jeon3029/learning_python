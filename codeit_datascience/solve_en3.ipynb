{
 "metadata": {
  "language_info": {
   "codemirror_mode": {
    "name": "ipython",
    "version": 3
   },
   "file_extension": ".py",
   "mimetype": "text/x-python",
   "name": "python",
   "nbconvert_exporter": "python",
   "pygments_lexer": "ipython3",
   "version": "3.6.9-final"
  },
  "orig_nbformat": 2,
  "kernelspec": {
   "name": "python_defaultSpec_1600151700934",
   "display_name": "Python 3.6.9 64-bit"
  }
 },
 "nbformat": 4,
 "nbformat_minor": 2,
 "cells": [
  {
   "cell_type": "code",
   "execution_count": 44,
   "metadata": {},
   "outputs": [],
   "source": [
    "import pandas as pd"
   ]
  },
  {
   "cell_type": "code",
   "execution_count": 45,
   "metadata": {},
   "outputs": [
    {
     "output_type": "execute_result",
     "data": {
      "text/plain": "           id  year           course name   status room assignment\n0     2777729     1               science  allowed      Auditorium\n1     2777730     2               science  allowed      Auditorium\n2     2777765     1                  arts  allowed      Auditorium\n3     2777766     2                  arts  allowed      Auditorium\n4     2777785     1                   mba  allowed      Small room\n...       ...   ...                   ...      ...             ...\n1995  2796805     3  computer application  allowed     Medium room\n1996  2796812     1               nursing  allowed     Medium room\n1997  2796813     2               nursing  allowed     Medium room\n1998  2796814     3               nursing  allowed     Medium room\n1999  2796815     4               nursing  allowed     Medium room\n\n[2000 rows x 5 columns]",
      "text/html": "<div>\n<style scoped>\n    .dataframe tbody tr th:only-of-type {\n        vertical-align: middle;\n    }\n\n    .dataframe tbody tr th {\n        vertical-align: top;\n    }\n\n    .dataframe thead th {\n        text-align: right;\n    }\n</style>\n<table border=\"1\" class=\"dataframe\">\n  <thead>\n    <tr style=\"text-align: right;\">\n      <th></th>\n      <th>id</th>\n      <th>year</th>\n      <th>course name</th>\n      <th>status</th>\n      <th>room assignment</th>\n    </tr>\n  </thead>\n  <tbody>\n    <tr>\n      <th>0</th>\n      <td>2777729</td>\n      <td>1</td>\n      <td>science</td>\n      <td>allowed</td>\n      <td>Auditorium</td>\n    </tr>\n    <tr>\n      <th>1</th>\n      <td>2777730</td>\n      <td>2</td>\n      <td>science</td>\n      <td>allowed</td>\n      <td>Auditorium</td>\n    </tr>\n    <tr>\n      <th>2</th>\n      <td>2777765</td>\n      <td>1</td>\n      <td>arts</td>\n      <td>allowed</td>\n      <td>Auditorium</td>\n    </tr>\n    <tr>\n      <th>3</th>\n      <td>2777766</td>\n      <td>2</td>\n      <td>arts</td>\n      <td>allowed</td>\n      <td>Auditorium</td>\n    </tr>\n    <tr>\n      <th>4</th>\n      <td>2777785</td>\n      <td>1</td>\n      <td>mba</td>\n      <td>allowed</td>\n      <td>Small room</td>\n    </tr>\n    <tr>\n      <th>...</th>\n      <td>...</td>\n      <td>...</td>\n      <td>...</td>\n      <td>...</td>\n      <td>...</td>\n    </tr>\n    <tr>\n      <th>1995</th>\n      <td>2796805</td>\n      <td>3</td>\n      <td>computer application</td>\n      <td>allowed</td>\n      <td>Medium room</td>\n    </tr>\n    <tr>\n      <th>1996</th>\n      <td>2796812</td>\n      <td>1</td>\n      <td>nursing</td>\n      <td>allowed</td>\n      <td>Medium room</td>\n    </tr>\n    <tr>\n      <th>1997</th>\n      <td>2796813</td>\n      <td>2</td>\n      <td>nursing</td>\n      <td>allowed</td>\n      <td>Medium room</td>\n    </tr>\n    <tr>\n      <th>1998</th>\n      <td>2796814</td>\n      <td>3</td>\n      <td>nursing</td>\n      <td>allowed</td>\n      <td>Medium room</td>\n    </tr>\n    <tr>\n      <th>1999</th>\n      <td>2796815</td>\n      <td>4</td>\n      <td>nursing</td>\n      <td>allowed</td>\n      <td>Medium room</td>\n    </tr>\n  </tbody>\n</table>\n<p>2000 rows × 5 columns</p>\n</div>"
     },
     "metadata": {},
     "execution_count": 45
    }
   ],
   "source": [
    "df = pd.read_csv('data/enrollment3.csv')\n",
    "df"
   ]
  },
  {
   "cell_type": "code",
   "execution_count": 46,
   "metadata": {},
   "outputs": [
    {
     "output_type": "execute_result",
     "data": {
      "text/plain": "0       True\n1       True\n2       True\n3       True\n4       True\n        ... \n1995    True\n1996    True\n1997    True\n1998    True\n1999    True\nName: status, Length: 2000, dtype: bool"
     },
     "metadata": {},
     "execution_count": 46
    }
   ],
   "source": [
    "valid = df['status']=='allowed'\n",
    "valid"
   ]
  },
  {
   "cell_type": "code",
   "execution_count": 47,
   "metadata": {},
   "outputs": [
    {
     "output_type": "execute_result",
     "data": {
      "text/plain": "           id  year           course name   status  room number\n0     2777729     1               science  allowed   Auditorium\n1     2777730     2               science  allowed   Auditorium\n2     2777765     1                  arts  allowed   Auditorium\n3     2777766     2                  arts  allowed   Auditorium\n4     2777785     1                   mba  allowed   Small room\n...       ...   ...                   ...      ...          ...\n1995  2796805     3  computer application  allowed  Medium room\n1996  2796812     1               nursing  allowed  Medium room\n1997  2796813     2               nursing  allowed  Medium room\n1998  2796814     3               nursing  allowed  Medium room\n1999  2796815     4               nursing  allowed  Medium room\n\n[2000 rows x 5 columns]",
      "text/html": "<div>\n<style scoped>\n    .dataframe tbody tr th:only-of-type {\n        vertical-align: middle;\n    }\n\n    .dataframe tbody tr th {\n        vertical-align: top;\n    }\n\n    .dataframe thead th {\n        text-align: right;\n    }\n</style>\n<table border=\"1\" class=\"dataframe\">\n  <thead>\n    <tr style=\"text-align: right;\">\n      <th></th>\n      <th>id</th>\n      <th>year</th>\n      <th>course name</th>\n      <th>status</th>\n      <th>room number</th>\n    </tr>\n  </thead>\n  <tbody>\n    <tr>\n      <th>0</th>\n      <td>2777729</td>\n      <td>1</td>\n      <td>science</td>\n      <td>allowed</td>\n      <td>Auditorium</td>\n    </tr>\n    <tr>\n      <th>1</th>\n      <td>2777730</td>\n      <td>2</td>\n      <td>science</td>\n      <td>allowed</td>\n      <td>Auditorium</td>\n    </tr>\n    <tr>\n      <th>2</th>\n      <td>2777765</td>\n      <td>1</td>\n      <td>arts</td>\n      <td>allowed</td>\n      <td>Auditorium</td>\n    </tr>\n    <tr>\n      <th>3</th>\n      <td>2777766</td>\n      <td>2</td>\n      <td>arts</td>\n      <td>allowed</td>\n      <td>Auditorium</td>\n    </tr>\n    <tr>\n      <th>4</th>\n      <td>2777785</td>\n      <td>1</td>\n      <td>mba</td>\n      <td>allowed</td>\n      <td>Small room</td>\n    </tr>\n    <tr>\n      <th>...</th>\n      <td>...</td>\n      <td>...</td>\n      <td>...</td>\n      <td>...</td>\n      <td>...</td>\n    </tr>\n    <tr>\n      <th>1995</th>\n      <td>2796805</td>\n      <td>3</td>\n      <td>computer application</td>\n      <td>allowed</td>\n      <td>Medium room</td>\n    </tr>\n    <tr>\n      <th>1996</th>\n      <td>2796812</td>\n      <td>1</td>\n      <td>nursing</td>\n      <td>allowed</td>\n      <td>Medium room</td>\n    </tr>\n    <tr>\n      <th>1997</th>\n      <td>2796813</td>\n      <td>2</td>\n      <td>nursing</td>\n      <td>allowed</td>\n      <td>Medium room</td>\n    </tr>\n    <tr>\n      <th>1998</th>\n      <td>2796814</td>\n      <td>3</td>\n      <td>nursing</td>\n      <td>allowed</td>\n      <td>Medium room</td>\n    </tr>\n    <tr>\n      <th>1999</th>\n      <td>2796815</td>\n      <td>4</td>\n      <td>nursing</td>\n      <td>allowed</td>\n      <td>Medium room</td>\n    </tr>\n  </tbody>\n</table>\n<p>2000 rows × 5 columns</p>\n</div>"
     },
     "metadata": {},
     "execution_count": 47
    }
   ],
   "source": [
    "df.rename(columns={'room assignment':'room number'},inplace=True)\n",
    "df"
   ]
  },
  {
   "cell_type": "code",
   "execution_count": 48,
   "metadata": {},
   "outputs": [
    {
     "output_type": "execute_result",
     "data": {
      "text/plain": "not assigned    552\nMedium room     531\nSmall room      437\nAuditorium      383\nLarge room       97\nName: room number, dtype: int64"
     },
     "metadata": {},
     "execution_count": 48
    }
   ],
   "source": [
    "df['room number'].value_counts()"
   ]
  },
  {
   "cell_type": "code",
   "execution_count": 49,
   "metadata": {
    "tags": []
   },
   "outputs": [],
   "source": [
    "aud = df.loc[(df['room number'] == 'Auditorium'),'course name']\n",
    "aud.sort_values(inplace=True)\n",
    "count = 0\n",
    "init = \"\"\n",
    "for i,v in aud.items():\n",
    "    if init != v:\n",
    "        count +=1\n",
    "        init = v\n",
    "    # print(i,v)\n",
    "    df.loc[i,'room number']='Auditorium-'+str(count)\n",
    "\n",
    "med = df.loc[(df['room number'] == 'Medium room'),'course name']\n",
    "med.sort_values(inplace=True)\n",
    "count = 0\n",
    "init = \"\"\n",
    "for i,v in med.items():\n",
    "    if init != v:\n",
    "        count +=1\n",
    "        init = v\n",
    "    # print(i,v)\n",
    "    df.loc[i,'room number']='Medium-'+str(count)\n",
    "\n",
    "small = df.loc[(df['room number'] == 'Small room'),'course name']\n",
    "small.sort_values(inplace=True)\n",
    "count = 0\n",
    "init = \"\"\n",
    "for i,v in small.items():\n",
    "    if init != v:\n",
    "        count +=1\n",
    "        init = v\n",
    "    # print(i,v)\n",
    "    df.loc[i,'room number']='Small-'+str(count)\n",
    "\n",
    "large = df.loc[(df['room number'] == 'Large room'),'course name']\n",
    "large.sort_values(inplace=True)\n",
    "count = 0\n",
    "init = \"\"\n",
    "for i,v in large.items():\n",
    "    if init != v:\n",
    "        count +=1\n",
    "        init = v\n",
    "    # print(i,v)\n",
    "    df.loc[i,'room number']='Large-'+str(count)\n",
    "\n"
   ]
  },
  {
   "cell_type": "code",
   "execution_count": 50,
   "metadata": {},
   "outputs": [
    {
     "output_type": "execute_result",
     "data": {
      "text/plain": "           id  year           course name   status   room number\n0     2777729     1               science  allowed  Auditorium-3\n1     2777730     2               science  allowed  Auditorium-3\n2     2777765     1                  arts  allowed  Auditorium-1\n3     2777766     2                  arts  allowed  Auditorium-1\n4     2777785     1                   mba  allowed      Small-34\n...       ...   ...                   ...      ...           ...\n1995  2796805     3  computer application  allowed      Midium-7\n1996  2796812     1               nursing  allowed     Midium-22\n1997  2796813     2               nursing  allowed     Midium-22\n1998  2796814     3               nursing  allowed     Midium-22\n1999  2796815     4               nursing  allowed     Midium-22\n\n[2000 rows x 5 columns]",
      "text/html": "<div>\n<style scoped>\n    .dataframe tbody tr th:only-of-type {\n        vertical-align: middle;\n    }\n\n    .dataframe tbody tr th {\n        vertical-align: top;\n    }\n\n    .dataframe thead th {\n        text-align: right;\n    }\n</style>\n<table border=\"1\" class=\"dataframe\">\n  <thead>\n    <tr style=\"text-align: right;\">\n      <th></th>\n      <th>id</th>\n      <th>year</th>\n      <th>course name</th>\n      <th>status</th>\n      <th>room number</th>\n    </tr>\n  </thead>\n  <tbody>\n    <tr>\n      <th>0</th>\n      <td>2777729</td>\n      <td>1</td>\n      <td>science</td>\n      <td>allowed</td>\n      <td>Auditorium-3</td>\n    </tr>\n    <tr>\n      <th>1</th>\n      <td>2777730</td>\n      <td>2</td>\n      <td>science</td>\n      <td>allowed</td>\n      <td>Auditorium-3</td>\n    </tr>\n    <tr>\n      <th>2</th>\n      <td>2777765</td>\n      <td>1</td>\n      <td>arts</td>\n      <td>allowed</td>\n      <td>Auditorium-1</td>\n    </tr>\n    <tr>\n      <th>3</th>\n      <td>2777766</td>\n      <td>2</td>\n      <td>arts</td>\n      <td>allowed</td>\n      <td>Auditorium-1</td>\n    </tr>\n    <tr>\n      <th>4</th>\n      <td>2777785</td>\n      <td>1</td>\n      <td>mba</td>\n      <td>allowed</td>\n      <td>Small-34</td>\n    </tr>\n    <tr>\n      <th>...</th>\n      <td>...</td>\n      <td>...</td>\n      <td>...</td>\n      <td>...</td>\n      <td>...</td>\n    </tr>\n    <tr>\n      <th>1995</th>\n      <td>2796805</td>\n      <td>3</td>\n      <td>computer application</td>\n      <td>allowed</td>\n      <td>Midium-7</td>\n    </tr>\n    <tr>\n      <th>1996</th>\n      <td>2796812</td>\n      <td>1</td>\n      <td>nursing</td>\n      <td>allowed</td>\n      <td>Midium-22</td>\n    </tr>\n    <tr>\n      <th>1997</th>\n      <td>2796813</td>\n      <td>2</td>\n      <td>nursing</td>\n      <td>allowed</td>\n      <td>Midium-22</td>\n    </tr>\n    <tr>\n      <th>1998</th>\n      <td>2796814</td>\n      <td>3</td>\n      <td>nursing</td>\n      <td>allowed</td>\n      <td>Midium-22</td>\n    </tr>\n    <tr>\n      <th>1999</th>\n      <td>2796815</td>\n      <td>4</td>\n      <td>nursing</td>\n      <td>allowed</td>\n      <td>Midium-22</td>\n    </tr>\n  </tbody>\n</table>\n<p>2000 rows × 5 columns</p>\n</div>"
     },
     "metadata": {},
     "execution_count": 50
    }
   ],
   "source": [
    "df"
   ]
  },
  {
   "cell_type": "code",
   "execution_count": 52,
   "metadata": {
    "tags": []
   },
   "outputs": [
    {
     "output_type": "stream",
     "name": "stdout",
     "text": "id  year           course name   status   room number\n0     2777729     1               science  allowed  Auditorium-3\n1     2777730     2               science  allowed  Auditorium-3\n2     2777765     1                  arts  allowed  Auditorium-1\n3     2777766     2                  arts  allowed  Auditorium-1\n4     2777785     1                   mba  allowed      Small-34\n...       ...   ...                   ...      ...           ...\n1995  2796805     3  computer application  allowed      Midium-7\n1996  2796812     1               nursing  allowed     Midium-22\n1997  2796813     2               nursing  allowed     Midium-22\n1998  2796814     3               nursing  allowed     Midium-22\n1999  2796815     4               nursing  allowed     Midium-22\n\n[2000 rows x 5 columns]\n"
    }
   ],
   "source": [
    "print(df)"
   ]
  },
  {
   "cell_type": "code",
   "execution_count": null,
   "metadata": {},
   "outputs": [],
   "source": []
  }
 ]
}