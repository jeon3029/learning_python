{
 "metadata": {
  "language_info": {
   "codemirror_mode": {
    "name": "ipython",
    "version": 3
   },
   "file_extension": ".py",
   "mimetype": "text/x-python",
   "name": "python",
   "nbconvert_exporter": "python",
   "pygments_lexer": "ipython3",
   "version": "3.6.9-final"
  },
  "orig_nbformat": 2,
  "kernelspec": {
   "name": "python_defaultSpec_1600148792829",
   "display_name": "Python 3.6.9 64-bit"
  }
 },
 "nbformat": 4,
 "nbformat_minor": 2,
 "cells": [
  {
   "cell_type": "code",
   "execution_count": 3,
   "metadata": {},
   "outputs": [],
   "source": [
    "import pandas as pd\n",
    "\n",
    "df = pd.read_csv('data/enrollment.csv')"
   ]
  },
  {
   "cell_type": "code",
   "execution_count": 4,
   "metadata": {},
   "outputs": [
    {
     "output_type": "execute_result",
     "data": {
      "text/plain": "           id  year           course name\n0     2777729     1               science\n1     2777730     2               science\n2     2777765     1                  arts\n3     2777766     2                  arts\n4     2777785     1                   mba\n...       ...   ...                   ...\n1995  2796805     3  computer application\n1996  2796812     1               nursing\n1997  2796813     2               nursing\n1998  2796814     3               nursing\n1999  2796815     4               nursing\n\n[2000 rows x 3 columns]",
      "text/html": "<div>\n<style scoped>\n    .dataframe tbody tr th:only-of-type {\n        vertical-align: middle;\n    }\n\n    .dataframe tbody tr th {\n        vertical-align: top;\n    }\n\n    .dataframe thead th {\n        text-align: right;\n    }\n</style>\n<table border=\"1\" class=\"dataframe\">\n  <thead>\n    <tr style=\"text-align: right;\">\n      <th></th>\n      <th>id</th>\n      <th>year</th>\n      <th>course name</th>\n    </tr>\n  </thead>\n  <tbody>\n    <tr>\n      <th>0</th>\n      <td>2777729</td>\n      <td>1</td>\n      <td>science</td>\n    </tr>\n    <tr>\n      <th>1</th>\n      <td>2777730</td>\n      <td>2</td>\n      <td>science</td>\n    </tr>\n    <tr>\n      <th>2</th>\n      <td>2777765</td>\n      <td>1</td>\n      <td>arts</td>\n    </tr>\n    <tr>\n      <th>3</th>\n      <td>2777766</td>\n      <td>2</td>\n      <td>arts</td>\n    </tr>\n    <tr>\n      <th>4</th>\n      <td>2777785</td>\n      <td>1</td>\n      <td>mba</td>\n    </tr>\n    <tr>\n      <th>...</th>\n      <td>...</td>\n      <td>...</td>\n      <td>...</td>\n    </tr>\n    <tr>\n      <th>1995</th>\n      <td>2796805</td>\n      <td>3</td>\n      <td>computer application</td>\n    </tr>\n    <tr>\n      <th>1996</th>\n      <td>2796812</td>\n      <td>1</td>\n      <td>nursing</td>\n    </tr>\n    <tr>\n      <th>1997</th>\n      <td>2796813</td>\n      <td>2</td>\n      <td>nursing</td>\n    </tr>\n    <tr>\n      <th>1998</th>\n      <td>2796814</td>\n      <td>3</td>\n      <td>nursing</td>\n    </tr>\n    <tr>\n      <th>1999</th>\n      <td>2796815</td>\n      <td>4</td>\n      <td>nursing</td>\n    </tr>\n  </tbody>\n</table>\n<p>2000 rows × 3 columns</p>\n</div>"
     },
     "metadata": {},
     "execution_count": 4
    }
   ],
   "source": [
    "df\n"
   ]
  },
  {
   "cell_type": "code",
   "execution_count": 6,
   "metadata": {
    "tags": []
   },
   "outputs": [
    {
     "output_type": "execute_result",
     "data": {
      "text/plain": "           id  year           course name   status\n0     2777729     1               science  allowed\n1     2777730     2               science  allowed\n2     2777765     1                  arts  allowed\n3     2777766     2                  arts  allowed\n4     2777785     1                   mba  allowed\n...       ...   ...                   ...      ...\n1995  2796805     3  computer application  allowed\n1996  2796812     1               nursing  allowed\n1997  2796813     2               nursing  allowed\n1998  2796814     3               nursing  allowed\n1999  2796815     4               nursing  allowed\n\n[2000 rows x 4 columns]",
      "text/html": "<div>\n<style scoped>\n    .dataframe tbody tr th:only-of-type {\n        vertical-align: middle;\n    }\n\n    .dataframe tbody tr th {\n        vertical-align: top;\n    }\n\n    .dataframe thead th {\n        text-align: right;\n    }\n</style>\n<table border=\"1\" class=\"dataframe\">\n  <thead>\n    <tr style=\"text-align: right;\">\n      <th></th>\n      <th>id</th>\n      <th>year</th>\n      <th>course name</th>\n      <th>status</th>\n    </tr>\n  </thead>\n  <tbody>\n    <tr>\n      <th>0</th>\n      <td>2777729</td>\n      <td>1</td>\n      <td>science</td>\n      <td>allowed</td>\n    </tr>\n    <tr>\n      <th>1</th>\n      <td>2777730</td>\n      <td>2</td>\n      <td>science</td>\n      <td>allowed</td>\n    </tr>\n    <tr>\n      <th>2</th>\n      <td>2777765</td>\n      <td>1</td>\n      <td>arts</td>\n      <td>allowed</td>\n    </tr>\n    <tr>\n      <th>3</th>\n      <td>2777766</td>\n      <td>2</td>\n      <td>arts</td>\n      <td>allowed</td>\n    </tr>\n    <tr>\n      <th>4</th>\n      <td>2777785</td>\n      <td>1</td>\n      <td>mba</td>\n      <td>allowed</td>\n    </tr>\n    <tr>\n      <th>...</th>\n      <td>...</td>\n      <td>...</td>\n      <td>...</td>\n      <td>...</td>\n    </tr>\n    <tr>\n      <th>1995</th>\n      <td>2796805</td>\n      <td>3</td>\n      <td>computer application</td>\n      <td>allowed</td>\n    </tr>\n    <tr>\n      <th>1996</th>\n      <td>2796812</td>\n      <td>1</td>\n      <td>nursing</td>\n      <td>allowed</td>\n    </tr>\n    <tr>\n      <th>1997</th>\n      <td>2796813</td>\n      <td>2</td>\n      <td>nursing</td>\n      <td>allowed</td>\n    </tr>\n    <tr>\n      <th>1998</th>\n      <td>2796814</td>\n      <td>3</td>\n      <td>nursing</td>\n      <td>allowed</td>\n    </tr>\n    <tr>\n      <th>1999</th>\n      <td>2796815</td>\n      <td>4</td>\n      <td>nursing</td>\n      <td>allowed</td>\n    </tr>\n  </tbody>\n</table>\n<p>2000 rows × 4 columns</p>\n</div>"
     },
     "metadata": {},
     "execution_count": 6
    }
   ],
   "source": [
    "df['status']='allowed'\n",
    "df.loc[(df['year']==1) & (df['course name']=='information technology'),'status']='not allowed'\n",
    "df.loc[(df['year']==4) & (df['course name']=='commerce'),'status']='not allowed'\n",
    "# df[df['course name'].value_counts()<5]='not allowed'\n",
    "df"
   ]
  },
  {
   "cell_type": "code",
   "execution_count": 8,
   "metadata": {},
   "outputs": [
    {
     "output_type": "execute_result",
     "data": {
      "text/plain": "arts           False\nscience        False\ncommerce       False\nenglish        False\neducation      False\n               ...  \nsciences        True\narthroscopy     True\nfull time       True\ntechnician      True\nchemstry        True\nName: course name, Length: 296, dtype: bool"
     },
     "metadata": {},
     "execution_count": 8
    }
   ],
   "source": [
    "filt = df['course name'].value_counts()<5\n",
    "filt"
   ]
  },
  {
   "cell_type": "code",
   "execution_count": 10,
   "metadata": {},
   "outputs": [
    {
     "output_type": "execute_result",
     "data": {
      "text/plain": "physical education      True\ninformation subjects    True\nmech                    True\nbpt                     True\nleather design          True\n                        ... \nsciences                True\narthroscopy             True\nfull time               True\ntechnician              True\nchemstry                True\nName: course name, Length: 214, dtype: bool"
     },
     "metadata": {},
     "execution_count": 10
    }
   ],
   "source": [
    "filt = filt[filt]\n",
    "filt"
   ]
  },
  {
   "cell_type": "code",
   "execution_count": 12,
   "metadata": {},
   "outputs": [
    {
     "output_type": "execute_result",
     "data": {
      "text/plain": "['physical education',\n 'information subjects',\n 'mech',\n 'bpt',\n 'leather design',\n 'applied sc.',\n 'tool & die making',\n 'korean',\n 'electros & communicationnic',\n 'computer engg with specialization in cloud computing.',\n 'electrical and electronics engineering',\n 'chemical',\n 'mechanical engg.',\n 'electronics and instrumentation',\n 'environment',\n 'data structure',\n 'instrumentation engineering',\n 'electronics and communication',\n 'civil engg',\n 'agriculture',\n 'computer architecture',\n 'pathology',\n 'refactoring',\n 'engg. & tech.',\n 'database',\n 'fashion communication',\n 'mechanical related subjects',\n 'electronics & communication engineering',\n 'electrical engg',\n 'tm',\n 'admistrator',\n 'bjmc',\n 'cmmerce',\n 'bcom (general)',\n 'rasshastra evum bhaisgya kalpana',\n 'dcp',\n 'i.t',\n 'co-operation',\n 'medicine',\n 'yes',\n 'master of computer application',\n 'bcom computer',\n 'b.com.',\n 'anaesthesiology',\n 'politics',\n 'bsc mpe',\n 'electronics & comm. engg.',\n 'b.b.m',\n 'bsc bzc',\n 'bca',\n 'electronics & comm engg',\n 'hons.',\n 'sahitya',\n 'bbi',\n 'administration services',\n 'computers (ug)',\n 'all subjects',\n 'applied science & humanities',\n 'computer engg',\n '3 year ll.b course',\n 'civit',\n 'res',\n 'bcom finance and taxation',\n 'mobile communication',\n 'vocational',\n 'travel tourism & hospitality management',\n 'english literature',\n 'professional  accounting',\n 'saskrit',\n 'digital electronics',\n 'b.sc-m.p.c',\n 'electronics engineering',\n 'co',\n 'comp(em)',\n 'corporate secaratoryship',\n 'comp science',\n 'music vocal',\n 'mca 2nd shift',\n 'science(bzc)',\n 'm.i.l',\n 'jain darshan',\n 'bcom marketing',\n 'b.com (p)',\n 'eep',\n 'software computer science',\n 'diploma',\n 'community medicine',\n 'diploma in computer engineering',\n 'deee',\n 'electronics & communication engineeering',\n 'pol-science',\n 'btzc',\n 'computers',\n 'kayachikitsa',\n 'industrial microbiology',\n 'gandhian thought',\n 'buisiness administration',\n 'tb & chest',\n 'b.com.(gen.e/m)',\n 'bsc btmc',\n 'discipline',\n 'microbiology-botany-chemistry',\n 'mat',\n 'if',\n 'mangement',\n 'ai & as',\n 'electronic',\n 'c bc bt',\n 'compulsory',\n 'em',\n 'tax procedure and practice',\n 'construction technology',\n 'computer appplication',\n 'social studies',\n 'lab technology',\n 'aero dynamics',\n 'hcl',\n 'international business',\n 'mba 2nd shift',\n 'it cs',\n 'transportation engineering',\n 'molecular virology',\n 'mass relation',\n 'quality assurance',\n 'fibre optics and communication',\n 'history & archeology',\n 'biochemistry',\n 'civil and environmental engineering',\n 'msc cs',\n 'cad/cam',\n 'communication and signal processing',\n 'drugs and pharmaceuticals',\n 'english geography',\n 'm.com',\n 'spl. education',\n 'automobile engineering',\n 'computational mathematics',\n 'm.sc chemistry(analytical chemistry)',\n 'electro nics and commun ications enginee ring',\n 'medical surgical nursing',\n 'pharmacognosy',\n 'digital communicati ons',\n 'mpharmacypa',\n 'dharmashastra',\n 'git',\n 'vlsi design and signal processing',\n 'infra structural engineering',\n 'dance-parangat',\n 'thermal power engineering',\n 'dmrd',\n 'arts/commerce/science/maths',\n 'science arts',\n 'd.el.ed',\n 'math chemistry',\n 'btc 2013',\n 'polotical',\n 'chmistry',\n 'political sc',\n 'btc-2012',\n 'material science and engineering',\n 'special education (h.i.)',\n 'environmental engg.',\n 'mpharmacy',\n 'data science',\n 'veterinary epidemiology & preventive medicine',\n 'information security',\n 'computer integrated manufacturing',\n 'scientific computing',\n 'power & energy systems',\n 'nuclear science & engineering',\n 'social work',\n 'vlsi',\n 'architecture',\n 'co-education',\n 'nano science & technology',\n 'electronics & communication engg.  with specialization in  vlsi design & embedded systems',\n 'pharmaceutics',\n 'social science',\n 'b.ed.',\n 'physical science',\n 'nutrition & dietetics',\n 'd.ed',\n 'taalvadya-parichay',\n 'power systems engineering',\n 'structural engineering',\n 'construction technology and management',\n '(biotechnology))',\n 'bio technology',\n 'lib. & info sci',\n 'dcl',\n 'arts/science',\n 'computer science (lateral entry)',\n 'statistics',\n 'pgdca',\n 'environmental science',\n 'home sc. food & nutrition',\n 'jmc',\n 'aih',\n 'pg.diploma',\n 'library and information',\n 'b.ed',\n 'biological sciences',\n 'humanities and social science (h',\n 'aqua culture',\n 'library',\n 'library & information & science',\n 'school of management',\n 'punjabi',\n 'physical edu.',\n 'sciences',\n 'arthroscopy',\n 'full time',\n 'technician',\n 'chemstry']"
     },
     "metadata": {},
     "execution_count": 12
    }
   ],
   "source": [
    "fil_l = list(filt.index)\n",
    "fil_l\n"
   ]
  },
  {
   "cell_type": "code",
   "execution_count": 13,
   "metadata": {},
   "outputs": [
    {
     "output_type": "execute_result",
     "data": {
      "text/plain": "           id  year           course name   status\n0     2777729     1               science  allowed\n1     2777730     2               science  allowed\n2     2777765     1                  arts  allowed\n3     2777766     2                  arts  allowed\n4     2777785     1                   mba  allowed\n...       ...   ...                   ...      ...\n1995  2796805     3  computer application  allowed\n1996  2796812     1               nursing  allowed\n1997  2796813     2               nursing  allowed\n1998  2796814     3               nursing  allowed\n1999  2796815     4               nursing  allowed\n\n[2000 rows x 4 columns]",
      "text/html": "<div>\n<style scoped>\n    .dataframe tbody tr th:only-of-type {\n        vertical-align: middle;\n    }\n\n    .dataframe tbody tr th {\n        vertical-align: top;\n    }\n\n    .dataframe thead th {\n        text-align: right;\n    }\n</style>\n<table border=\"1\" class=\"dataframe\">\n  <thead>\n    <tr style=\"text-align: right;\">\n      <th></th>\n      <th>id</th>\n      <th>year</th>\n      <th>course name</th>\n      <th>status</th>\n    </tr>\n  </thead>\n  <tbody>\n    <tr>\n      <th>0</th>\n      <td>2777729</td>\n      <td>1</td>\n      <td>science</td>\n      <td>allowed</td>\n    </tr>\n    <tr>\n      <th>1</th>\n      <td>2777730</td>\n      <td>2</td>\n      <td>science</td>\n      <td>allowed</td>\n    </tr>\n    <tr>\n      <th>2</th>\n      <td>2777765</td>\n      <td>1</td>\n      <td>arts</td>\n      <td>allowed</td>\n    </tr>\n    <tr>\n      <th>3</th>\n      <td>2777766</td>\n      <td>2</td>\n      <td>arts</td>\n      <td>allowed</td>\n    </tr>\n    <tr>\n      <th>4</th>\n      <td>2777785</td>\n      <td>1</td>\n      <td>mba</td>\n      <td>allowed</td>\n    </tr>\n    <tr>\n      <th>...</th>\n      <td>...</td>\n      <td>...</td>\n      <td>...</td>\n      <td>...</td>\n    </tr>\n    <tr>\n      <th>1995</th>\n      <td>2796805</td>\n      <td>3</td>\n      <td>computer application</td>\n      <td>allowed</td>\n    </tr>\n    <tr>\n      <th>1996</th>\n      <td>2796812</td>\n      <td>1</td>\n      <td>nursing</td>\n      <td>allowed</td>\n    </tr>\n    <tr>\n      <th>1997</th>\n      <td>2796813</td>\n      <td>2</td>\n      <td>nursing</td>\n      <td>allowed</td>\n    </tr>\n    <tr>\n      <th>1998</th>\n      <td>2796814</td>\n      <td>3</td>\n      <td>nursing</td>\n      <td>allowed</td>\n    </tr>\n    <tr>\n      <th>1999</th>\n      <td>2796815</td>\n      <td>4</td>\n      <td>nursing</td>\n      <td>allowed</td>\n    </tr>\n  </tbody>\n</table>\n<p>2000 rows × 4 columns</p>\n</div>"
     },
     "metadata": {},
     "execution_count": 13
    }
   ],
   "source": [
    "for val in fil_list:\n",
    "    # print(val)\n",
    "    df.loc[df['course name']==val,'status']='not allowed'\n",
    "df"
   ]
  },
  {
   "cell_type": "code",
   "execution_count": null,
   "metadata": {},
   "outputs": [],
   "source": []
  }
 ]
}