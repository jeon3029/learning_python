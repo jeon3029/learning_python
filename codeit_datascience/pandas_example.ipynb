{
 "metadata": {
  "language_info": {
   "codemirror_mode": {
    "name": "ipython",
    "version": 3
   },
   "file_extension": ".py",
   "mimetype": "text/x-python",
   "name": "python",
   "nbconvert_exporter": "python",
   "pygments_lexer": "ipython3",
   "version": "3.6.9-final"
  },
  "orig_nbformat": 2,
  "kernelspec": {
   "name": "python_defaultSpec_1600130502064",
   "display_name": "Python 3.6.9 64-bit"
  }
 },
 "nbformat": 4,
 "nbformat_minor": 2,
 "cells": [
  {
   "cell_type": "code",
   "execution_count": 3,
   "metadata": {},
   "outputs": [],
   "source": [
    "import pandas as pd\n",
    "import numpy as np\n"
   ]
  },
  {
   "cell_type": "code",
   "execution_count": 4,
   "metadata": {},
   "outputs": [],
   "source": [
    "two_dimentional_list = [['dongwook',50,86],['sineio',89,31],['ikjoong',68,91],['yoonsoo',88,75]]"
   ]
  },
  {
   "cell_type": "code",
   "execution_count": 7,
   "metadata": {},
   "outputs": [
    {
     "output_type": "execute_result",
     "data": {
      "text/plain": "       name  eng_score  math_score\na  dongwook         50          86\nb    sineio         89          31\nc   ikjoong         68          91\nd   yoonsoo         88          75",
      "text/html": "<div>\n<style scoped>\n    .dataframe tbody tr th:only-of-type {\n        vertical-align: middle;\n    }\n\n    .dataframe tbody tr th {\n        vertical-align: top;\n    }\n\n    .dataframe thead th {\n        text-align: right;\n    }\n</style>\n<table border=\"1\" class=\"dataframe\">\n  <thead>\n    <tr style=\"text-align: right;\">\n      <th></th>\n      <th>name</th>\n      <th>eng_score</th>\n      <th>math_score</th>\n    </tr>\n  </thead>\n  <tbody>\n    <tr>\n      <th>a</th>\n      <td>dongwook</td>\n      <td>50</td>\n      <td>86</td>\n    </tr>\n    <tr>\n      <th>b</th>\n      <td>sineio</td>\n      <td>89</td>\n      <td>31</td>\n    </tr>\n    <tr>\n      <th>c</th>\n      <td>ikjoong</td>\n      <td>68</td>\n      <td>91</td>\n    </tr>\n    <tr>\n      <th>d</th>\n      <td>yoonsoo</td>\n      <td>88</td>\n      <td>75</td>\n    </tr>\n  </tbody>\n</table>\n</div>"
     },
     "metadata": {},
     "execution_count": 7
    }
   ],
   "source": [
    "my_df = pd.DataFrame(two_dimentional_list,columns=['name','eng_score','math_score'],index=['a','b','c','d'])\n",
    "my_df"
   ]
  },
  {
   "cell_type": "code",
   "execution_count": 6,
   "metadata": {},
   "outputs": [
    {
     "output_type": "execute_result",
     "data": {
      "text/plain": "pandas.core.frame.DataFrame"
     },
     "metadata": {},
     "execution_count": 6
    }
   ],
   "source": [
    "type(my_df)"
   ]
  },
  {
   "cell_type": "code",
   "execution_count": 8,
   "metadata": {},
   "outputs": [
    {
     "output_type": "execute_result",
     "data": {
      "text/plain": "Index(['name', 'eng_score', 'math_score'], dtype='object')"
     },
     "metadata": {},
     "execution_count": 8
    }
   ],
   "source": [
    "my_df.columns"
   ]
  },
  {
   "cell_type": "code",
   "execution_count": 9,
   "metadata": {},
   "outputs": [
    {
     "output_type": "execute_result",
     "data": {
      "text/plain": "Index(['a', 'b', 'c', 'd'], dtype='object')"
     },
     "metadata": {},
     "execution_count": 9
    }
   ],
   "source": [
    "my_df.index"
   ]
  },
  {
   "cell_type": "code",
   "execution_count": 10,
   "metadata": {},
   "outputs": [
    {
     "output_type": "execute_result",
     "data": {
      "text/plain": "name          object\neng_score      int64\nmath_score     int64\ndtype: object"
     },
     "metadata": {},
     "execution_count": 10
    }
   ],
   "source": [
    "my_df.dtypes"
   ]
  },
  {
   "source": [
    "## From list of lists, array of arrays, list of series"
   ],
   "cell_type": "markdown",
   "metadata": {}
  },
  {
   "cell_type": "code",
   "execution_count": 11,
   "metadata": {
    "tags": []
   },
   "outputs": [
    {
     "output_type": "stream",
     "name": "stdout",
     "text": "0   1   2\n0  dongwook  50  86\n1    sineui  89  31\n2   ikjoong  68  91\n3   yoonsoo  88  75\n"
    }
   ],
   "source": [
    "two_dimensional_list = [['dongwook', 50, 86], ['sineui', 89, 31], ['ikjoong', 68, 91], ['yoonsoo', 88, 75]]\n",
    "two_dimensional_array = np.array(two_dimensional_list)\n",
    "list_of_series = [\n",
    "    pd.Series(['dongwook', 50, 86]), \n",
    "    pd.Series(['sineui', 89, 31]), \n",
    "    pd.Series(['ikjoong', 68, 91]), \n",
    "    pd.Series(['yoonsoo', 88, 75])\n",
    "]\n",
    "\n",
    "# 아래 셋은 모두 동일합니다\n",
    "df1 = pd.DataFrame(two_dimensional_list)\n",
    "df2 = pd.DataFrame(two_dimensional_array)\n",
    "df3 = pd.DataFrame(list_of_series)\n",
    "\n",
    "print(df1)"
   ]
  },
  {
   "source": [
    "## From dict of lists, dict of arrays, dict of series\n"
   ],
   "cell_type": "markdown",
   "metadata": {}
  },
  {
   "cell_type": "code",
   "execution_count": 12,
   "metadata": {
    "tags": []
   },
   "outputs": [
    {
     "output_type": "stream",
     "name": "stdout",
     "text": "name  english_score  math_score\n0  dongwook             50          86\n1    sineui             89          31\n2   ikjoong             68          91\n3   yoonsoo             88          75\n"
    }
   ],
   "source": [
    "names = ['dongwook', 'sineui', 'ikjoong', 'yoonsoo']\n",
    "english_scores = [50, 89, 68, 88]\n",
    "math_scores = [86, 31, 91, 75]\n",
    "\n",
    "dict1 = {\n",
    "    'name': names, \n",
    "    'english_score': english_scores, \n",
    "    'math_score': math_scores\n",
    "}\n",
    "\n",
    "dict2 = {\n",
    "    'name': np.array(names), \n",
    "    'english_score': np.array(english_scores), \n",
    "    'math_score': np.array(math_scores)\n",
    "}\n",
    "\n",
    "dict3 = {\n",
    "    'name': pd.Series(names), \n",
    "    'english_score': pd.Series(english_scores), \n",
    "    'math_score': pd.Series(math_scores)\n",
    "}\n",
    "\n",
    "\n",
    "# 아래 셋은 모두 동일합니다\n",
    "df1 = pd.DataFrame(dict1)\n",
    "df2 = pd.DataFrame(dict2)\n",
    "df3 = pd.DataFrame(dict3)\n",
    "\n",
    "print(df1)"
   ]
  },
  {
   "source": [
    "## From list of dicts\n"
   ],
   "cell_type": "markdown",
   "metadata": {}
  },
  {
   "cell_type": "code",
   "execution_count": 13,
   "metadata": {
    "tags": []
   },
   "outputs": [
    {
     "output_type": "stream",
     "name": "stdout",
     "text": "name  english_score  math_score\n0  dongwook             50          86\n1    sineui             89          31\n2   ikjoong             68          91\n3   yoonsoo             88          75\n"
    }
   ],
   "source": [
    "my_list = [\n",
    "    {'name': 'dongwook', 'english_score': 50, 'math_score': 86},\n",
    "    {'name': 'sineui', 'english_score': 89, 'math_score': 31},\n",
    "    {'name': 'ikjoong', 'english_score': 68, 'math_score': 91},\n",
    "    {'name': 'yoonsoo', 'english_score': 88, 'math_score': 75}\n",
    "]\n",
    "\n",
    "df = pd.DataFrame(my_list)\n",
    "print(df)"
   ]
  },
  {
   "source": [
    "## Datatype"
   ],
   "cell_type": "markdown",
   "metadata": {}
  },
  {
   "cell_type": "code",
   "execution_count": 14,
   "metadata": {
    "tags": []
   },
   "outputs": [
    {
     "output_type": "stream",
     "name": "stdout",
     "text": "name             object\nenglish_score     int64\nmath_score        int64\ndtype: object\n"
    }
   ],
   "source": [
    "two_dimensional_list = [['dongwook', 50, 86], ['sineui', 89, 31], ['ikjoong', 68, 91], ['yoonsoo', 88, 75]]\n",
    "\n",
    "my_df = pd.DataFrame(two_dimensional_list, columns=['name', 'english_score', 'math_score'], index=['a', 'b', 'c', 'd'])\n",
    "\n",
    "print(my_df.dtypes)"
   ]
  },
  {
   "source": [
    "\n",
    "|dtype  | 설명 |\n",
    "|--|--|\n",
    "| int64 | 정수 | \n",
    "|float64\t|소수|   \n",
    "|object|\t텍스트   |\n",
    "|bool|\t불린(참과 거짓)|   \n",
    "|datetime64|\t날짜와 시간 |  \n",
    "|category|\t카테고리   |"
   ],
   "cell_type": "markdown",
   "metadata": {}
  },
  {
   "cell_type": "code",
   "execution_count": 15,
   "metadata": {},
   "outputs": [
    {
     "output_type": "execute_result",
     "data": {
      "text/plain": "      Unnamed: 0         출시일  디스플레이  메모리     출시 버전 Face ID\n0       iPhone 7  2016-09-16    4.7  2GB  iOS 10.0      No\n1  iPhone 7 Plus  2016-09-16    5.5  3GB  iOS 10.0      No\n2       iPhone 8  2017-09-22    4.7  2GB  iOS 11.0      No\n3  iPhone 8 Plus  2017-09-22    5.5  3GB  iOS 11.0      No\n4       iPhone X  2017-11-03    5.8  3GB  iOS 11.1     Yes\n5      iPhone XS  2018-09-21    5.8  4GB  iOS 12.0     Yes\n6  iPhone XS Max  2018-09-21    6.5  4GB  iOS 12.0     Yes",
      "text/html": "<div>\n<style scoped>\n    .dataframe tbody tr th:only-of-type {\n        vertical-align: middle;\n    }\n\n    .dataframe tbody tr th {\n        vertical-align: top;\n    }\n\n    .dataframe thead th {\n        text-align: right;\n    }\n</style>\n<table border=\"1\" class=\"dataframe\">\n  <thead>\n    <tr style=\"text-align: right;\">\n      <th></th>\n      <th>Unnamed: 0</th>\n      <th>출시일</th>\n      <th>디스플레이</th>\n      <th>메모리</th>\n      <th>출시 버전</th>\n      <th>Face ID</th>\n    </tr>\n  </thead>\n  <tbody>\n    <tr>\n      <th>0</th>\n      <td>iPhone 7</td>\n      <td>2016-09-16</td>\n      <td>4.7</td>\n      <td>2GB</td>\n      <td>iOS 10.0</td>\n      <td>No</td>\n    </tr>\n    <tr>\n      <th>1</th>\n      <td>iPhone 7 Plus</td>\n      <td>2016-09-16</td>\n      <td>5.5</td>\n      <td>3GB</td>\n      <td>iOS 10.0</td>\n      <td>No</td>\n    </tr>\n    <tr>\n      <th>2</th>\n      <td>iPhone 8</td>\n      <td>2017-09-22</td>\n      <td>4.7</td>\n      <td>2GB</td>\n      <td>iOS 11.0</td>\n      <td>No</td>\n    </tr>\n    <tr>\n      <th>3</th>\n      <td>iPhone 8 Plus</td>\n      <td>2017-09-22</td>\n      <td>5.5</td>\n      <td>3GB</td>\n      <td>iOS 11.0</td>\n      <td>No</td>\n    </tr>\n    <tr>\n      <th>4</th>\n      <td>iPhone X</td>\n      <td>2017-11-03</td>\n      <td>5.8</td>\n      <td>3GB</td>\n      <td>iOS 11.1</td>\n      <td>Yes</td>\n    </tr>\n    <tr>\n      <th>5</th>\n      <td>iPhone XS</td>\n      <td>2018-09-21</td>\n      <td>5.8</td>\n      <td>4GB</td>\n      <td>iOS 12.0</td>\n      <td>Yes</td>\n    </tr>\n    <tr>\n      <th>6</th>\n      <td>iPhone XS Max</td>\n      <td>2018-09-21</td>\n      <td>6.5</td>\n      <td>4GB</td>\n      <td>iOS 12.0</td>\n      <td>Yes</td>\n    </tr>\n  </tbody>\n</table>\n</div>"
     },
     "metadata": {},
     "execution_count": 15
    }
   ],
   "source": [
    "iphone_df = pd.read_csv('data/iphone.csv')\n",
    "# 첫줄을 헤더로 인식\n",
    "iphone_df\n"
   ]
  },
  {
   "cell_type": "code",
   "execution_count": 16,
   "metadata": {},
   "outputs": [
    {
     "output_type": "execute_result",
     "data": {
      "text/plain": "pandas.core.frame.DataFrame"
     },
     "metadata": {},
     "execution_count": 16
    }
   ],
   "source": [
    "type(iphone_df)"
   ]
  },
  {
   "cell_type": "code",
   "execution_count": 18,
   "metadata": {},
   "outputs": [
    {
     "output_type": "execute_result",
     "data": {
      "text/plain": "                        1      2    3         4        5\n0                                                       \nNaN                   출시일  디스플레이  메모리     출시 버전  Face ID\niPhone 7       2016-09-16    4.7  2GB  iOS 10.0       No\niPhone 7 Plus  2016-09-16    5.5  3GB  iOS 10.0       No\niPhone 8       2017-09-22    4.7  2GB  iOS 11.0       No\niPhone 8 Plus  2017-09-22    5.5  3GB  iOS 11.0       No\niPhone X       2017-11-03    5.8  3GB  iOS 11.1      Yes\niPhone XS      2018-09-21    5.8  4GB  iOS 12.0      Yes\niPhone XS Max  2018-09-21    6.5  4GB  iOS 12.0      Yes",
      "text/html": "<div>\n<style scoped>\n    .dataframe tbody tr th:only-of-type {\n        vertical-align: middle;\n    }\n\n    .dataframe tbody tr th {\n        vertical-align: top;\n    }\n\n    .dataframe thead th {\n        text-align: right;\n    }\n</style>\n<table border=\"1\" class=\"dataframe\">\n  <thead>\n    <tr style=\"text-align: right;\">\n      <th></th>\n      <th>1</th>\n      <th>2</th>\n      <th>3</th>\n      <th>4</th>\n      <th>5</th>\n    </tr>\n    <tr>\n      <th>0</th>\n      <th></th>\n      <th></th>\n      <th></th>\n      <th></th>\n      <th></th>\n    </tr>\n  </thead>\n  <tbody>\n    <tr>\n      <th>NaN</th>\n      <td>출시일</td>\n      <td>디스플레이</td>\n      <td>메모리</td>\n      <td>출시 버전</td>\n      <td>Face ID</td>\n    </tr>\n    <tr>\n      <th>iPhone 7</th>\n      <td>2016-09-16</td>\n      <td>4.7</td>\n      <td>2GB</td>\n      <td>iOS 10.0</td>\n      <td>No</td>\n    </tr>\n    <tr>\n      <th>iPhone 7 Plus</th>\n      <td>2016-09-16</td>\n      <td>5.5</td>\n      <td>3GB</td>\n      <td>iOS 10.0</td>\n      <td>No</td>\n    </tr>\n    <tr>\n      <th>iPhone 8</th>\n      <td>2017-09-22</td>\n      <td>4.7</td>\n      <td>2GB</td>\n      <td>iOS 11.0</td>\n      <td>No</td>\n    </tr>\n    <tr>\n      <th>iPhone 8 Plus</th>\n      <td>2017-09-22</td>\n      <td>5.5</td>\n      <td>3GB</td>\n      <td>iOS 11.0</td>\n      <td>No</td>\n    </tr>\n    <tr>\n      <th>iPhone X</th>\n      <td>2017-11-03</td>\n      <td>5.8</td>\n      <td>3GB</td>\n      <td>iOS 11.1</td>\n      <td>Yes</td>\n    </tr>\n    <tr>\n      <th>iPhone XS</th>\n      <td>2018-09-21</td>\n      <td>5.8</td>\n      <td>4GB</td>\n      <td>iOS 12.0</td>\n      <td>Yes</td>\n    </tr>\n    <tr>\n      <th>iPhone XS Max</th>\n      <td>2018-09-21</td>\n      <td>6.5</td>\n      <td>4GB</td>\n      <td>iOS 12.0</td>\n      <td>Yes</td>\n    </tr>\n  </tbody>\n</table>\n</div>"
     },
     "metadata": {},
     "execution_count": 18
    }
   ],
   "source": [
    "iphone_df = pd.read_csv('data/iphone.csv',header=None,index_col=0) #모두 데이터로 읽고 싶을 때 / 특정 col 을 index로 설정\n",
    "iphone_df"
   ]
  },
  {
   "cell_type": "code",
   "execution_count": null,
   "metadata": {},
   "outputs": [],
   "source": []
  }
 ]
}