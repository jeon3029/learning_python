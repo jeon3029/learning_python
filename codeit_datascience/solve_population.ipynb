{
 "metadata": {
  "language_info": {
   "codemirror_mode": {
    "name": "ipython",
    "version": 3
   },
   "file_extension": ".py",
   "mimetype": "text/x-python",
   "name": "python",
   "nbconvert_exporter": "python",
   "pygments_lexer": "ipython3",
   "version": "3.6.9-final"
  },
  "orig_nbformat": 2,
  "kernelspec": {
   "name": "python_defaultSpec_1600145574402",
   "display_name": "Python 3.6.9 64-bit"
  }
 },
 "nbformat": 4,
 "nbformat_minor": 2,
 "cells": [
  {
   "cell_type": "code",
   "execution_count": 1,
   "metadata": {},
   "outputs": [],
   "source": [
    "import pandas as pd"
   ]
  },
  {
   "cell_type": "code",
   "execution_count": 3,
   "metadata": {},
   "outputs": [
    {
     "output_type": "execute_result",
     "data": {
      "text/plain": "     Unnamed: 0 City / Urban area     Country  Population  Land area (in sqKm)\n0             0      Buenos Aires   Argentina    11200000                 2266\n1             1         Melbourne   Australia     3162000                 2080\n2             2            Sydney   Australia     3502000                 1687\n3             3          Brisbane   Australia     1508000                 1603\n4             4             Perth   Australia     1177000                  964\n..          ...               ...         ...         ...                  ...\n244         245            Canton         USA      267000                  372\n245         246           Spokane         USA      335000                  371\n246         247          Tashkent  Uzbekistan     2200000                  531\n247         248  Ho Chi Minh City     Vietnam     4900000                  518\n248         249            Harare    Zimbabwe     1750000                  712\n\n[249 rows x 5 columns]",
      "text/html": "<div>\n<style scoped>\n    .dataframe tbody tr th:only-of-type {\n        vertical-align: middle;\n    }\n\n    .dataframe tbody tr th {\n        vertical-align: top;\n    }\n\n    .dataframe thead th {\n        text-align: right;\n    }\n</style>\n<table border=\"1\" class=\"dataframe\">\n  <thead>\n    <tr style=\"text-align: right;\">\n      <th></th>\n      <th>Unnamed: 0</th>\n      <th>City / Urban area</th>\n      <th>Country</th>\n      <th>Population</th>\n      <th>Land area (in sqKm)</th>\n    </tr>\n  </thead>\n  <tbody>\n    <tr>\n      <th>0</th>\n      <td>0</td>\n      <td>Buenos Aires</td>\n      <td>Argentina</td>\n      <td>11200000</td>\n      <td>2266</td>\n    </tr>\n    <tr>\n      <th>1</th>\n      <td>1</td>\n      <td>Melbourne</td>\n      <td>Australia</td>\n      <td>3162000</td>\n      <td>2080</td>\n    </tr>\n    <tr>\n      <th>2</th>\n      <td>2</td>\n      <td>Sydney</td>\n      <td>Australia</td>\n      <td>3502000</td>\n      <td>1687</td>\n    </tr>\n    <tr>\n      <th>3</th>\n      <td>3</td>\n      <td>Brisbane</td>\n      <td>Australia</td>\n      <td>1508000</td>\n      <td>1603</td>\n    </tr>\n    <tr>\n      <th>4</th>\n      <td>4</td>\n      <td>Perth</td>\n      <td>Australia</td>\n      <td>1177000</td>\n      <td>964</td>\n    </tr>\n    <tr>\n      <th>...</th>\n      <td>...</td>\n      <td>...</td>\n      <td>...</td>\n      <td>...</td>\n      <td>...</td>\n    </tr>\n    <tr>\n      <th>244</th>\n      <td>245</td>\n      <td>Canton</td>\n      <td>USA</td>\n      <td>267000</td>\n      <td>372</td>\n    </tr>\n    <tr>\n      <th>245</th>\n      <td>246</td>\n      <td>Spokane</td>\n      <td>USA</td>\n      <td>335000</td>\n      <td>371</td>\n    </tr>\n    <tr>\n      <th>246</th>\n      <td>247</td>\n      <td>Tashkent</td>\n      <td>Uzbekistan</td>\n      <td>2200000</td>\n      <td>531</td>\n    </tr>\n    <tr>\n      <th>247</th>\n      <td>248</td>\n      <td>Ho Chi Minh City</td>\n      <td>Vietnam</td>\n      <td>4900000</td>\n      <td>518</td>\n    </tr>\n    <tr>\n      <th>248</th>\n      <td>249</td>\n      <td>Harare</td>\n      <td>Zimbabwe</td>\n      <td>1750000</td>\n      <td>712</td>\n    </tr>\n  </tbody>\n</table>\n<p>249 rows × 5 columns</p>\n</div>"
     },
     "metadata": {},
     "execution_count": 3
    }
   ],
   "source": [
    "df = pd.read_csv('data/world_cities.csv')\n",
    "df\n"
   ]
  },
  {
   "cell_type": "code",
   "execution_count": 4,
   "metadata": {},
   "outputs": [
    {
     "output_type": "execute_result",
     "data": {
      "text/plain": "array(['Argentina', 'Australia', 'Austria', 'Azerbaijan', 'Belgium',\n       'Brazil', 'Cambodia', 'Canada', 'Chile', 'China', 'Colombia',\n       'Congo', 'Denmark', 'Ecuador', 'Egypt', 'Finland', 'France',\n       'Germany', 'Ghana', 'Greece', 'Hungary', 'India', 'Indonesia',\n       'Iran', 'Iraq', 'Ireland', 'Israel', 'Italy', 'Japan', 'Kuwait',\n       'Lebanon', 'Malaysia', 'Mexico', 'Netherlands', 'New Zealand',\n       'Nigeria', 'Pakistan', 'Peru', 'Philippines', 'Poland', 'Portugal',\n       'Puerto Rico', 'Russia', 'Saudi', 'Saudi Arabia', 'Singapore',\n       'South Africa', 'South Korea', 'Spain', 'Sudan', 'Sweden',\n       'Taiwan', 'Thailand', 'Turkey', 'UAE', 'UK', 'Ukraine', 'USA',\n       'Uzbekistan', 'Vietnam', 'Zimbabwe'], dtype=object)"
     },
     "metadata": {},
     "execution_count": 4
    }
   ],
   "source": [
    "df['Country'].unique()"
   ]
  },
  {
   "cell_type": "code",
   "execution_count": 5,
   "metadata": {},
   "outputs": [
    {
     "output_type": "execute_result",
     "data": {
      "text/plain": "count     249\nunique     61\ntop       USA\nfreq      105\nName: Country, dtype: object"
     },
     "metadata": {},
     "execution_count": 5
    }
   ],
   "source": [
    "df['Country'].describe()"
   ]
  },
  {
   "cell_type": "code",
   "execution_count": 6,
   "metadata": {},
   "outputs": [
    {
     "output_type": "execute_result",
     "data": {
      "text/plain": "count                          249\nunique                         249\ntop       Riverside/San Bernardino\nfreq                             1\nName: City / Urban area, dtype: object"
     },
     "metadata": {},
     "execution_count": 6
    }
   ],
   "source": [
    "df['City / Urban area'].describe()\n"
   ]
  },
  {
   "cell_type": "code",
   "execution_count": 10,
   "metadata": {},
   "outputs": [
    {
     "output_type": "execute_result",
     "data": {
      "text/plain": "(19, 5)"
     },
     "metadata": {},
     "execution_count": 10
    }
   ],
   "source": [
    "df[df['Population'] / df['Land area (in sqKm)']>10000].shape"
   ]
  },
  {
   "cell_type": "code",
   "execution_count": 16,
   "metadata": {},
   "outputs": [],
   "source": [
    "df['dense']=df['Population'] / df['Land area (in sqKm)']"
   ]
  },
  {
   "cell_type": "code",
   "execution_count": 17,
   "metadata": {},
   "outputs": [
    {
     "output_type": "execute_result",
     "data": {
      "text/plain": "     Unnamed: 0 City / Urban area   Country  Population  Land area (in sqKm)  \\\n75           75            Mumbai     India    14350000                  484   \n74           74           Kolkata     India    12700000                  531   \n101         101           Karachi  Pakistan     9800000                  518   \n99           99             Lagos   Nigeria    13400000                  738   \n34           34          Shenzhen     China     8000000                  466   \n..          ...               ...       ...         ...                  ...   \n194         195       Chattanooga       USA      344000                  751   \n223         224         Asheville       USA      222000                  536   \n57           57               Pau    France      181000                  450   \n220         221           Hickory       USA      188000                  546   \n196         197   Barnstable Town       USA      244000                  741   \n\n            dense  \n75   29648.760331  \n74   23917.137476  \n101  18918.918919  \n99   18157.181572  \n34   17167.381974  \n..            ...  \n194    458.055925  \n223    414.179104  \n57     402.222222  \n220    344.322344  \n196    329.284750  \n\n[249 rows x 6 columns]",
      "text/html": "<div>\n<style scoped>\n    .dataframe tbody tr th:only-of-type {\n        vertical-align: middle;\n    }\n\n    .dataframe tbody tr th {\n        vertical-align: top;\n    }\n\n    .dataframe thead th {\n        text-align: right;\n    }\n</style>\n<table border=\"1\" class=\"dataframe\">\n  <thead>\n    <tr style=\"text-align: right;\">\n      <th></th>\n      <th>Unnamed: 0</th>\n      <th>City / Urban area</th>\n      <th>Country</th>\n      <th>Population</th>\n      <th>Land area (in sqKm)</th>\n      <th>dense</th>\n    </tr>\n  </thead>\n  <tbody>\n    <tr>\n      <th>75</th>\n      <td>75</td>\n      <td>Mumbai</td>\n      <td>India</td>\n      <td>14350000</td>\n      <td>484</td>\n      <td>29648.760331</td>\n    </tr>\n    <tr>\n      <th>74</th>\n      <td>74</td>\n      <td>Kolkata</td>\n      <td>India</td>\n      <td>12700000</td>\n      <td>531</td>\n      <td>23917.137476</td>\n    </tr>\n    <tr>\n      <th>101</th>\n      <td>101</td>\n      <td>Karachi</td>\n      <td>Pakistan</td>\n      <td>9800000</td>\n      <td>518</td>\n      <td>18918.918919</td>\n    </tr>\n    <tr>\n      <th>99</th>\n      <td>99</td>\n      <td>Lagos</td>\n      <td>Nigeria</td>\n      <td>13400000</td>\n      <td>738</td>\n      <td>18157.181572</td>\n    </tr>\n    <tr>\n      <th>34</th>\n      <td>34</td>\n      <td>Shenzhen</td>\n      <td>China</td>\n      <td>8000000</td>\n      <td>466</td>\n      <td>17167.381974</td>\n    </tr>\n    <tr>\n      <th>...</th>\n      <td>...</td>\n      <td>...</td>\n      <td>...</td>\n      <td>...</td>\n      <td>...</td>\n      <td>...</td>\n    </tr>\n    <tr>\n      <th>194</th>\n      <td>195</td>\n      <td>Chattanooga</td>\n      <td>USA</td>\n      <td>344000</td>\n      <td>751</td>\n      <td>458.055925</td>\n    </tr>\n    <tr>\n      <th>223</th>\n      <td>224</td>\n      <td>Asheville</td>\n      <td>USA</td>\n      <td>222000</td>\n      <td>536</td>\n      <td>414.179104</td>\n    </tr>\n    <tr>\n      <th>57</th>\n      <td>57</td>\n      <td>Pau</td>\n      <td>France</td>\n      <td>181000</td>\n      <td>450</td>\n      <td>402.222222</td>\n    </tr>\n    <tr>\n      <th>220</th>\n      <td>221</td>\n      <td>Hickory</td>\n      <td>USA</td>\n      <td>188000</td>\n      <td>546</td>\n      <td>344.322344</td>\n    </tr>\n    <tr>\n      <th>196</th>\n      <td>197</td>\n      <td>Barnstable Town</td>\n      <td>USA</td>\n      <td>244000</td>\n      <td>741</td>\n      <td>329.284750</td>\n    </tr>\n  </tbody>\n</table>\n<p>249 rows × 6 columns</p>\n</div>"
     },
     "metadata": {},
     "execution_count": 17
    }
   ],
   "source": [
    "df.sort_values(by='dense',ascending=False)"
   ]
  },
  {
   "cell_type": "code",
   "execution_count": 18,
   "metadata": {},
   "outputs": [],
   "source": [
    "country = df['Country'].value_counts()"
   ]
  },
  {
   "cell_type": "code",
   "execution_count": 22,
   "metadata": {},
   "outputs": [
    {
     "output_type": "execute_result",
     "data": {
      "text/plain": "Italy    4\nName: Country, dtype: int64"
     },
     "metadata": {},
     "execution_count": 22
    }
   ],
   "source": [
    "country[country==4]"
   ]
  },
  {
   "cell_type": "code",
   "execution_count": 55,
   "metadata": {},
   "outputs": [
    {
     "output_type": "execute_result",
     "data": {
      "text/plain": "USA         False\nFrance      False\nBrazil      False\nCanada      False\nGermany     False\n            ...  \nThailand     True\nHungary      True\nEgypt        True\nIsrael       True\nIreland      True\nName: Country, Length: 61, dtype: bool"
     },
     "metadata": {},
     "execution_count": 55
    }
   ],
   "source": [
    "\n",
    "filter = df['Country'].value_counts()<5\n",
    "filter"
   ]
  },
  {
   "cell_type": "code",
   "execution_count": 56,
   "metadata": {
    "tags": []
   },
   "outputs": [
    {
     "output_type": "execute_result",
     "data": {
      "text/plain": "Italy           True\nMexico          True\nRussia          True\nSpain           True\nPakistan        True\nPoland          True\nUAE             True\nTurkey          True\nBelgium         True\nCongo           True\nSaudi Arabia    True\nPortugal        True\nTaiwan          True\nPuerto Rico     True\nMalaysia        True\nAzerbaijan      True\nAustria         True\nFinland         True\nVietnam         True\nNigeria         True\nUzbekistan      True\nLebanon         True\nChile           True\nNetherlands     True\nGreece          True\nNew Zealand     True\nIndonesia       True\nPeru            True\nSingapore       True\nKuwait          True\nDenmark         True\nIran            True\nArgentina       True\nColombia        True\nIraq            True\nPhilippines     True\nSouth Korea     True\nGhana           True\nEcuador         True\nSweden          True\nSudan           True\nCambodia        True\nUkraine         True\nZimbabwe        True\nSaudi           True\nThailand        True\nHungary         True\nEgypt           True\nIsrael          True\nIreland         True\nName: Country, dtype: bool"
     },
     "metadata": {},
     "execution_count": 56
    }
   ],
   "source": [
    "filter[filter]"
   ]
  },
  {
   "cell_type": "code",
   "execution_count": 58,
   "metadata": {
    "tags": []
   },
   "outputs": [
    {
     "output_type": "execute_result",
     "data": {
      "text/plain": "['USA',\n 'France',\n 'Brazil',\n 'Canada',\n 'Germany',\n 'South Africa',\n 'Australia',\n 'India',\n 'China',\n 'Japan',\n 'UK',\n 'Italy',\n 'Mexico',\n 'Russia',\n 'Spain',\n 'Pakistan',\n 'Poland',\n 'UAE',\n 'Turkey',\n 'Belgium',\n 'Congo',\n 'Saudi Arabia',\n 'Portugal',\n 'Taiwan',\n 'Puerto Rico',\n 'Malaysia',\n 'Azerbaijan',\n 'Austria',\n 'Finland',\n 'Vietnam',\n 'Nigeria',\n 'Uzbekistan',\n 'Lebanon',\n 'Chile',\n 'Netherlands',\n 'Greece',\n 'New Zealand',\n 'Indonesia',\n 'Peru',\n 'Singapore',\n 'Kuwait',\n 'Denmark',\n 'Iran',\n 'Argentina',\n 'Colombia',\n 'Iraq',\n 'Philippines',\n 'South Korea',\n 'Ghana',\n 'Ecuador',\n 'Sweden',\n 'Sudan',\n 'Cambodia',\n 'Ukraine',\n 'Zimbabwe',\n 'Saudi',\n 'Thailand',\n 'Hungary',\n 'Egypt',\n 'Israel',\n 'Ireland']"
     },
     "metadata": {},
     "execution_count": 58
    }
   ],
   "source": [
    "fil2 = list(filter.index)\n",
    "fil2"
   ]
  },
  {
   "cell_type": "code",
   "execution_count": 50,
   "metadata": {},
   "outputs": [
    {
     "output_type": "execute_result",
     "data": {
      "text/plain": "     Unnamed: 0 City / Urban area     Country  Population  \\\n0             0      Buenos Aires   Argentina    11200000   \n1             1         Melbourne   Australia     3162000   \n2             2            Sydney   Australia     3502000   \n3             3          Brisbane   Australia     1508000   \n4             4             Perth   Australia     1177000   \n..          ...               ...         ...         ...   \n244         245            Canton         USA      267000   \n245         246           Spokane         USA      335000   \n246         247          Tashkent  Uzbekistan     2200000   \n247         248  Ho Chi Minh City     Vietnam     4900000   \n248         249            Harare    Zimbabwe     1750000   \n\n     Land area (in sqKm)        dense  \n0                   2266  4942.630185  \n1                   2080  1520.192308  \n2                   1687  2075.874333  \n3                   1603   940.736120  \n4                    964  1220.954357  \n..                   ...          ...  \n244                  372   717.741935  \n245                  371   902.964960  \n246                  531  4143.126177  \n247                  518  9459.459459  \n248                  712  2457.865169  \n\n[249 rows x 6 columns]",
      "text/html": "<div>\n<style scoped>\n    .dataframe tbody tr th:only-of-type {\n        vertical-align: middle;\n    }\n\n    .dataframe tbody tr th {\n        vertical-align: top;\n    }\n\n    .dataframe thead th {\n        text-align: right;\n    }\n</style>\n<table border=\"1\" class=\"dataframe\">\n  <thead>\n    <tr style=\"text-align: right;\">\n      <th></th>\n      <th>Unnamed: 0</th>\n      <th>City / Urban area</th>\n      <th>Country</th>\n      <th>Population</th>\n      <th>Land area (in sqKm)</th>\n      <th>dense</th>\n    </tr>\n  </thead>\n  <tbody>\n    <tr>\n      <th>0</th>\n      <td>0</td>\n      <td>Buenos Aires</td>\n      <td>Argentina</td>\n      <td>11200000</td>\n      <td>2266</td>\n      <td>4942.630185</td>\n    </tr>\n    <tr>\n      <th>1</th>\n      <td>1</td>\n      <td>Melbourne</td>\n      <td>Australia</td>\n      <td>3162000</td>\n      <td>2080</td>\n      <td>1520.192308</td>\n    </tr>\n    <tr>\n      <th>2</th>\n      <td>2</td>\n      <td>Sydney</td>\n      <td>Australia</td>\n      <td>3502000</td>\n      <td>1687</td>\n      <td>2075.874333</td>\n    </tr>\n    <tr>\n      <th>3</th>\n      <td>3</td>\n      <td>Brisbane</td>\n      <td>Australia</td>\n      <td>1508000</td>\n      <td>1603</td>\n      <td>940.736120</td>\n    </tr>\n    <tr>\n      <th>4</th>\n      <td>4</td>\n      <td>Perth</td>\n      <td>Australia</td>\n      <td>1177000</td>\n      <td>964</td>\n      <td>1220.954357</td>\n    </tr>\n    <tr>\n      <th>...</th>\n      <td>...</td>\n      <td>...</td>\n      <td>...</td>\n      <td>...</td>\n      <td>...</td>\n      <td>...</td>\n    </tr>\n    <tr>\n      <th>244</th>\n      <td>245</td>\n      <td>Canton</td>\n      <td>USA</td>\n      <td>267000</td>\n      <td>372</td>\n      <td>717.741935</td>\n    </tr>\n    <tr>\n      <th>245</th>\n      <td>246</td>\n      <td>Spokane</td>\n      <td>USA</td>\n      <td>335000</td>\n      <td>371</td>\n      <td>902.964960</td>\n    </tr>\n    <tr>\n      <th>246</th>\n      <td>247</td>\n      <td>Tashkent</td>\n      <td>Uzbekistan</td>\n      <td>2200000</td>\n      <td>531</td>\n      <td>4143.126177</td>\n    </tr>\n    <tr>\n      <th>247</th>\n      <td>248</td>\n      <td>Ho Chi Minh City</td>\n      <td>Vietnam</td>\n      <td>4900000</td>\n      <td>518</td>\n      <td>9459.459459</td>\n    </tr>\n    <tr>\n      <th>248</th>\n      <td>249</td>\n      <td>Harare</td>\n      <td>Zimbabwe</td>\n      <td>1750000</td>\n      <td>712</td>\n      <td>2457.865169</td>\n    </tr>\n  </tbody>\n</table>\n<p>249 rows × 6 columns</p>\n</div>"
     },
     "metadata": {},
     "execution_count": 50
    }
   ],
   "source": []
  },
  {
   "cell_type": "code",
   "execution_count": null,
   "metadata": {},
   "outputs": [],
   "source": []
  }
 ]
}