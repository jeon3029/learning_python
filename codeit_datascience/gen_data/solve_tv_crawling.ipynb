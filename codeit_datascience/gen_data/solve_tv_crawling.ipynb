{
 "metadata": {
  "language_info": {
   "codemirror_mode": {
    "name": "ipython",
    "version": 3
   },
   "file_extension": ".py",
   "mimetype": "text/x-python",
   "name": "python",
   "nbconvert_exporter": "python",
   "pygments_lexer": "ipython3",
   "version": "3.6.9-final"
  },
  "orig_nbformat": 2,
  "kernelspec": {
   "name": "python_defaultSpec_1600329426205",
   "display_name": "Python 3.6.9 64-bit"
  }
 },
 "nbformat": 4,
 "nbformat_minor": 2,
 "cells": [
  {
   "cell_type": "code",
   "execution_count": 2,
   "metadata": {},
   "outputs": [],
   "source": [
    "import requests\n"
   ]
  },
  {
   "cell_type": "code",
   "execution_count": 3,
   "metadata": {},
   "outputs": [],
   "source": [
    "rating_pages=[]\n",
    "for year in range(2010,2019):\n",
    "    for month in range(1,13):\n",
    "        for week in range(0,5):\n",
    "            rating_pages += [requests.get('https://workey.codeit.kr/ratings/index?year='+str(year)+'&month='+str(month)+'&weekIndex='+str(week)).text]\n"
   ]
  },
  {
   "cell_type": "code",
   "execution_count": null,
   "metadata": {},
   "outputs": [],
   "source": [
    "print(len(rating_pages)) # 가져온 총 페이지 수 \n",
    "print(rating_pages[0]) # 첫 번째 페이지의 HTML 코드"
   ]
  }
 ]
}