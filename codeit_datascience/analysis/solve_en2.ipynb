{
 "metadata": {
  "language_info": {
   "codemirror_mode": {
    "name": "ipython",
    "version": 3
   },
   "file_extension": ".py",
   "mimetype": "text/x-python",
   "name": "python",
   "nbconvert_exporter": "python",
   "pygments_lexer": "ipython3",
   "version": "3.8.6-final"
  },
  "orig_nbformat": 2,
  "kernelspec": {
   "name": "Python 3.8.6 64-bit",
   "display_name": "Python 3.8.6 64-bit",
   "metadata": {
    "interpreter": {
     "hash": "aee8b7b246df8f9039afb4144a1f6fd8d2ca17a180786b69acc140d282b71a49"
    }
   }
  }
 },
 "nbformat": 4,
 "nbformat_minor": 2,
 "cells": [
  {
   "cell_type": "code",
   "execution_count": 1,
   "metadata": {},
   "outputs": [],
   "source": [
    "import pandas as pd\n",
    "\n",
    "df = pd.read_csv('data/enrollment2.csv')"
   ]
  },
  {
   "cell_type": "code",
   "execution_count": 2,
   "metadata": {},
   "outputs": [
    {
     "output_type": "execute_result",
     "data": {
      "text/plain": [
       "           id  year           course name   status\n",
       "0     2777729     1               science  allowed\n",
       "1     2777730     2               science  allowed\n",
       "2     2777765     1                  arts  allowed\n",
       "3     2777766     2                  arts  allowed\n",
       "4     2777785     1                   mba  allowed\n",
       "...       ...   ...                   ...      ...\n",
       "1995  2796805     3  computer application  allowed\n",
       "1996  2796812     1               nursing  allowed\n",
       "1997  2796813     2               nursing  allowed\n",
       "1998  2796814     3               nursing  allowed\n",
       "1999  2796815     4               nursing  allowed\n",
       "\n",
       "[2000 rows x 4 columns]"
      ],
      "text/html": "<div>\n<style scoped>\n    .dataframe tbody tr th:only-of-type {\n        vertical-align: middle;\n    }\n\n    .dataframe tbody tr th {\n        vertical-align: top;\n    }\n\n    .dataframe thead th {\n        text-align: right;\n    }\n</style>\n<table border=\"1\" class=\"dataframe\">\n  <thead>\n    <tr style=\"text-align: right;\">\n      <th></th>\n      <th>id</th>\n      <th>year</th>\n      <th>course name</th>\n      <th>status</th>\n    </tr>\n  </thead>\n  <tbody>\n    <tr>\n      <th>0</th>\n      <td>2777729</td>\n      <td>1</td>\n      <td>science</td>\n      <td>allowed</td>\n    </tr>\n    <tr>\n      <th>1</th>\n      <td>2777730</td>\n      <td>2</td>\n      <td>science</td>\n      <td>allowed</td>\n    </tr>\n    <tr>\n      <th>2</th>\n      <td>2777765</td>\n      <td>1</td>\n      <td>arts</td>\n      <td>allowed</td>\n    </tr>\n    <tr>\n      <th>3</th>\n      <td>2777766</td>\n      <td>2</td>\n      <td>arts</td>\n      <td>allowed</td>\n    </tr>\n    <tr>\n      <th>4</th>\n      <td>2777785</td>\n      <td>1</td>\n      <td>mba</td>\n      <td>allowed</td>\n    </tr>\n    <tr>\n      <th>...</th>\n      <td>...</td>\n      <td>...</td>\n      <td>...</td>\n      <td>...</td>\n    </tr>\n    <tr>\n      <th>1995</th>\n      <td>2796805</td>\n      <td>3</td>\n      <td>computer application</td>\n      <td>allowed</td>\n    </tr>\n    <tr>\n      <th>1996</th>\n      <td>2796812</td>\n      <td>1</td>\n      <td>nursing</td>\n      <td>allowed</td>\n    </tr>\n    <tr>\n      <th>1997</th>\n      <td>2796813</td>\n      <td>2</td>\n      <td>nursing</td>\n      <td>allowed</td>\n    </tr>\n    <tr>\n      <th>1998</th>\n      <td>2796814</td>\n      <td>3</td>\n      <td>nursing</td>\n      <td>allowed</td>\n    </tr>\n    <tr>\n      <th>1999</th>\n      <td>2796815</td>\n      <td>4</td>\n      <td>nursing</td>\n      <td>allowed</td>\n    </tr>\n  </tbody>\n</table>\n<p>2000 rows × 4 columns</p>\n</div>"
     },
     "metadata": {},
     "execution_count": 2
    }
   ],
   "source": [
    "df"
   ]
  },
  {
   "cell_type": "code",
   "execution_count": 3,
   "metadata": {},
   "outputs": [
    {
     "output_type": "execute_result",
     "data": {
      "text/plain": [
       "         id  year    course name       status room assignment\n",
       "0   2777729     1        science      allowed             NaN\n",
       "1   2777730     2        science      allowed             NaN\n",
       "2   2777765     1           arts      allowed             NaN\n",
       "3   2777766     2           arts      allowed             NaN\n",
       "4   2777785     1            mba      allowed             NaN\n",
       "5   2777786     2            mba      allowed             NaN\n",
       "6   2777793     1  mba 2nd shift  not allowed    not assigned\n",
       "7   2777794     2  mba 2nd shift  not allowed    not assigned\n",
       "8   2777795     1  mca 2nd shift  not allowed    not assigned\n",
       "9   2777796     2  mca 2nd shift  not allowed    not assigned\n",
       "10  2777797     3  mca 2nd shift  not allowed    not assigned\n",
       "11  2777798     1           bjmc  not allowed    not assigned\n",
       "12  2777799     2           bjmc  not allowed    not assigned\n",
       "13  2777800     3           bjmc  not allowed    not assigned\n",
       "14  2777814     1        history      allowed             NaN\n",
       "15  2777815     2        history      allowed             NaN\n",
       "16  2777837     4      chemistry      allowed             NaN\n",
       "17  2777858     4         botany      allowed             NaN\n",
       "18  2604364     1        history      allowed             NaN\n",
       "19  2604408     3        finance      allowed             NaN"
      ],
      "text/html": "<div>\n<style scoped>\n    .dataframe tbody tr th:only-of-type {\n        vertical-align: middle;\n    }\n\n    .dataframe tbody tr th {\n        vertical-align: top;\n    }\n\n    .dataframe thead th {\n        text-align: right;\n    }\n</style>\n<table border=\"1\" class=\"dataframe\">\n  <thead>\n    <tr style=\"text-align: right;\">\n      <th></th>\n      <th>id</th>\n      <th>year</th>\n      <th>course name</th>\n      <th>status</th>\n      <th>room assignment</th>\n    </tr>\n  </thead>\n  <tbody>\n    <tr>\n      <th>0</th>\n      <td>2777729</td>\n      <td>1</td>\n      <td>science</td>\n      <td>allowed</td>\n      <td>NaN</td>\n    </tr>\n    <tr>\n      <th>1</th>\n      <td>2777730</td>\n      <td>2</td>\n      <td>science</td>\n      <td>allowed</td>\n      <td>NaN</td>\n    </tr>\n    <tr>\n      <th>2</th>\n      <td>2777765</td>\n      <td>1</td>\n      <td>arts</td>\n      <td>allowed</td>\n      <td>NaN</td>\n    </tr>\n    <tr>\n      <th>3</th>\n      <td>2777766</td>\n      <td>2</td>\n      <td>arts</td>\n      <td>allowed</td>\n      <td>NaN</td>\n    </tr>\n    <tr>\n      <th>4</th>\n      <td>2777785</td>\n      <td>1</td>\n      <td>mba</td>\n      <td>allowed</td>\n      <td>NaN</td>\n    </tr>\n    <tr>\n      <th>5</th>\n      <td>2777786</td>\n      <td>2</td>\n      <td>mba</td>\n      <td>allowed</td>\n      <td>NaN</td>\n    </tr>\n    <tr>\n      <th>6</th>\n      <td>2777793</td>\n      <td>1</td>\n      <td>mba 2nd shift</td>\n      <td>not allowed</td>\n      <td>not assigned</td>\n    </tr>\n    <tr>\n      <th>7</th>\n      <td>2777794</td>\n      <td>2</td>\n      <td>mba 2nd shift</td>\n      <td>not allowed</td>\n      <td>not assigned</td>\n    </tr>\n    <tr>\n      <th>8</th>\n      <td>2777795</td>\n      <td>1</td>\n      <td>mca 2nd shift</td>\n      <td>not allowed</td>\n      <td>not assigned</td>\n    </tr>\n    <tr>\n      <th>9</th>\n      <td>2777796</td>\n      <td>2</td>\n      <td>mca 2nd shift</td>\n      <td>not allowed</td>\n      <td>not assigned</td>\n    </tr>\n    <tr>\n      <th>10</th>\n      <td>2777797</td>\n      <td>3</td>\n      <td>mca 2nd shift</td>\n      <td>not allowed</td>\n      <td>not assigned</td>\n    </tr>\n    <tr>\n      <th>11</th>\n      <td>2777798</td>\n      <td>1</td>\n      <td>bjmc</td>\n      <td>not allowed</td>\n      <td>not assigned</td>\n    </tr>\n    <tr>\n      <th>12</th>\n      <td>2777799</td>\n      <td>2</td>\n      <td>bjmc</td>\n      <td>not allowed</td>\n      <td>not assigned</td>\n    </tr>\n    <tr>\n      <th>13</th>\n      <td>2777800</td>\n      <td>3</td>\n      <td>bjmc</td>\n      <td>not allowed</td>\n      <td>not assigned</td>\n    </tr>\n    <tr>\n      <th>14</th>\n      <td>2777814</td>\n      <td>1</td>\n      <td>history</td>\n      <td>allowed</td>\n      <td>NaN</td>\n    </tr>\n    <tr>\n      <th>15</th>\n      <td>2777815</td>\n      <td>2</td>\n      <td>history</td>\n      <td>allowed</td>\n      <td>NaN</td>\n    </tr>\n    <tr>\n      <th>16</th>\n      <td>2777837</td>\n      <td>4</td>\n      <td>chemistry</td>\n      <td>allowed</td>\n      <td>NaN</td>\n    </tr>\n    <tr>\n      <th>17</th>\n      <td>2777858</td>\n      <td>4</td>\n      <td>botany</td>\n      <td>allowed</td>\n      <td>NaN</td>\n    </tr>\n    <tr>\n      <th>18</th>\n      <td>2604364</td>\n      <td>1</td>\n      <td>history</td>\n      <td>allowed</td>\n      <td>NaN</td>\n    </tr>\n    <tr>\n      <th>19</th>\n      <td>2604408</td>\n      <td>3</td>\n      <td>finance</td>\n      <td>allowed</td>\n      <td>NaN</td>\n    </tr>\n  </tbody>\n</table>\n</div>"
     },
     "metadata": {},
     "execution_count": 3
    }
   ],
   "source": [
    "df.loc[df['status']=='not allowed','room assignment']='not assigned'\n",
    "df.head(20)"
   ]
  },
  {
   "cell_type": "code",
   "execution_count": 4,
   "metadata": {},
   "outputs": [
    {
     "output_type": "execute_result",
     "data": {
      "text/plain": [
       "arts                                   158\n",
       "science                                124\n",
       "commerce                               101\n",
       "english                                 56\n",
       "education                               41\n",
       "                                      ... \n",
       "mca                                      5\n",
       "dental                                   5\n",
       "music                                    5\n",
       "building construction and mangement      5\n",
       "nanotechnology                           5\n",
       "Name: course name, Length: 82, dtype: int64"
      ]
     },
     "metadata": {},
     "execution_count": 4
    }
   ],
   "source": [
    "count = df.loc[df['status']!='not allowed','course name'].value_counts()\n",
    "# count = df[(df['status']!='not allowed'),'course name'].value_counts()\n",
    "# count = df['course name'].value_counts()\n",
    "count\n"
   ]
  },
  {
   "cell_type": "code",
   "execution_count": 5,
   "metadata": {},
   "outputs": [
    {
     "output_type": "execute_result",
     "data": {
      "text/plain": [
       "0       True\n",
       "1       True\n",
       "2       True\n",
       "3       True\n",
       "4       True\n",
       "        ... \n",
       "1995    True\n",
       "1996    True\n",
       "1997    True\n",
       "1998    True\n",
       "1999    True\n",
       "Name: status, Length: 2000, dtype: bool"
      ]
     },
     "metadata": {},
     "execution_count": 5
    }
   ],
   "source": [
    "valid = df['status']=='allowed'\n",
    "valid"
   ]
  },
  {
   "cell_type": "code",
   "execution_count": 12,
   "metadata": {
    "tags": []
   },
   "outputs": [],
   "source": [
    "\n",
    "small = (count>=5) & (count<15)\n",
    "small = small[small]\n",
    "small = list(small.index)\n",
    "\n",
    "med = (count<40) & (count>=15)\n",
    "med = med[med]\n",
    "med = list(med.index)\n",
    "\n",
    "large = (count>=40) & (count<80)\n",
    "large = large[large]\n",
    "large = list(large.index)\n",
    "\n",
    "aud = (count>=80)\n",
    "aud = aud[aud]\n",
    "aud = list(aud.index)\n",
    "\n",
    "for val in small:\n",
    "    df.loc[(df['course name']==val)&valid,'room assignment']='Small room'\n",
    "for val in med:\n",
    "    df.loc[(df['course name']==val)&valid,'room assignment']='Medium room'\n",
    "for val in large:\n",
    "    df.loc[(df['course name']==val)&valid,'room assignment']='Large room'\n",
    "for val in aud:\n",
    "    df.loc[(df['course name']==val)&valid,'room assignment']='Auditorium'"
   ]
  },
  {
   "cell_type": "code",
   "execution_count": 13,
   "metadata": {},
   "outputs": [
    {
     "output_type": "execute_result",
     "data": {
      "text/plain": [
       "           id  year           course name   status room assignment\n",
       "0     2777729     1               science  allowed      Auditorium\n",
       "1     2777730     2               science  allowed      Auditorium\n",
       "2     2777765     1                  arts  allowed      Auditorium\n",
       "3     2777766     2                  arts  allowed      Auditorium\n",
       "4     2777785     1                   mba  allowed      Small room\n",
       "...       ...   ...                   ...      ...             ...\n",
       "1995  2796805     3  computer application  allowed     Medium room\n",
       "1996  2796812     1               nursing  allowed     Medium room\n",
       "1997  2796813     2               nursing  allowed     Medium room\n",
       "1998  2796814     3               nursing  allowed     Medium room\n",
       "1999  2796815     4               nursing  allowed     Medium room\n",
       "\n",
       "[2000 rows x 5 columns]"
      ],
      "text/html": "<div>\n<style scoped>\n    .dataframe tbody tr th:only-of-type {\n        vertical-align: middle;\n    }\n\n    .dataframe tbody tr th {\n        vertical-align: top;\n    }\n\n    .dataframe thead th {\n        text-align: right;\n    }\n</style>\n<table border=\"1\" class=\"dataframe\">\n  <thead>\n    <tr style=\"text-align: right;\">\n      <th></th>\n      <th>id</th>\n      <th>year</th>\n      <th>course name</th>\n      <th>status</th>\n      <th>room assignment</th>\n    </tr>\n  </thead>\n  <tbody>\n    <tr>\n      <th>0</th>\n      <td>2777729</td>\n      <td>1</td>\n      <td>science</td>\n      <td>allowed</td>\n      <td>Auditorium</td>\n    </tr>\n    <tr>\n      <th>1</th>\n      <td>2777730</td>\n      <td>2</td>\n      <td>science</td>\n      <td>allowed</td>\n      <td>Auditorium</td>\n    </tr>\n    <tr>\n      <th>2</th>\n      <td>2777765</td>\n      <td>1</td>\n      <td>arts</td>\n      <td>allowed</td>\n      <td>Auditorium</td>\n    </tr>\n    <tr>\n      <th>3</th>\n      <td>2777766</td>\n      <td>2</td>\n      <td>arts</td>\n      <td>allowed</td>\n      <td>Auditorium</td>\n    </tr>\n    <tr>\n      <th>4</th>\n      <td>2777785</td>\n      <td>1</td>\n      <td>mba</td>\n      <td>allowed</td>\n      <td>Small room</td>\n    </tr>\n    <tr>\n      <th>...</th>\n      <td>...</td>\n      <td>...</td>\n      <td>...</td>\n      <td>...</td>\n      <td>...</td>\n    </tr>\n    <tr>\n      <th>1995</th>\n      <td>2796805</td>\n      <td>3</td>\n      <td>computer application</td>\n      <td>allowed</td>\n      <td>Medium room</td>\n    </tr>\n    <tr>\n      <th>1996</th>\n      <td>2796812</td>\n      <td>1</td>\n      <td>nursing</td>\n      <td>allowed</td>\n      <td>Medium room</td>\n    </tr>\n    <tr>\n      <th>1997</th>\n      <td>2796813</td>\n      <td>2</td>\n      <td>nursing</td>\n      <td>allowed</td>\n      <td>Medium room</td>\n    </tr>\n    <tr>\n      <th>1998</th>\n      <td>2796814</td>\n      <td>3</td>\n      <td>nursing</td>\n      <td>allowed</td>\n      <td>Medium room</td>\n    </tr>\n    <tr>\n      <th>1999</th>\n      <td>2796815</td>\n      <td>4</td>\n      <td>nursing</td>\n      <td>allowed</td>\n      <td>Medium room</td>\n    </tr>\n  </tbody>\n</table>\n<p>2000 rows × 5 columns</p>\n</div>"
     },
     "metadata": {},
     "execution_count": 13
    }
   ],
   "source": [
    "df\n"
   ]
  },
  {
   "cell_type": "code",
   "execution_count": 14,
   "metadata": {},
   "outputs": [
    {
     "output_type": "execute_result",
     "data": {
      "text/plain": [
       "           id  year     course name       status room assignment\n",
       "6     2777793     1   mba 2nd shift  not allowed    not assigned\n",
       "7     2777794     2   mba 2nd shift  not allowed    not assigned\n",
       "8     2777795     1   mca 2nd shift  not allowed    not assigned\n",
       "9     2777796     2   mca 2nd shift  not allowed    not assigned\n",
       "10    2777797     3   mca 2nd shift  not allowed    not assigned\n",
       "...       ...   ...             ...          ...             ...\n",
       "1979  2796773     2     music vocal  not allowed    not assigned\n",
       "1980  2796774     3     music vocal  not allowed    not assigned\n",
       "1984  2796786     1  computers (ug)  not allowed    not assigned\n",
       "1985  2796787     2  computers (ug)  not allowed    not assigned\n",
       "1986  2796788     3  computers (ug)  not allowed    not assigned\n",
       "\n",
       "[552 rows x 5 columns]"
      ],
      "text/html": "<div>\n<style scoped>\n    .dataframe tbody tr th:only-of-type {\n        vertical-align: middle;\n    }\n\n    .dataframe tbody tr th {\n        vertical-align: top;\n    }\n\n    .dataframe thead th {\n        text-align: right;\n    }\n</style>\n<table border=\"1\" class=\"dataframe\">\n  <thead>\n    <tr style=\"text-align: right;\">\n      <th></th>\n      <th>id</th>\n      <th>year</th>\n      <th>course name</th>\n      <th>status</th>\n      <th>room assignment</th>\n    </tr>\n  </thead>\n  <tbody>\n    <tr>\n      <th>6</th>\n      <td>2777793</td>\n      <td>1</td>\n      <td>mba 2nd shift</td>\n      <td>not allowed</td>\n      <td>not assigned</td>\n    </tr>\n    <tr>\n      <th>7</th>\n      <td>2777794</td>\n      <td>2</td>\n      <td>mba 2nd shift</td>\n      <td>not allowed</td>\n      <td>not assigned</td>\n    </tr>\n    <tr>\n      <th>8</th>\n      <td>2777795</td>\n      <td>1</td>\n      <td>mca 2nd shift</td>\n      <td>not allowed</td>\n      <td>not assigned</td>\n    </tr>\n    <tr>\n      <th>9</th>\n      <td>2777796</td>\n      <td>2</td>\n      <td>mca 2nd shift</td>\n      <td>not allowed</td>\n      <td>not assigned</td>\n    </tr>\n    <tr>\n      <th>10</th>\n      <td>2777797</td>\n      <td>3</td>\n      <td>mca 2nd shift</td>\n      <td>not allowed</td>\n      <td>not assigned</td>\n    </tr>\n    <tr>\n      <th>...</th>\n      <td>...</td>\n      <td>...</td>\n      <td>...</td>\n      <td>...</td>\n      <td>...</td>\n    </tr>\n    <tr>\n      <th>1979</th>\n      <td>2796773</td>\n      <td>2</td>\n      <td>music vocal</td>\n      <td>not allowed</td>\n      <td>not assigned</td>\n    </tr>\n    <tr>\n      <th>1980</th>\n      <td>2796774</td>\n      <td>3</td>\n      <td>music vocal</td>\n      <td>not allowed</td>\n      <td>not assigned</td>\n    </tr>\n    <tr>\n      <th>1984</th>\n      <td>2796786</td>\n      <td>1</td>\n      <td>computers (ug)</td>\n      <td>not allowed</td>\n      <td>not assigned</td>\n    </tr>\n    <tr>\n      <th>1985</th>\n      <td>2796787</td>\n      <td>2</td>\n      <td>computers (ug)</td>\n      <td>not allowed</td>\n      <td>not assigned</td>\n    </tr>\n    <tr>\n      <th>1986</th>\n      <td>2796788</td>\n      <td>3</td>\n      <td>computers (ug)</td>\n      <td>not allowed</td>\n      <td>not assigned</td>\n    </tr>\n  </tbody>\n</table>\n<p>552 rows × 5 columns</p>\n</div>"
     },
     "metadata": {},
     "execution_count": 14
    }
   ],
   "source": [
    "new =df.loc[df['status']=='not allowed']\n",
    "new"
   ]
  },
  {
   "cell_type": "code",
   "execution_count": null,
   "metadata": {},
   "outputs": [],
   "source": []
  }
 ]
}