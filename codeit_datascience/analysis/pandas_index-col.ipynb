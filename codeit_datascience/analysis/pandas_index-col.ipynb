{
 "metadata": {
  "language_info": {
   "codemirror_mode": {
    "name": "ipython",
    "version": 3
   },
   "file_extension": ".py",
   "mimetype": "text/x-python",
   "name": "python",
   "nbconvert_exporter": "python",
   "pygments_lexer": "ipython3",
   "version": "3.6.9-final"
  },
  "orig_nbformat": 2,
  "kernelspec": {
   "name": "python_defaultSpec_1600142551327",
   "display_name": "Python 3.6.9 64-bit"
  }
 },
 "nbformat": 4,
 "nbformat_minor": 2,
 "cells": [
  {
   "cell_type": "code",
   "execution_count": 1,
   "metadata": {},
   "outputs": [],
   "source": [
    "import pandas as pd\n"
   ]
  },
  {
   "cell_type": "code",
   "execution_count": 18,
   "metadata": {},
   "outputs": [
    {
     "output_type": "execute_result",
     "data": {
      "text/plain": "                Position  Born  Number Nationality\nName                                              \nRoberto Firmino       FW  1991   no. 9      Brazil\nSadio Mane            FW  1992  no. 10     Senegal\nMohamed Salah         FW  1992  no. 11       Egypt\nJoe Gomez             DF  1997  no. 12     England\nAlisson Becker        GK  1992  no. 13      Brazil",
      "text/html": "<div>\n<style scoped>\n    .dataframe tbody tr th:only-of-type {\n        vertical-align: middle;\n    }\n\n    .dataframe tbody tr th {\n        vertical-align: top;\n    }\n\n    .dataframe thead th {\n        text-align: right;\n    }\n</style>\n<table border=\"1\" class=\"dataframe\">\n  <thead>\n    <tr style=\"text-align: right;\">\n      <th></th>\n      <th>Position</th>\n      <th>Born</th>\n      <th>Number</th>\n      <th>Nationality</th>\n    </tr>\n    <tr>\n      <th>Name</th>\n      <th></th>\n      <th></th>\n      <th></th>\n      <th></th>\n    </tr>\n  </thead>\n  <tbody>\n    <tr>\n      <th>Roberto Firmino</th>\n      <td>FW</td>\n      <td>1991</td>\n      <td>no. 9</td>\n      <td>Brazil</td>\n    </tr>\n    <tr>\n      <th>Sadio Mane</th>\n      <td>FW</td>\n      <td>1992</td>\n      <td>no. 10</td>\n      <td>Senegal</td>\n    </tr>\n    <tr>\n      <th>Mohamed Salah</th>\n      <td>FW</td>\n      <td>1992</td>\n      <td>no. 11</td>\n      <td>Egypt</td>\n    </tr>\n    <tr>\n      <th>Joe Gomez</th>\n      <td>DF</td>\n      <td>1997</td>\n      <td>no. 12</td>\n      <td>England</td>\n    </tr>\n    <tr>\n      <th>Alisson Becker</th>\n      <td>GK</td>\n      <td>1992</td>\n      <td>no. 13</td>\n      <td>Brazil</td>\n    </tr>\n  </tbody>\n</table>\n</div>"
     },
     "metadata": {},
     "execution_count": 18
    }
   ],
   "source": [
    "lv_df = pd.read_csv('data/liverpool.csv',index_col = 0)\n",
    "lv_df"
   ]
  },
  {
   "cell_type": "code",
   "execution_count": 15,
   "metadata": {},
   "outputs": [
    {
     "output_type": "execute_result",
     "data": {
      "text/plain": "                Posaaddition  Born  Number Nationality\nName                                                  \nRoberto Firmino           FW  1991   no. 9      Brazil\nSadio Mane                FW  1992  no. 10     Senegal\nMohamed Salah             FW  1992  no. 11       Egypt\nJoe Gomez                 DF  1997  no. 12     England\nAlisson Becker            GK  1992  no. 13      Brazil",
      "text/html": "<div>\n<style scoped>\n    .dataframe tbody tr th:only-of-type {\n        vertical-align: middle;\n    }\n\n    .dataframe tbody tr th {\n        vertical-align: top;\n    }\n\n    .dataframe thead th {\n        text-align: right;\n    }\n</style>\n<table border=\"1\" class=\"dataframe\">\n  <thead>\n    <tr style=\"text-align: right;\">\n      <th></th>\n      <th>Posaaddition</th>\n      <th>Born</th>\n      <th>Number</th>\n      <th>Nationality</th>\n    </tr>\n    <tr>\n      <th>Name</th>\n      <th></th>\n      <th></th>\n      <th></th>\n      <th></th>\n    </tr>\n  </thead>\n  <tbody>\n    <tr>\n      <th>Roberto Firmino</th>\n      <td>FW</td>\n      <td>1991</td>\n      <td>no. 9</td>\n      <td>Brazil</td>\n    </tr>\n    <tr>\n      <th>Sadio Mane</th>\n      <td>FW</td>\n      <td>1992</td>\n      <td>no. 10</td>\n      <td>Senegal</td>\n    </tr>\n    <tr>\n      <th>Mohamed Salah</th>\n      <td>FW</td>\n      <td>1992</td>\n      <td>no. 11</td>\n      <td>Egypt</td>\n    </tr>\n    <tr>\n      <th>Joe Gomez</th>\n      <td>DF</td>\n      <td>1997</td>\n      <td>no. 12</td>\n      <td>England</td>\n    </tr>\n    <tr>\n      <th>Alisson Becker</th>\n      <td>GK</td>\n      <td>1992</td>\n      <td>no. 13</td>\n      <td>Brazil</td>\n    </tr>\n  </tbody>\n</table>\n</div>"
     },
     "metadata": {},
     "execution_count": 15
    }
   ],
   "source": [
    "lv_df.rename(columns={'Position':'Posaaddition'})"
   ]
  },
  {
   "cell_type": "code",
   "execution_count": 17,
   "metadata": {},
   "outputs": [
    {
     "output_type": "execute_result",
     "data": {
      "text/plain": "                Posaaddition  Born  Number Nationality\nName                                                  \nRoberto Firmino           FW  1991   no. 9      Brazil\nSadio Mane                FW  1992  no. 10     Senegal\nMohamed Salah             FW  1992  no. 11       Egypt\nJoe Gomez                 DF  1997  no. 12     England\nAlisson Becker            GK  1992  no. 13      Brazil",
      "text/html": "<div>\n<style scoped>\n    .dataframe tbody tr th:only-of-type {\n        vertical-align: middle;\n    }\n\n    .dataframe tbody tr th {\n        vertical-align: top;\n    }\n\n    .dataframe thead th {\n        text-align: right;\n    }\n</style>\n<table border=\"1\" class=\"dataframe\">\n  <thead>\n    <tr style=\"text-align: right;\">\n      <th></th>\n      <th>Posaaddition</th>\n      <th>Born</th>\n      <th>Number</th>\n      <th>Nationality</th>\n    </tr>\n    <tr>\n      <th>Name</th>\n      <th></th>\n      <th></th>\n      <th></th>\n      <th></th>\n    </tr>\n  </thead>\n  <tbody>\n    <tr>\n      <th>Roberto Firmino</th>\n      <td>FW</td>\n      <td>1991</td>\n      <td>no. 9</td>\n      <td>Brazil</td>\n    </tr>\n    <tr>\n      <th>Sadio Mane</th>\n      <td>FW</td>\n      <td>1992</td>\n      <td>no. 10</td>\n      <td>Senegal</td>\n    </tr>\n    <tr>\n      <th>Mohamed Salah</th>\n      <td>FW</td>\n      <td>1992</td>\n      <td>no. 11</td>\n      <td>Egypt</td>\n    </tr>\n    <tr>\n      <th>Joe Gomez</th>\n      <td>DF</td>\n      <td>1997</td>\n      <td>no. 12</td>\n      <td>England</td>\n    </tr>\n    <tr>\n      <th>Alisson Becker</th>\n      <td>GK</td>\n      <td>1992</td>\n      <td>no. 13</td>\n      <td>Brazil</td>\n    </tr>\n  </tbody>\n</table>\n</div>"
     },
     "metadata": {},
     "execution_count": 17
    }
   ],
   "source": [
    "lv_df.rename(columns={'Position':'Posaaddition'},inplace=True)\n",
    "lv_df"
   ]
  },
  {
   "cell_type": "code",
   "execution_count": 19,
   "metadata": {},
   "outputs": [
    {
     "output_type": "execute_result",
     "data": {
      "text/plain": "                Position  Born  Number Nationality\nPlayer Name                                       \nRoberto Firmino       FW  1991   no. 9      Brazil\nSadio Mane            FW  1992  no. 10     Senegal\nMohamed Salah         FW  1992  no. 11       Egypt\nJoe Gomez             DF  1997  no. 12     England\nAlisson Becker        GK  1992  no. 13      Brazil",
      "text/html": "<div>\n<style scoped>\n    .dataframe tbody tr th:only-of-type {\n        vertical-align: middle;\n    }\n\n    .dataframe tbody tr th {\n        vertical-align: top;\n    }\n\n    .dataframe thead th {\n        text-align: right;\n    }\n</style>\n<table border=\"1\" class=\"dataframe\">\n  <thead>\n    <tr style=\"text-align: right;\">\n      <th></th>\n      <th>Position</th>\n      <th>Born</th>\n      <th>Number</th>\n      <th>Nationality</th>\n    </tr>\n    <tr>\n      <th>Player Name</th>\n      <th></th>\n      <th></th>\n      <th></th>\n      <th></th>\n    </tr>\n  </thead>\n  <tbody>\n    <tr>\n      <th>Roberto Firmino</th>\n      <td>FW</td>\n      <td>1991</td>\n      <td>no. 9</td>\n      <td>Brazil</td>\n    </tr>\n    <tr>\n      <th>Sadio Mane</th>\n      <td>FW</td>\n      <td>1992</td>\n      <td>no. 10</td>\n      <td>Senegal</td>\n    </tr>\n    <tr>\n      <th>Mohamed Salah</th>\n      <td>FW</td>\n      <td>1992</td>\n      <td>no. 11</td>\n      <td>Egypt</td>\n    </tr>\n    <tr>\n      <th>Joe Gomez</th>\n      <td>DF</td>\n      <td>1997</td>\n      <td>no. 12</td>\n      <td>England</td>\n    </tr>\n    <tr>\n      <th>Alisson Becker</th>\n      <td>GK</td>\n      <td>1992</td>\n      <td>no. 13</td>\n      <td>Brazil</td>\n    </tr>\n  </tbody>\n</table>\n</div>"
     },
     "metadata": {},
     "execution_count": 19
    }
   ],
   "source": [
    "lv_df.index.name = 'Player Name'\n",
    "lv_df"
   ]
  },
  {
   "cell_type": "code",
   "execution_count": 20,
   "metadata": {},
   "outputs": [
    {
     "output_type": "execute_result",
     "data": {
      "text/plain": "       Position  Born Nationality\nNumber                           \nno. 9        FW  1991      Brazil\nno. 10       FW  1992     Senegal\nno. 11       FW  1992       Egypt\nno. 12       DF  1997     England\nno. 13       GK  1992      Brazil",
      "text/html": "<div>\n<style scoped>\n    .dataframe tbody tr th:only-of-type {\n        vertical-align: middle;\n    }\n\n    .dataframe tbody tr th {\n        vertical-align: top;\n    }\n\n    .dataframe thead th {\n        text-align: right;\n    }\n</style>\n<table border=\"1\" class=\"dataframe\">\n  <thead>\n    <tr style=\"text-align: right;\">\n      <th></th>\n      <th>Position</th>\n      <th>Born</th>\n      <th>Nationality</th>\n    </tr>\n    <tr>\n      <th>Number</th>\n      <th></th>\n      <th></th>\n      <th></th>\n    </tr>\n  </thead>\n  <tbody>\n    <tr>\n      <th>no. 9</th>\n      <td>FW</td>\n      <td>1991</td>\n      <td>Brazil</td>\n    </tr>\n    <tr>\n      <th>no. 10</th>\n      <td>FW</td>\n      <td>1992</td>\n      <td>Senegal</td>\n    </tr>\n    <tr>\n      <th>no. 11</th>\n      <td>FW</td>\n      <td>1992</td>\n      <td>Egypt</td>\n    </tr>\n    <tr>\n      <th>no. 12</th>\n      <td>DF</td>\n      <td>1997</td>\n      <td>England</td>\n    </tr>\n    <tr>\n      <th>no. 13</th>\n      <td>GK</td>\n      <td>1992</td>\n      <td>Brazil</td>\n    </tr>\n  </tbody>\n</table>\n</div>"
     },
     "metadata": {},
     "execution_count": 20
    }
   ],
   "source": [
    "lv_df.set_index('Number')"
   ]
  },
  {
   "cell_type": "code",
   "execution_count": 21,
   "metadata": {},
   "outputs": [
    {
     "output_type": "execute_result",
     "data": {
      "text/plain": "Index(['Roberto Firmino', 'Sadio Mane', 'Mohamed Salah', 'Joe Gomez',\n       'Alisson Becker'],\n      dtype='object', name='Player Name')"
     },
     "metadata": {},
     "execution_count": 21
    }
   ],
   "source": [
    "lv_df.index"
   ]
  },
  {
   "cell_type": "code",
   "execution_count": 22,
   "metadata": {},
   "outputs": [
    {
     "output_type": "execute_result",
     "data": {
      "text/plain": "       Position  Born Nationality      Player Name\nNumber                                            \nno. 9        FW  1991      Brazil  Roberto Firmino\nno. 10       FW  1992     Senegal       Sadio Mane\nno. 11       FW  1992       Egypt    Mohamed Salah\nno. 12       DF  1997     England        Joe Gomez\nno. 13       GK  1992      Brazil   Alisson Becker",
      "text/html": "<div>\n<style scoped>\n    .dataframe tbody tr th:only-of-type {\n        vertical-align: middle;\n    }\n\n    .dataframe tbody tr th {\n        vertical-align: top;\n    }\n\n    .dataframe thead th {\n        text-align: right;\n    }\n</style>\n<table border=\"1\" class=\"dataframe\">\n  <thead>\n    <tr style=\"text-align: right;\">\n      <th></th>\n      <th>Position</th>\n      <th>Born</th>\n      <th>Nationality</th>\n      <th>Player Name</th>\n    </tr>\n    <tr>\n      <th>Number</th>\n      <th></th>\n      <th></th>\n      <th></th>\n      <th></th>\n    </tr>\n  </thead>\n  <tbody>\n    <tr>\n      <th>no. 9</th>\n      <td>FW</td>\n      <td>1991</td>\n      <td>Brazil</td>\n      <td>Roberto Firmino</td>\n    </tr>\n    <tr>\n      <th>no. 10</th>\n      <td>FW</td>\n      <td>1992</td>\n      <td>Senegal</td>\n      <td>Sadio Mane</td>\n    </tr>\n    <tr>\n      <th>no. 11</th>\n      <td>FW</td>\n      <td>1992</td>\n      <td>Egypt</td>\n      <td>Mohamed Salah</td>\n    </tr>\n    <tr>\n      <th>no. 12</th>\n      <td>DF</td>\n      <td>1997</td>\n      <td>England</td>\n      <td>Joe Gomez</td>\n    </tr>\n    <tr>\n      <th>no. 13</th>\n      <td>GK</td>\n      <td>1992</td>\n      <td>Brazil</td>\n      <td>Alisson Becker</td>\n    </tr>\n  </tbody>\n</table>\n</div>"
     },
     "metadata": {},
     "execution_count": 22
    }
   ],
   "source": [
    "lv_df['Player Name']=lv_df.index\n",
    "lv_df.set_index('Number',inplace=True)\n",
    "# 보통 겹치지 않는 값으로 인덱스 설정\n",
    "lv_df"
   ]
  },
  {
   "cell_type": "code",
   "execution_count": null,
   "metadata": {},
   "outputs": [],
   "source": []
  }
 ]
}