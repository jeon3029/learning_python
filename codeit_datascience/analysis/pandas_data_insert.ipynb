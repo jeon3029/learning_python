{
 "metadata": {
  "language_info": {
   "codemirror_mode": {
    "name": "ipython",
    "version": 3
   },
   "file_extension": ".py",
   "mimetype": "text/x-python",
   "name": "python",
   "nbconvert_exporter": "python",
   "pygments_lexer": "ipython3",
   "version": "3.8.5-final"
  },
  "orig_nbformat": 2,
  "kernelspec": {
   "name": "Python 3.8.5 64-bit",
   "display_name": "Python 3.8.5 64-bit",
   "metadata": {
    "interpreter": {
     "hash": "aee8b7b246df8f9039afb4144a1f6fd8d2ca17a180786b69acc140d282b71a49"
    }
   }
  }
 },
 "nbformat": 4,
 "nbformat_minor": 2,
 "cells": [
  {
   "cell_type": "code",
   "execution_count": 1,
   "metadata": {},
   "outputs": [],
   "source": [
    "import pandas as pd"
   ]
  },
  {
   "cell_type": "code",
   "execution_count": 16,
   "metadata": {},
   "outputs": [
    {
     "output_type": "execute_result",
     "data": {
      "text/plain": [
       "                      출시일  디스플레이  메모리     출시 버전 Face ID\n",
       "iPhone 7       2016-09-16    4.7  2GB  iOS 10.0      No\n",
       "iPhone 7 Plus  2016-09-16    5.5  3GB  iOS 10.0      No\n",
       "iPhone 8       2017-09-22    4.7  2GB  iOS 11.0      No\n",
       "iPhone 8 Plus  2017-09-22    5.5  3GB  iOS 11.0      No\n",
       "iPhone X       2017-11-03    5.8  3GB  iOS 11.1     Yes\n",
       "iPhone XS      2018-09-21    5.8  4GB  iOS 12.0     Yes\n",
       "iPhone XS Max  2018-09-21    6.5  4GB  iOS 12.0     Yes"
      ],
      "text/html": "<div>\n<style scoped>\n    .dataframe tbody tr th:only-of-type {\n        vertical-align: middle;\n    }\n\n    .dataframe tbody tr th {\n        vertical-align: top;\n    }\n\n    .dataframe thead th {\n        text-align: right;\n    }\n</style>\n<table border=\"1\" class=\"dataframe\">\n  <thead>\n    <tr style=\"text-align: right;\">\n      <th></th>\n      <th>출시일</th>\n      <th>디스플레이</th>\n      <th>메모리</th>\n      <th>출시 버전</th>\n      <th>Face ID</th>\n    </tr>\n  </thead>\n  <tbody>\n    <tr>\n      <th>iPhone 7</th>\n      <td>2016-09-16</td>\n      <td>4.7</td>\n      <td>2GB</td>\n      <td>iOS 10.0</td>\n      <td>No</td>\n    </tr>\n    <tr>\n      <th>iPhone 7 Plus</th>\n      <td>2016-09-16</td>\n      <td>5.5</td>\n      <td>3GB</td>\n      <td>iOS 10.0</td>\n      <td>No</td>\n    </tr>\n    <tr>\n      <th>iPhone 8</th>\n      <td>2017-09-22</td>\n      <td>4.7</td>\n      <td>2GB</td>\n      <td>iOS 11.0</td>\n      <td>No</td>\n    </tr>\n    <tr>\n      <th>iPhone 8 Plus</th>\n      <td>2017-09-22</td>\n      <td>5.5</td>\n      <td>3GB</td>\n      <td>iOS 11.0</td>\n      <td>No</td>\n    </tr>\n    <tr>\n      <th>iPhone X</th>\n      <td>2017-11-03</td>\n      <td>5.8</td>\n      <td>3GB</td>\n      <td>iOS 11.1</td>\n      <td>Yes</td>\n    </tr>\n    <tr>\n      <th>iPhone XS</th>\n      <td>2018-09-21</td>\n      <td>5.8</td>\n      <td>4GB</td>\n      <td>iOS 12.0</td>\n      <td>Yes</td>\n    </tr>\n    <tr>\n      <th>iPhone XS Max</th>\n      <td>2018-09-21</td>\n      <td>6.5</td>\n      <td>4GB</td>\n      <td>iOS 12.0</td>\n      <td>Yes</td>\n    </tr>\n  </tbody>\n</table>\n</div>"
     },
     "metadata": {},
     "execution_count": 16
    }
   ],
   "source": [
    "iphone_df = pd.read_csv('data/iphone.csv',index_col=0)\n",
    "iphone_df"
   ]
  },
  {
   "cell_type": "code",
   "execution_count": 4,
   "metadata": {},
   "outputs": [],
   "source": [
    "iphone_df.loc['iPhone 8','메모리']='2.9GB'"
   ]
  },
  {
   "cell_type": "code",
   "execution_count": 5,
   "metadata": {},
   "outputs": [
    {
     "output_type": "execute_result",
     "data": {
      "text/plain": [
       "'2.9GB'"
      ]
     },
     "metadata": {},
     "execution_count": 5
    }
   ],
   "source": [
    "iphone_df.loc['iPhone 8','메모리']"
   ]
  },
  {
   "cell_type": "code",
   "execution_count": 6,
   "metadata": {},
   "outputs": [
    {
     "output_type": "execute_result",
     "data": {
      "text/plain": [
       "출시일        2017-09-22\n",
       "디스플레이             4.7\n",
       "메모리             2.9GB\n",
       "출시 버전        iOS 11.0\n",
       "Face ID            No\n",
       "Name: iPhone 8, dtype: object"
      ]
     },
     "metadata": {},
     "execution_count": 6
    }
   ],
   "source": [
    "iphone_df.loc['iPhone 8']"
   ]
  },
  {
   "cell_type": "code",
   "execution_count": 7,
   "metadata": {},
   "outputs": [],
   "source": [
    "iphone_df.loc['iPhone 8']=['2016-09-22','4.7','2GB','iOS 11-0','No']"
   ]
  },
  {
   "cell_type": "code",
   "execution_count": 8,
   "metadata": {},
   "outputs": [
    {
     "output_type": "execute_result",
     "data": {
      "text/plain": [
       "출시일        2016-09-22\n",
       "디스플레이             4.7\n",
       "메모리               2GB\n",
       "출시 버전        iOS 11-0\n",
       "Face ID            No\n",
       "Name: iPhone 8, dtype: object"
      ]
     },
     "metadata": {},
     "execution_count": 8
    }
   ],
   "source": [
    "iphone_df.loc['iPhone 8']"
   ]
  },
  {
   "cell_type": "code",
   "execution_count": 9,
   "metadata": {},
   "outputs": [],
   "source": [
    "iphone_df.loc[:,'디스플레이']=['4.7 in','4.7 in','4.7 in','4.7 in','4.7 in','5.0 in','4.7 in']"
   ]
  },
  {
   "cell_type": "code",
   "execution_count": 10,
   "metadata": {},
   "outputs": [
    {
     "output_type": "execute_result",
     "data": {
      "text/plain": [
       "iPhone 7         4.7 in\n",
       "iPhone 7 Plus    4.7 in\n",
       "iPhone 8         4.7 in\n",
       "iPhone 8 Plus    4.7 in\n",
       "iPhone X         4.7 in\n",
       "iPhone XS        5.0 in\n",
       "iPhone XS Max    4.7 in\n",
       "Name: 디스플레이, dtype: object"
      ]
     },
     "metadata": {},
     "execution_count": 10
    }
   ],
   "source": [
    "iphone_df['디스플레이']"
   ]
  },
  {
   "cell_type": "code",
   "execution_count": 11,
   "metadata": {},
   "outputs": [
    {
     "output_type": "execute_result",
     "data": {
      "text/plain": [
       "iPhone 7         Yes\n",
       "iPhone 7 Plus    Yes\n",
       "iPhone 8         Yes\n",
       "iPhone 8 Plus    Yes\n",
       "iPhone X         Yes\n",
       "iPhone XS        Yes\n",
       "iPhone XS Max    Yes\n",
       "Name: Face ID, dtype: object"
      ]
     },
     "metadata": {},
     "execution_count": 11
    }
   ],
   "source": [
    "iphone_df['Face ID']=\"Yes\"\n",
    "iphone_df['Face ID']"
   ]
  },
  {
   "source": [
    "## 여러 줄 바꾸기"
   ],
   "cell_type": "markdown",
   "metadata": {}
  },
  {
   "cell_type": "code",
   "execution_count": 12,
   "metadata": {},
   "outputs": [
    {
     "output_type": "execute_result",
     "data": {
      "text/plain": [
       "                      출시일 디스플레이  메모리     출시 버전 Face ID\n",
       "iPhone 7       2016-09-16     x  2GB  iOS 10.0       x\n",
       "iPhone 7 Plus  2016-09-16     x  3GB  iOS 10.0       x\n",
       "iPhone 8       2016-09-22     x  2GB  iOS 11-0       x\n",
       "iPhone 8 Plus  2017-09-22     x  3GB  iOS 11.0       x\n",
       "iPhone X       2017-11-03     x  3GB  iOS 11.1       x\n",
       "iPhone XS      2018-09-21     x  4GB  iOS 12.0       x\n",
       "iPhone XS Max  2018-09-21     x  4GB  iOS 12.0       x"
      ],
      "text/html": "<div>\n<style scoped>\n    .dataframe tbody tr th:only-of-type {\n        vertical-align: middle;\n    }\n\n    .dataframe tbody tr th {\n        vertical-align: top;\n    }\n\n    .dataframe thead th {\n        text-align: right;\n    }\n</style>\n<table border=\"1\" class=\"dataframe\">\n  <thead>\n    <tr style=\"text-align: right;\">\n      <th></th>\n      <th>출시일</th>\n      <th>디스플레이</th>\n      <th>메모리</th>\n      <th>출시 버전</th>\n      <th>Face ID</th>\n    </tr>\n  </thead>\n  <tbody>\n    <tr>\n      <th>iPhone 7</th>\n      <td>2016-09-16</td>\n      <td>x</td>\n      <td>2GB</td>\n      <td>iOS 10.0</td>\n      <td>x</td>\n    </tr>\n    <tr>\n      <th>iPhone 7 Plus</th>\n      <td>2016-09-16</td>\n      <td>x</td>\n      <td>3GB</td>\n      <td>iOS 10.0</td>\n      <td>x</td>\n    </tr>\n    <tr>\n      <th>iPhone 8</th>\n      <td>2016-09-22</td>\n      <td>x</td>\n      <td>2GB</td>\n      <td>iOS 11-0</td>\n      <td>x</td>\n    </tr>\n    <tr>\n      <th>iPhone 8 Plus</th>\n      <td>2017-09-22</td>\n      <td>x</td>\n      <td>3GB</td>\n      <td>iOS 11.0</td>\n      <td>x</td>\n    </tr>\n    <tr>\n      <th>iPhone X</th>\n      <td>2017-11-03</td>\n      <td>x</td>\n      <td>3GB</td>\n      <td>iOS 11.1</td>\n      <td>x</td>\n    </tr>\n    <tr>\n      <th>iPhone XS</th>\n      <td>2018-09-21</td>\n      <td>x</td>\n      <td>4GB</td>\n      <td>iOS 12.0</td>\n      <td>x</td>\n    </tr>\n    <tr>\n      <th>iPhone XS Max</th>\n      <td>2018-09-21</td>\n      <td>x</td>\n      <td>4GB</td>\n      <td>iOS 12.0</td>\n      <td>x</td>\n    </tr>\n  </tbody>\n</table>\n</div>"
     },
     "metadata": {},
     "execution_count": 12
    }
   ],
   "source": [
    "iphone_df[['디스플레이','Face ID']] = 'x'\n",
    "iphone_df"
   ]
  },
  {
   "cell_type": "code",
   "execution_count": 13,
   "metadata": {},
   "outputs": [
    {
     "output_type": "execute_result",
     "data": {
      "text/plain": [
       "                      출시일 디스플레이  메모리     출시 버전 Face ID\n",
       "iPhone 7                0     0    0         0       0\n",
       "iPhone 7 Plus  2016-09-16     x  3GB  iOS 10.0       x\n",
       "iPhone 8                0     0    0         0       0\n",
       "iPhone 8 Plus  2017-09-22     x  3GB  iOS 11.0       x\n",
       "iPhone X       2017-11-03     x  3GB  iOS 11.1       x\n",
       "iPhone XS      2018-09-21     x  4GB  iOS 12.0       x\n",
       "iPhone XS Max  2018-09-21     x  4GB  iOS 12.0       x"
      ],
      "text/html": "<div>\n<style scoped>\n    .dataframe tbody tr th:only-of-type {\n        vertical-align: middle;\n    }\n\n    .dataframe tbody tr th {\n        vertical-align: top;\n    }\n\n    .dataframe thead th {\n        text-align: right;\n    }\n</style>\n<table border=\"1\" class=\"dataframe\">\n  <thead>\n    <tr style=\"text-align: right;\">\n      <th></th>\n      <th>출시일</th>\n      <th>디스플레이</th>\n      <th>메모리</th>\n      <th>출시 버전</th>\n      <th>Face ID</th>\n    </tr>\n  </thead>\n  <tbody>\n    <tr>\n      <th>iPhone 7</th>\n      <td>0</td>\n      <td>0</td>\n      <td>0</td>\n      <td>0</td>\n      <td>0</td>\n    </tr>\n    <tr>\n      <th>iPhone 7 Plus</th>\n      <td>2016-09-16</td>\n      <td>x</td>\n      <td>3GB</td>\n      <td>iOS 10.0</td>\n      <td>x</td>\n    </tr>\n    <tr>\n      <th>iPhone 8</th>\n      <td>0</td>\n      <td>0</td>\n      <td>0</td>\n      <td>0</td>\n      <td>0</td>\n    </tr>\n    <tr>\n      <th>iPhone 8 Plus</th>\n      <td>2017-09-22</td>\n      <td>x</td>\n      <td>3GB</td>\n      <td>iOS 11.0</td>\n      <td>x</td>\n    </tr>\n    <tr>\n      <th>iPhone X</th>\n      <td>2017-11-03</td>\n      <td>x</td>\n      <td>3GB</td>\n      <td>iOS 11.1</td>\n      <td>x</td>\n    </tr>\n    <tr>\n      <th>iPhone XS</th>\n      <td>2018-09-21</td>\n      <td>x</td>\n      <td>4GB</td>\n      <td>iOS 12.0</td>\n      <td>x</td>\n    </tr>\n    <tr>\n      <th>iPhone XS Max</th>\n      <td>2018-09-21</td>\n      <td>x</td>\n      <td>4GB</td>\n      <td>iOS 12.0</td>\n      <td>x</td>\n    </tr>\n  </tbody>\n</table>\n</div>"
     },
     "metadata": {},
     "execution_count": 13
    }
   ],
   "source": [
    "iphone_df.loc[['iPhone 7','iPhone 8'],:]='0'\n",
    "iphone_df"
   ]
  },
  {
   "cell_type": "code",
   "execution_count": 14,
   "metadata": {},
   "outputs": [
    {
     "output_type": "execute_result",
     "data": {
      "text/plain": [
       "                      출시일 디스플레이  메모리     출시 버전 Face ID\n",
       "iPhone 7                x     x    x         x       x\n",
       "iPhone 7 Plus           x     x    x         x       x\n",
       "iPhone 8                x     x    x         x       x\n",
       "iPhone 8 Plus  2017-09-22     x  3GB  iOS 11.0       x\n",
       "iPhone X       2017-11-03     x  3GB  iOS 11.1       x\n",
       "iPhone XS      2018-09-21     x  4GB  iOS 12.0       x\n",
       "iPhone XS Max  2018-09-21     x  4GB  iOS 12.0       x"
      ],
      "text/html": "<div>\n<style scoped>\n    .dataframe tbody tr th:only-of-type {\n        vertical-align: middle;\n    }\n\n    .dataframe tbody tr th {\n        vertical-align: top;\n    }\n\n    .dataframe thead th {\n        text-align: right;\n    }\n</style>\n<table border=\"1\" class=\"dataframe\">\n  <thead>\n    <tr style=\"text-align: right;\">\n      <th></th>\n      <th>출시일</th>\n      <th>디스플레이</th>\n      <th>메모리</th>\n      <th>출시 버전</th>\n      <th>Face ID</th>\n    </tr>\n  </thead>\n  <tbody>\n    <tr>\n      <th>iPhone 7</th>\n      <td>x</td>\n      <td>x</td>\n      <td>x</td>\n      <td>x</td>\n      <td>x</td>\n    </tr>\n    <tr>\n      <th>iPhone 7 Plus</th>\n      <td>x</td>\n      <td>x</td>\n      <td>x</td>\n      <td>x</td>\n      <td>x</td>\n    </tr>\n    <tr>\n      <th>iPhone 8</th>\n      <td>x</td>\n      <td>x</td>\n      <td>x</td>\n      <td>x</td>\n      <td>x</td>\n    </tr>\n    <tr>\n      <th>iPhone 8 Plus</th>\n      <td>2017-09-22</td>\n      <td>x</td>\n      <td>3GB</td>\n      <td>iOS 11.0</td>\n      <td>x</td>\n    </tr>\n    <tr>\n      <th>iPhone X</th>\n      <td>2017-11-03</td>\n      <td>x</td>\n      <td>3GB</td>\n      <td>iOS 11.1</td>\n      <td>x</td>\n    </tr>\n    <tr>\n      <th>iPhone XS</th>\n      <td>2018-09-21</td>\n      <td>x</td>\n      <td>4GB</td>\n      <td>iOS 12.0</td>\n      <td>x</td>\n    </tr>\n    <tr>\n      <th>iPhone XS Max</th>\n      <td>2018-09-21</td>\n      <td>x</td>\n      <td>4GB</td>\n      <td>iOS 12.0</td>\n      <td>x</td>\n    </tr>\n  </tbody>\n</table>\n</div>"
     },
     "metadata": {},
     "execution_count": 14
    }
   ],
   "source": [
    "iphone_df.loc['iPhone 7':'iPhone 8'] = 'x'\n",
    "iphone_df"
   ]
  },
  {
   "cell_type": "code",
   "execution_count": 17,
   "metadata": {},
   "outputs": [
    {
     "output_type": "execute_result",
     "data": {
      "text/plain": [
       "iPhone 7         False\n",
       "iPhone 7 Plus     True\n",
       "iPhone 8         False\n",
       "iPhone 8 Plus     True\n",
       "iPhone X          True\n",
       "iPhone XS         True\n",
       "iPhone XS Max     True\n",
       "Name: 디스플레이, dtype: bool"
      ]
     },
     "metadata": {},
     "execution_count": 17
    }
   ],
   "source": [
    "iphone_df['디스플레이']>5"
   ]
  },
  {
   "cell_type": "code",
   "execution_count": 18,
   "metadata": {},
   "outputs": [
    {
     "output_type": "execute_result",
     "data": {
      "text/plain": [
       "                      출시일 디스플레이  메모리     출시 버전 Face ID\n",
       "iPhone 7       2016-09-16   4.7  2GB  iOS 10.0      No\n",
       "iPhone 7 Plus           p     p    p         p       p\n",
       "iPhone 8       2017-09-22   4.7  2GB  iOS 11.0      No\n",
       "iPhone 8 Plus           p     p    p         p       p\n",
       "iPhone X                p     p    p         p       p\n",
       "iPhone XS               p     p    p         p       p\n",
       "iPhone XS Max           p     p    p         p       p"
      ],
      "text/html": "<div>\n<style scoped>\n    .dataframe tbody tr th:only-of-type {\n        vertical-align: middle;\n    }\n\n    .dataframe tbody tr th {\n        vertical-align: top;\n    }\n\n    .dataframe thead th {\n        text-align: right;\n    }\n</style>\n<table border=\"1\" class=\"dataframe\">\n  <thead>\n    <tr style=\"text-align: right;\">\n      <th></th>\n      <th>출시일</th>\n      <th>디스플레이</th>\n      <th>메모리</th>\n      <th>출시 버전</th>\n      <th>Face ID</th>\n    </tr>\n  </thead>\n  <tbody>\n    <tr>\n      <th>iPhone 7</th>\n      <td>2016-09-16</td>\n      <td>4.7</td>\n      <td>2GB</td>\n      <td>iOS 10.0</td>\n      <td>No</td>\n    </tr>\n    <tr>\n      <th>iPhone 7 Plus</th>\n      <td>p</td>\n      <td>p</td>\n      <td>p</td>\n      <td>p</td>\n      <td>p</td>\n    </tr>\n    <tr>\n      <th>iPhone 8</th>\n      <td>2017-09-22</td>\n      <td>4.7</td>\n      <td>2GB</td>\n      <td>iOS 11.0</td>\n      <td>No</td>\n    </tr>\n    <tr>\n      <th>iPhone 8 Plus</th>\n      <td>p</td>\n      <td>p</td>\n      <td>p</td>\n      <td>p</td>\n      <td>p</td>\n    </tr>\n    <tr>\n      <th>iPhone X</th>\n      <td>p</td>\n      <td>p</td>\n      <td>p</td>\n      <td>p</td>\n      <td>p</td>\n    </tr>\n    <tr>\n      <th>iPhone XS</th>\n      <td>p</td>\n      <td>p</td>\n      <td>p</td>\n      <td>p</td>\n      <td>p</td>\n    </tr>\n    <tr>\n      <th>iPhone XS Max</th>\n      <td>p</td>\n      <td>p</td>\n      <td>p</td>\n      <td>p</td>\n      <td>p</td>\n    </tr>\n  </tbody>\n</table>\n</div>"
     },
     "metadata": {},
     "execution_count": 18
    }
   ],
   "source": [
    "iphone_df.loc[iphone_df['디스플레이']>5] ='p'\n",
    "iphone_df"
   ]
  },
  {
   "cell_type": "code",
   "execution_count": 19,
   "metadata": {},
   "outputs": [
    {
     "output_type": "execute_result",
     "data": {
      "text/plain": [
       "                      출시일 디스플레이  메모리     출시 버전 Face ID\n",
       "iPhone 7       2016-09-16   4.7  2GB  iOS 10.0      No\n",
       "iPhone 7 Plus           p     v    p         p       v\n",
       "iPhone 8       2017-09-22   4.7  2GB  iOS 11.0      No\n",
       "iPhone 8 Plus           p     v    p         p       v\n",
       "iPhone X                p     p    p         p       p\n",
       "iPhone XS               p     p    p         p       p\n",
       "iPhone XS Max           p     p    p         p       p"
      ],
      "text/html": "<div>\n<style scoped>\n    .dataframe tbody tr th:only-of-type {\n        vertical-align: middle;\n    }\n\n    .dataframe tbody tr th {\n        vertical-align: top;\n    }\n\n    .dataframe thead th {\n        text-align: right;\n    }\n</style>\n<table border=\"1\" class=\"dataframe\">\n  <thead>\n    <tr style=\"text-align: right;\">\n      <th></th>\n      <th>출시일</th>\n      <th>디스플레이</th>\n      <th>메모리</th>\n      <th>출시 버전</th>\n      <th>Face ID</th>\n    </tr>\n  </thead>\n  <tbody>\n    <tr>\n      <th>iPhone 7</th>\n      <td>2016-09-16</td>\n      <td>4.7</td>\n      <td>2GB</td>\n      <td>iOS 10.0</td>\n      <td>No</td>\n    </tr>\n    <tr>\n      <th>iPhone 7 Plus</th>\n      <td>p</td>\n      <td>v</td>\n      <td>p</td>\n      <td>p</td>\n      <td>v</td>\n    </tr>\n    <tr>\n      <th>iPhone 8</th>\n      <td>2017-09-22</td>\n      <td>4.7</td>\n      <td>2GB</td>\n      <td>iOS 11.0</td>\n      <td>No</td>\n    </tr>\n    <tr>\n      <th>iPhone 8 Plus</th>\n      <td>p</td>\n      <td>v</td>\n      <td>p</td>\n      <td>p</td>\n      <td>v</td>\n    </tr>\n    <tr>\n      <th>iPhone X</th>\n      <td>p</td>\n      <td>p</td>\n      <td>p</td>\n      <td>p</td>\n      <td>p</td>\n    </tr>\n    <tr>\n      <th>iPhone XS</th>\n      <td>p</td>\n      <td>p</td>\n      <td>p</td>\n      <td>p</td>\n      <td>p</td>\n    </tr>\n    <tr>\n      <th>iPhone XS Max</th>\n      <td>p</td>\n      <td>p</td>\n      <td>p</td>\n      <td>p</td>\n      <td>p</td>\n    </tr>\n  </tbody>\n</table>\n</div>"
     },
     "metadata": {},
     "execution_count": 19
    }
   ],
   "source": [
    "iphone_df.iloc[[1,3],[1,4]] = 'v'\n",
    "iphone_df"
   ]
  },
  {
   "cell_type": "code",
   "execution_count": 20,
   "metadata": {},
   "outputs": [],
   "source": [
    "iphone_df.loc['iPhone XR']=['20','6.1','3GB','iOS 12.0.1','Yes']"
   ]
  },
  {
   "cell_type": "code",
   "execution_count": 21,
   "metadata": {},
   "outputs": [
    {
     "output_type": "execute_result",
     "data": {
      "text/plain": [
       "                      출시일 디스플레이  메모리       출시 버전 Face ID\n",
       "iPhone 7       2016-09-16   4.7  2GB    iOS 10.0      No\n",
       "iPhone 7 Plus           p     v    p           p       v\n",
       "iPhone 8       2017-09-22   4.7  2GB    iOS 11.0      No\n",
       "iPhone 8 Plus           p     v    p           p       v\n",
       "iPhone X                p     p    p           p       p\n",
       "iPhone XS               p     p    p           p       p\n",
       "iPhone XS Max           p     p    p           p       p\n",
       "iPhone XR              20   6.1  3GB  iOS 12.0.1     Yes"
      ],
      "text/html": "<div>\n<style scoped>\n    .dataframe tbody tr th:only-of-type {\n        vertical-align: middle;\n    }\n\n    .dataframe tbody tr th {\n        vertical-align: top;\n    }\n\n    .dataframe thead th {\n        text-align: right;\n    }\n</style>\n<table border=\"1\" class=\"dataframe\">\n  <thead>\n    <tr style=\"text-align: right;\">\n      <th></th>\n      <th>출시일</th>\n      <th>디스플레이</th>\n      <th>메모리</th>\n      <th>출시 버전</th>\n      <th>Face ID</th>\n    </tr>\n  </thead>\n  <tbody>\n    <tr>\n      <th>iPhone 7</th>\n      <td>2016-09-16</td>\n      <td>4.7</td>\n      <td>2GB</td>\n      <td>iOS 10.0</td>\n      <td>No</td>\n    </tr>\n    <tr>\n      <th>iPhone 7 Plus</th>\n      <td>p</td>\n      <td>v</td>\n      <td>p</td>\n      <td>p</td>\n      <td>v</td>\n    </tr>\n    <tr>\n      <th>iPhone 8</th>\n      <td>2017-09-22</td>\n      <td>4.7</td>\n      <td>2GB</td>\n      <td>iOS 11.0</td>\n      <td>No</td>\n    </tr>\n    <tr>\n      <th>iPhone 8 Plus</th>\n      <td>p</td>\n      <td>v</td>\n      <td>p</td>\n      <td>p</td>\n      <td>v</td>\n    </tr>\n    <tr>\n      <th>iPhone X</th>\n      <td>p</td>\n      <td>p</td>\n      <td>p</td>\n      <td>p</td>\n      <td>p</td>\n    </tr>\n    <tr>\n      <th>iPhone XS</th>\n      <td>p</td>\n      <td>p</td>\n      <td>p</td>\n      <td>p</td>\n      <td>p</td>\n    </tr>\n    <tr>\n      <th>iPhone XS Max</th>\n      <td>p</td>\n      <td>p</td>\n      <td>p</td>\n      <td>p</td>\n      <td>p</td>\n    </tr>\n    <tr>\n      <th>iPhone XR</th>\n      <td>20</td>\n      <td>6.1</td>\n      <td>3GB</td>\n      <td>iOS 12.0.1</td>\n      <td>Yes</td>\n    </tr>\n  </tbody>\n</table>\n</div>"
     },
     "metadata": {},
     "execution_count": 21
    }
   ],
   "source": [
    "iphone_df"
   ]
  },
  {
   "cell_type": "code",
   "execution_count": 22,
   "metadata": {},
   "outputs": [
    {
     "output_type": "execute_result",
     "data": {
      "text/plain": [
       "                      출시일 디스플레이  메모리       출시 버전 Face ID    제조사\n",
       "iPhone 7       2016-09-16   4.7  2GB    iOS 10.0      No  Apple\n",
       "iPhone 7 Plus           p     v    p           p       v  Apple\n",
       "iPhone 8       2017-09-22   4.7  2GB    iOS 11.0      No  Apple\n",
       "iPhone 8 Plus           p     v    p           p       v  Apple\n",
       "iPhone X                p     p    p           p       p  Apple\n",
       "iPhone XS               p     p    p           p       p  Apple\n",
       "iPhone XS Max           p     p    p           p       p  Apple\n",
       "iPhone XR              20   6.1  3GB  iOS 12.0.1     Yes  Apple"
      ],
      "text/html": "<div>\n<style scoped>\n    .dataframe tbody tr th:only-of-type {\n        vertical-align: middle;\n    }\n\n    .dataframe tbody tr th {\n        vertical-align: top;\n    }\n\n    .dataframe thead th {\n        text-align: right;\n    }\n</style>\n<table border=\"1\" class=\"dataframe\">\n  <thead>\n    <tr style=\"text-align: right;\">\n      <th></th>\n      <th>출시일</th>\n      <th>디스플레이</th>\n      <th>메모리</th>\n      <th>출시 버전</th>\n      <th>Face ID</th>\n      <th>제조사</th>\n    </tr>\n  </thead>\n  <tbody>\n    <tr>\n      <th>iPhone 7</th>\n      <td>2016-09-16</td>\n      <td>4.7</td>\n      <td>2GB</td>\n      <td>iOS 10.0</td>\n      <td>No</td>\n      <td>Apple</td>\n    </tr>\n    <tr>\n      <th>iPhone 7 Plus</th>\n      <td>p</td>\n      <td>v</td>\n      <td>p</td>\n      <td>p</td>\n      <td>v</td>\n      <td>Apple</td>\n    </tr>\n    <tr>\n      <th>iPhone 8</th>\n      <td>2017-09-22</td>\n      <td>4.7</td>\n      <td>2GB</td>\n      <td>iOS 11.0</td>\n      <td>No</td>\n      <td>Apple</td>\n    </tr>\n    <tr>\n      <th>iPhone 8 Plus</th>\n      <td>p</td>\n      <td>v</td>\n      <td>p</td>\n      <td>p</td>\n      <td>v</td>\n      <td>Apple</td>\n    </tr>\n    <tr>\n      <th>iPhone X</th>\n      <td>p</td>\n      <td>p</td>\n      <td>p</td>\n      <td>p</td>\n      <td>p</td>\n      <td>Apple</td>\n    </tr>\n    <tr>\n      <th>iPhone XS</th>\n      <td>p</td>\n      <td>p</td>\n      <td>p</td>\n      <td>p</td>\n      <td>p</td>\n      <td>Apple</td>\n    </tr>\n    <tr>\n      <th>iPhone XS Max</th>\n      <td>p</td>\n      <td>p</td>\n      <td>p</td>\n      <td>p</td>\n      <td>p</td>\n      <td>Apple</td>\n    </tr>\n    <tr>\n      <th>iPhone XR</th>\n      <td>20</td>\n      <td>6.1</td>\n      <td>3GB</td>\n      <td>iOS 12.0.1</td>\n      <td>Yes</td>\n      <td>Apple</td>\n    </tr>\n  </tbody>\n</table>\n</div>"
     },
     "metadata": {},
     "execution_count": 22
    }
   ],
   "source": [
    "iphone_df['제조사']='Apple'\n",
    "iphone_df"
   ]
  },
  {
   "cell_type": "code",
   "execution_count": 23,
   "metadata": {},
   "outputs": [
    {
     "output_type": "execute_result",
     "data": {
      "text/plain": [
       "                      출시일 디스플레이  메모리     출시 버전 Face ID    제조사\n",
       "iPhone 7       2016-09-16   4.7  2GB  iOS 10.0      No  Apple\n",
       "iPhone 7 Plus           p     v    p         p       v  Apple\n",
       "iPhone 8       2017-09-22   4.7  2GB  iOS 11.0      No  Apple\n",
       "iPhone 8 Plus           p     v    p         p       v  Apple\n",
       "iPhone X                p     p    p         p       p  Apple\n",
       "iPhone XS               p     p    p         p       p  Apple\n",
       "iPhone XS Max           p     p    p         p       p  Apple"
      ],
      "text/html": "<div>\n<style scoped>\n    .dataframe tbody tr th:only-of-type {\n        vertical-align: middle;\n    }\n\n    .dataframe tbody tr th {\n        vertical-align: top;\n    }\n\n    .dataframe thead th {\n        text-align: right;\n    }\n</style>\n<table border=\"1\" class=\"dataframe\">\n  <thead>\n    <tr style=\"text-align: right;\">\n      <th></th>\n      <th>출시일</th>\n      <th>디스플레이</th>\n      <th>메모리</th>\n      <th>출시 버전</th>\n      <th>Face ID</th>\n      <th>제조사</th>\n    </tr>\n  </thead>\n  <tbody>\n    <tr>\n      <th>iPhone 7</th>\n      <td>2016-09-16</td>\n      <td>4.7</td>\n      <td>2GB</td>\n      <td>iOS 10.0</td>\n      <td>No</td>\n      <td>Apple</td>\n    </tr>\n    <tr>\n      <th>iPhone 7 Plus</th>\n      <td>p</td>\n      <td>v</td>\n      <td>p</td>\n      <td>p</td>\n      <td>v</td>\n      <td>Apple</td>\n    </tr>\n    <tr>\n      <th>iPhone 8</th>\n      <td>2017-09-22</td>\n      <td>4.7</td>\n      <td>2GB</td>\n      <td>iOS 11.0</td>\n      <td>No</td>\n      <td>Apple</td>\n    </tr>\n    <tr>\n      <th>iPhone 8 Plus</th>\n      <td>p</td>\n      <td>v</td>\n      <td>p</td>\n      <td>p</td>\n      <td>v</td>\n      <td>Apple</td>\n    </tr>\n    <tr>\n      <th>iPhone X</th>\n      <td>p</td>\n      <td>p</td>\n      <td>p</td>\n      <td>p</td>\n      <td>p</td>\n      <td>Apple</td>\n    </tr>\n    <tr>\n      <th>iPhone XS</th>\n      <td>p</td>\n      <td>p</td>\n      <td>p</td>\n      <td>p</td>\n      <td>p</td>\n      <td>Apple</td>\n    </tr>\n    <tr>\n      <th>iPhone XS Max</th>\n      <td>p</td>\n      <td>p</td>\n      <td>p</td>\n      <td>p</td>\n      <td>p</td>\n      <td>Apple</td>\n    </tr>\n  </tbody>\n</table>\n</div>"
     },
     "metadata": {},
     "execution_count": 23
    }
   ],
   "source": [
    "iphone_df.drop('iPhone XR',axis='index',inplace=False)\n",
    "# inplace 기존 테이블 건드리지 않는다"
   ]
  },
  {
   "cell_type": "code",
   "execution_count": 24,
   "metadata": {},
   "outputs": [
    {
     "output_type": "execute_result",
     "data": {
      "text/plain": [
       "                      출시일 디스플레이  메모리       출시 버전 Face ID\n",
       "iPhone 7       2016-09-16   4.7  2GB    iOS 10.0      No\n",
       "iPhone 7 Plus           p     v    p           p       v\n",
       "iPhone 8       2017-09-22   4.7  2GB    iOS 11.0      No\n",
       "iPhone 8 Plus           p     v    p           p       v\n",
       "iPhone X                p     p    p           p       p\n",
       "iPhone XS               p     p    p           p       p\n",
       "iPhone XS Max           p     p    p           p       p\n",
       "iPhone XR              20   6.1  3GB  iOS 12.0.1     Yes"
      ],
      "text/html": "<div>\n<style scoped>\n    .dataframe tbody tr th:only-of-type {\n        vertical-align: middle;\n    }\n\n    .dataframe tbody tr th {\n        vertical-align: top;\n    }\n\n    .dataframe thead th {\n        text-align: right;\n    }\n</style>\n<table border=\"1\" class=\"dataframe\">\n  <thead>\n    <tr style=\"text-align: right;\">\n      <th></th>\n      <th>출시일</th>\n      <th>디스플레이</th>\n      <th>메모리</th>\n      <th>출시 버전</th>\n      <th>Face ID</th>\n    </tr>\n  </thead>\n  <tbody>\n    <tr>\n      <th>iPhone 7</th>\n      <td>2016-09-16</td>\n      <td>4.7</td>\n      <td>2GB</td>\n      <td>iOS 10.0</td>\n      <td>No</td>\n    </tr>\n    <tr>\n      <th>iPhone 7 Plus</th>\n      <td>p</td>\n      <td>v</td>\n      <td>p</td>\n      <td>p</td>\n      <td>v</td>\n    </tr>\n    <tr>\n      <th>iPhone 8</th>\n      <td>2017-09-22</td>\n      <td>4.7</td>\n      <td>2GB</td>\n      <td>iOS 11.0</td>\n      <td>No</td>\n    </tr>\n    <tr>\n      <th>iPhone 8 Plus</th>\n      <td>p</td>\n      <td>v</td>\n      <td>p</td>\n      <td>p</td>\n      <td>v</td>\n    </tr>\n    <tr>\n      <th>iPhone X</th>\n      <td>p</td>\n      <td>p</td>\n      <td>p</td>\n      <td>p</td>\n      <td>p</td>\n    </tr>\n    <tr>\n      <th>iPhone XS</th>\n      <td>p</td>\n      <td>p</td>\n      <td>p</td>\n      <td>p</td>\n      <td>p</td>\n    </tr>\n    <tr>\n      <th>iPhone XS Max</th>\n      <td>p</td>\n      <td>p</td>\n      <td>p</td>\n      <td>p</td>\n      <td>p</td>\n    </tr>\n    <tr>\n      <th>iPhone XR</th>\n      <td>20</td>\n      <td>6.1</td>\n      <td>3GB</td>\n      <td>iOS 12.0.1</td>\n      <td>Yes</td>\n    </tr>\n  </tbody>\n</table>\n</div>"
     },
     "metadata": {},
     "execution_count": 24
    }
   ],
   "source": [
    "iphone_df.drop('제조사',axis='columns')"
   ]
  },
  {
   "cell_type": "code",
   "execution_count": 25,
   "metadata": {},
   "outputs": [
    {
     "output_type": "execute_result",
     "data": {
      "text/plain": [
       "                      출시일 디스플레이  메모리     출시 버전 Face ID    제조사\n",
       "iPhone 7 Plus           p     v    p         p       v  Apple\n",
       "iPhone 8       2017-09-22   4.7  2GB  iOS 11.0      No  Apple\n",
       "iPhone 8 Plus           p     v    p         p       v  Apple\n",
       "iPhone X                p     p    p         p       p  Apple\n",
       "iPhone XS               p     p    p         p       p  Apple\n",
       "iPhone XS Max           p     p    p         p       p  Apple"
      ],
      "text/html": "<div>\n<style scoped>\n    .dataframe tbody tr th:only-of-type {\n        vertical-align: middle;\n    }\n\n    .dataframe tbody tr th {\n        vertical-align: top;\n    }\n\n    .dataframe thead th {\n        text-align: right;\n    }\n</style>\n<table border=\"1\" class=\"dataframe\">\n  <thead>\n    <tr style=\"text-align: right;\">\n      <th></th>\n      <th>출시일</th>\n      <th>디스플레이</th>\n      <th>메모리</th>\n      <th>출시 버전</th>\n      <th>Face ID</th>\n      <th>제조사</th>\n    </tr>\n  </thead>\n  <tbody>\n    <tr>\n      <th>iPhone 7 Plus</th>\n      <td>p</td>\n      <td>v</td>\n      <td>p</td>\n      <td>p</td>\n      <td>v</td>\n      <td>Apple</td>\n    </tr>\n    <tr>\n      <th>iPhone 8</th>\n      <td>2017-09-22</td>\n      <td>4.7</td>\n      <td>2GB</td>\n      <td>iOS 11.0</td>\n      <td>No</td>\n      <td>Apple</td>\n    </tr>\n    <tr>\n      <th>iPhone 8 Plus</th>\n      <td>p</td>\n      <td>v</td>\n      <td>p</td>\n      <td>p</td>\n      <td>v</td>\n      <td>Apple</td>\n    </tr>\n    <tr>\n      <th>iPhone X</th>\n      <td>p</td>\n      <td>p</td>\n      <td>p</td>\n      <td>p</td>\n      <td>p</td>\n      <td>Apple</td>\n    </tr>\n    <tr>\n      <th>iPhone XS</th>\n      <td>p</td>\n      <td>p</td>\n      <td>p</td>\n      <td>p</td>\n      <td>p</td>\n      <td>Apple</td>\n    </tr>\n    <tr>\n      <th>iPhone XS Max</th>\n      <td>p</td>\n      <td>p</td>\n      <td>p</td>\n      <td>p</td>\n      <td>p</td>\n      <td>Apple</td>\n    </tr>\n  </tbody>\n</table>\n</div>"
     },
     "metadata": {},
     "execution_count": 25
    }
   ],
   "source": [
    "iphone_df.drop(['iPhone 7','iPhone XR'],axis='index',inplace=False)\n",
    "#여러 값 삭제"
   ]
  },
  {
   "cell_type": "code",
   "execution_count": null,
   "metadata": {},
   "outputs": [],
   "source": []
  }
 ]
}